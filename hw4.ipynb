{
 "cells": [
  {
   "cell_type": "markdown",
   "metadata": {},
   "source": [
    "# 10-714 Homework 4\n",
    "\n",
    "In this homework, you will leverage all of the components built in the last three homeworks to solve some modern problems with high performing network structures. We will start by adding a few new ops leveraging our new CPU/CUDA backends. Then, you will implement convolution, and a convolutional neural network to train a classifier on the CIFAR-10 image classification dataset. Then, you will implement recurrent and long-short term memory (LSTM) neural networks, and do word-level prediction language modeling on the Penn Treebank dataset.\n",
    "\n",
    "As always, we will start by copying this notebook and getting the starting code.\n",
    "Reminder: __you must save a copy in drive__."
   ]
  },
  {
   "cell_type": "code",
   "execution_count": null,
   "metadata": {},
   "outputs": [],
   "source": [
    "# Code to set up the assignment\n",
    "from google.colab import drive\n",
    "drive.mount('/content/drive')\n",
    "%cd /content/drive/MyDrive/\n",
    "!mkdir -p 10714\n",
    "%cd /content/drive/MyDrive/10714\n",
    "!git clone https://github.com/dlsys10714/hw4.git\n",
    "%cd /content/drive/MyDrive/10714/hw4\n",
    "\n",
    "!pip3 install --upgrade --no-deps git+https://github.com/dlsys10714/mugrade.git\n",
    "!pip3 install pybind11"
   ]
  },
  {
   "cell_type": "code",
   "execution_count": 1,
   "metadata": {
    "scrolled": false
   },
   "outputs": [
    {
     "name": "stdout",
     "output_type": "stream",
     "text": [
      "-- Found pybind11: /home/ubuntu/anaconda3/envs/mlsys_hw/lib/python3.8/site-packages/pybind11/include (found version \"2.10.1\")\n",
      "-- Found cuda, building cuda backend\n",
      "Tue Nov 29 09:07:59 2022       \n",
      "+-----------------------------------------------------------------------------+\n",
      "| NVIDIA-SMI 450.142.00   Driver Version: 450.142.00   CUDA Version: 11.0     |\n",
      "|-------------------------------+----------------------+----------------------+\n",
      "| GPU  Name        Persistence-M| Bus-Id        Disp.A | Volatile Uncorr. ECC |\n",
      "| Fan  Temp  Perf  Pwr:Usage/Cap|         Memory-Usage | GPU-Util  Compute M. |\n",
      "|                               |                      |               MIG M. |\n",
      "|===============================+======================+======================|\n",
      "|   0  Tesla T4            On   | 00000000:00:1E.0 Off |                    0 |\n",
      "| N/A   26C    P8     9W /  70W |      0MiB / 15109MiB |      0%      Default |\n",
      "|                               |                      |                  N/A |\n",
      "+-------------------------------+----------------------+----------------------+\n",
      "                                                                               \n",
      "+-----------------------------------------------------------------------------+\n",
      "| Processes:                                                                  |\n",
      "|  GPU   GI   CI        PID   Type   Process name                  GPU Memory |\n",
      "|        ID   ID                                                   Usage      |\n",
      "|=============================================================================|\n",
      "|  No running processes found                                                 |\n",
      "+-----------------------------------------------------------------------------+\n",
      "-- Autodetected CUDA architecture(s):  7.5\n",
      "-- Configuring done\n",
      "-- Generating done\n",
      "-- Build files have been written to: /home/ubuntu/repos/mlsys/hw4/build\n",
      "make[1]: Entering directory '/home/ubuntu/repos/mlsys/hw4/build'\n",
      "make[2]: Entering directory '/home/ubuntu/repos/mlsys/hw4/build'\n",
      "make[3]: Entering directory '/home/ubuntu/repos/mlsys/hw4/build'\n",
      "\u001b[35m\u001b[1mConsolidate compiler generated dependencies of target ndarray_backend_cpu\u001b[0m\n",
      "make[3]: Leaving directory '/home/ubuntu/repos/mlsys/hw4/build'\n",
      "make[3]: Entering directory '/home/ubuntu/repos/mlsys/hw4/build'\n",
      "[ 25%] \u001b[32mBuilding CXX object CMakeFiles/ndarray_backend_cpu.dir/src/ndarray_backend_cpu.cc.o\u001b[0m\n",
      "[ 50%] \u001b[32m\u001b[1mLinking CXX shared module ../python/needle/backend_ndarray/ndarray_backend_cpu.cpython-38-x86_64-linux-gnu.so\u001b[0m\n",
      "make[3]: Leaving directory '/home/ubuntu/repos/mlsys/hw4/build'\n",
      "[ 50%] Built target ndarray_backend_cpu\n",
      "make[3]: Entering directory '/home/ubuntu/repos/mlsys/hw4/build'\n",
      "[ 75%] \u001b[34m\u001b[1mBuilding NVCC (Device) object CMakeFiles/ndarray_backend_cuda.dir/src/ndarray_backend_cuda_generated_ndarray_backend_cuda.cu.o\u001b[0m\n",
      "make[3]: Leaving directory '/home/ubuntu/repos/mlsys/hw4/build'\n",
      "make[3]: Entering directory '/home/ubuntu/repos/mlsys/hw4/build'\n",
      "[100%] \u001b[32m\u001b[1mLinking CXX shared module ../python/needle/backend_ndarray/ndarray_backend_cuda.cpython-38-x86_64-linux-gnu.so\u001b[0m\n",
      "make[3]: Leaving directory '/home/ubuntu/repos/mlsys/hw4/build'\n",
      "[100%] Built target ndarray_backend_cuda\n",
      "make[2]: Leaving directory '/home/ubuntu/repos/mlsys/hw4/build'\n",
      "make[1]: Leaving directory '/home/ubuntu/repos/mlsys/hw4/build'\n"
     ]
    }
   ],
   "source": [
    "!make"
   ]
  },
  {
   "cell_type": "code",
   "execution_count": 1,
   "metadata": {},
   "outputs": [],
   "source": [
    "import sys\n",
    "sys.path.append('./python')"
   ]
  },
  {
   "cell_type": "code",
   "execution_count": 32,
   "metadata": {},
   "outputs": [],
   "source": [
    "# Download the datasets you will be using for this assignment\n",
    "\n",
    "import urllib.request\n",
    "import os\n",
    "\n",
    "!mkdir -p './data/ptb'\n",
    "# Download Penn Treebank dataset\n",
    "ptb_data = \"https://raw.githubusercontent.com/wojzaremba/lstm/master/data/ptb.\"\n",
    "for f in ['train.txt', 'test.txt', 'valid.txt']:\n",
    "    if not os.path.exists(os.path.join('./data/ptb', f)):\n",
    "        urllib.request.urlretrieve(ptb_data + f, os.path.join('./data/ptb', f))\n",
    "\n",
    "# Download CIFAR-10 dataset\n",
    "if not os.path.isdir(\"./data/cifar-10-batches-py\"):\n",
    "    urllib.request.urlretrieve(\"https://www.cs.toronto.edu/~kriz/cifar-10-python.tar.gz\", \"./data/cifar-10-python.tar.gz\")\n",
    "    !tar -xvzf './data/cifar-10-python.tar.gz' -C './data'"
   ]
  },
  {
   "cell_type": "markdown",
   "metadata": {},
   "source": [
    "To finish setting up the assignment, go ahead and fill in all the code in `python/needle/autograd.py` using your solution code from the previous homework."
   ]
  },
  {
   "cell_type": "markdown",
   "metadata": {},
   "source": [
    "## Part 1: ND Backend [10 pts]\n",
    "\n",
    "Fill in the following classes in `python/needle/ops.py`:\n",
    "\n",
    "- `PowerScalar`\n",
    "- `EWiseDiv`\n",
    "- `DivScalar`\n",
    "- `Transpose`\n",
    "- `Reshape`\n",
    "- `BroadcastTo`\n",
    "- `Summation`\n",
    "- `MatMul`\n",
    "- `Negate`\n",
    "- `Log`\n",
    "- `Exp`\n",
    "- `ReLU`\n",
    "- `LogSumExp`\n",
    "- `Tanh` (new)\n",
    "- `Stack` (new)\n",
    "- `Split` (new)\n",
    "\n",
    "Note that for most of these, you already wrote the solutions in the previous homework and you should not need to change your previous solution, however `TanhOp`, `Stack`, and `Split` are newly added. `Stack` concatenates same-sized tensors along a new axis, and `Split` undoes this operation. The gradients of the two operations can be written in terms of each other. We do not directly test `Split`, and only test the backward pass of `Stack` (for which we assume you used `Split`).\n",
    "\n",
    "**Note:** You may want to make your Summation op support sums over multiple axes; you will likely need it for the backward pass of the BroadcastTo op if yours supports broadcasting over multiple axes at a time. However, this is more about ease of use than necessity, and we leave this decision up to you (there are no corresponding tests).\n",
    "\n",
    "**Note:** Depending on your implementations, you may want to ensure that you call `.compact()` before reshaping arrays. (If this is necessary, you will run into corresponding error messages later in the assignment.)"
   ]
  },
  {
   "cell_type": "code",
   "execution_count": 2,
   "metadata": {
    "scrolled": false
   },
   "outputs": [
    {
     "name": "stdout",
     "output_type": "stream",
     "text": [
      "\u001b[1m============================= test session starts ==============================\u001b[0m\n",
      "platform linux -- Python 3.8.13, pytest-7.2.0, pluggy-1.0.0 -- /home/ubuntu/anaconda3/envs/mlsys_hw/bin/python3\n",
      "cachedir: .pytest_cache\n",
      "rootdir: /home/ubuntu/repos/mlsys/hw4\n",
      "plugins: typeguard-2.13.3, anyio-3.6.2\n",
      "collected 1803 items / 1685 deselected / 118 selected                          \u001b[0m\u001b[1m\n",
      "\n",
      "tests/test_nd_backend.py::test_ewise_fn[cpu-shape0-divide] \u001b[32mPASSED\u001b[0m\u001b[32m        [  0%]\u001b[0m\n",
      "tests/test_nd_backend.py::test_ewise_fn[cpu-shape0-subtract] \u001b[32mPASSED\u001b[0m\u001b[32m      [  1%]\u001b[0m\n",
      "tests/test_nd_backend.py::test_ewise_fn[cpu-shape1-divide] \u001b[32mPASSED\u001b[0m\u001b[32m        [  2%]\u001b[0m\n",
      "tests/test_nd_backend.py::test_ewise_fn[cpu-shape1-subtract] \u001b[32mPASSED\u001b[0m\u001b[32m      [  3%]\u001b[0m\n",
      "tests/test_nd_backend.py::test_ewise_fn[cuda-shape0-divide] \u001b[32mPASSED\u001b[0m\u001b[32m       [  4%]\u001b[0m\n",
      "tests/test_nd_backend.py::test_ewise_fn[cuda-shape0-subtract] \u001b[32mPASSED\u001b[0m\u001b[32m     [  5%]\u001b[0m\n",
      "tests/test_nd_backend.py::test_ewise_fn[cuda-shape1-divide] \u001b[32mPASSED\u001b[0m\u001b[32m       [  5%]\u001b[0m\n",
      "tests/test_nd_backend.py::test_ewise_fn[cuda-shape1-subtract] \u001b[32mPASSED\u001b[0m\u001b[32m     [  6%]\u001b[0m\n",
      "tests/test_nd_backend.py::test_scalar_fn[cpu-shape0-divide] \u001b[32mPASSED\u001b[0m\u001b[32m       [  7%]\u001b[0m\n",
      "tests/test_nd_backend.py::test_scalar_fn[cpu-shape0-subtract] \u001b[32mPASSED\u001b[0m\u001b[32m     [  8%]\u001b[0m\n",
      "tests/test_nd_backend.py::test_scalar_fn[cpu-shape1-divide] \u001b[32mPASSED\u001b[0m\u001b[32m       [  9%]\u001b[0m\n",
      "tests/test_nd_backend.py::test_scalar_fn[cpu-shape1-subtract] \u001b[32mPASSED\u001b[0m\u001b[32m     [ 10%]\u001b[0m\n",
      "tests/test_nd_backend.py::test_scalar_fn[cuda-shape0-divide] \u001b[32mPASSED\u001b[0m\u001b[32m      [ 11%]\u001b[0m\n",
      "tests/test_nd_backend.py::test_scalar_fn[cuda-shape0-subtract] \u001b[32mPASSED\u001b[0m\u001b[32m    [ 11%]\u001b[0m\n",
      "tests/test_nd_backend.py::test_scalar_fn[cuda-shape1-divide] \u001b[32mPASSED\u001b[0m\u001b[32m      [ 12%]\u001b[0m\n",
      "tests/test_nd_backend.py::test_scalar_fn[cuda-shape1-subtract] \u001b[32mPASSED\u001b[0m\u001b[32m    [ 13%]\u001b[0m\n",
      "tests/test_nd_backend.py::test_matmul[cpu-16-16-16] \u001b[32mPASSED\u001b[0m\u001b[32m               [ 14%]\u001b[0m\n",
      "tests/test_nd_backend.py::test_matmul[cpu-8-8-8] \u001b[32mPASSED\u001b[0m\u001b[32m                  [ 15%]\u001b[0m\n",
      "tests/test_nd_backend.py::test_matmul[cpu-1-2-3] \u001b[32mPASSED\u001b[0m\u001b[32m                  [ 16%]\u001b[0m\n",
      "tests/test_nd_backend.py::test_matmul[cpu-3-4-5] \u001b[32mPASSED\u001b[0m\u001b[32m                  [ 16%]\u001b[0m\n",
      "tests/test_nd_backend.py::test_matmul[cpu-5-4-3] \u001b[32mPASSED\u001b[0m\u001b[32m                  [ 17%]\u001b[0m\n",
      "tests/test_nd_backend.py::test_matmul[cpu-16-16-32] \u001b[32mPASSED\u001b[0m\u001b[32m               [ 18%]\u001b[0m\n",
      "tests/test_nd_backend.py::test_matmul[cpu-64-64-64] \u001b[32mPASSED\u001b[0m\u001b[32m               [ 19%]\u001b[0m\n",
      "tests/test_nd_backend.py::test_matmul[cpu-72-72-72] \u001b[32mPASSED\u001b[0m\u001b[32m               [ 20%]\u001b[0m\n",
      "tests/test_nd_backend.py::test_matmul[cpu-72-73-74] \u001b[32mPASSED\u001b[0m\u001b[32m               [ 21%]\u001b[0m\n",
      "tests/test_nd_backend.py::test_matmul[cpu-74-73-72] \u001b[32mPASSED\u001b[0m\u001b[32m               [ 22%]\u001b[0m\n",
      "tests/test_nd_backend.py::test_matmul[cpu-128-128-128] \u001b[32mPASSED\u001b[0m\u001b[32m            [ 22%]\u001b[0m\n",
      "tests/test_nd_backend.py::test_matmul[cuda-16-16-16] \u001b[32mPASSED\u001b[0m\u001b[32m              [ 23%]\u001b[0m\n",
      "tests/test_nd_backend.py::test_matmul[cuda-8-8-8] \u001b[32mPASSED\u001b[0m\u001b[32m                 [ 24%]\u001b[0m\n",
      "tests/test_nd_backend.py::test_matmul[cuda-1-2-3] \u001b[32mPASSED\u001b[0m\u001b[32m                 [ 25%]\u001b[0m\n",
      "tests/test_nd_backend.py::test_matmul[cuda-3-4-5] \u001b[32mPASSED\u001b[0m\u001b[32m                 [ 26%]\u001b[0m\n",
      "tests/test_nd_backend.py::test_matmul[cuda-5-4-3] \u001b[32mPASSED\u001b[0m\u001b[32m                 [ 27%]\u001b[0m\n",
      "tests/test_nd_backend.py::test_matmul[cuda-16-16-32] \u001b[32mPASSED\u001b[0m\u001b[32m              [ 27%]\u001b[0m\n",
      "tests/test_nd_backend.py::test_matmul[cuda-64-64-64] \u001b[32mPASSED\u001b[0m\u001b[32m              [ 28%]\u001b[0m\n",
      "tests/test_nd_backend.py::test_matmul[cuda-72-72-72] \u001b[32mPASSED\u001b[0m\u001b[32m              [ 29%]\u001b[0m\n",
      "tests/test_nd_backend.py::test_matmul[cuda-72-73-74] \u001b[32mPASSED\u001b[0m\u001b[32m              [ 30%]\u001b[0m\n",
      "tests/test_nd_backend.py::test_matmul[cuda-74-73-72] \u001b[32mPASSED\u001b[0m\u001b[32m              [ 31%]\u001b[0m\n",
      "tests/test_nd_backend.py::test_matmul[cuda-128-128-128] \u001b[32mPASSED\u001b[0m\u001b[32m           [ 32%]\u001b[0m\n",
      "tests/test_nd_backend.py::test_power[cpu-shape0] \u001b[32mPASSED\u001b[0m\u001b[32m                  [ 33%]\u001b[0m\n",
      "tests/test_nd_backend.py::test_power[cpu-shape1] \u001b[32mPASSED\u001b[0m\u001b[32m                  [ 33%]\u001b[0m\n",
      "tests/test_nd_backend.py::test_power[cuda-shape0] \u001b[32mPASSED\u001b[0m\u001b[32m                 [ 34%]\u001b[0m\n",
      "tests/test_nd_backend.py::test_power[cuda-shape1] \u001b[32mPASSED\u001b[0m\u001b[32m                 [ 35%]\u001b[0m\n",
      "tests/test_nd_backend.py::test_log[cpu-shape0] \u001b[32mPASSED\u001b[0m\u001b[32m                    [ 36%]\u001b[0m\n",
      "tests/test_nd_backend.py::test_log[cpu-shape1] \u001b[32mPASSED\u001b[0m\u001b[32m                    [ 37%]\u001b[0m\n",
      "tests/test_nd_backend.py::test_log[cuda-shape0] \u001b[32mPASSED\u001b[0m\u001b[32m                   [ 38%]\u001b[0m\n",
      "tests/test_nd_backend.py::test_log[cuda-shape1] \u001b[32mPASSED\u001b[0m\u001b[32m                   [ 38%]\u001b[0m\n",
      "tests/test_nd_backend.py::test_exp[cpu-shape0] \u001b[32mPASSED\u001b[0m\u001b[32m                    [ 39%]\u001b[0m\n",
      "tests/test_nd_backend.py::test_exp[cpu-shape1] \u001b[32mPASSED\u001b[0m\u001b[32m                    [ 40%]\u001b[0m\n",
      "tests/test_nd_backend.py::test_exp[cuda-shape0] \u001b[32mPASSED\u001b[0m\u001b[32m                   [ 41%]\u001b[0m\n",
      "tests/test_nd_backend.py::test_exp[cuda-shape1] \u001b[32mPASSED\u001b[0m\u001b[32m                   [ 42%]\u001b[0m\n",
      "tests/test_nd_backend.py::test_relu[cpu-shape0] \u001b[32mPASSED\u001b[0m\u001b[32m                   [ 43%]\u001b[0m\n",
      "tests/test_nd_backend.py::test_relu[cpu-shape1] \u001b[32mPASSED\u001b[0m\u001b[32m                   [ 44%]\u001b[0m\n",
      "tests/test_nd_backend.py::test_relu[cuda-shape0] \u001b[32mPASSED\u001b[0m\u001b[32m                  [ 44%]\u001b[0m\n",
      "tests/test_nd_backend.py::test_relu[cuda-shape1] \u001b[32mPASSED\u001b[0m\u001b[32m                  [ 45%]\u001b[0m\n",
      "tests/test_nd_backend.py::test_tanh[cpu-shape0] \u001b[32mPASSED\u001b[0m\u001b[32m                   [ 46%]\u001b[0m\n",
      "tests/test_nd_backend.py::test_tanh[cpu-shape1] \u001b[32mPASSED\u001b[0m\u001b[32m                   [ 47%]\u001b[0m\n",
      "tests/test_nd_backend.py::test_tanh[cuda-shape0] \u001b[32mPASSED\u001b[0m\u001b[32m                  [ 48%]\u001b[0m\n",
      "tests/test_nd_backend.py::test_tanh[cuda-shape1] \u001b[32mPASSED\u001b[0m\u001b[32m                  [ 49%]\u001b[0m\n",
      "tests/test_nd_backend.py::test_tanh_backward[cpu-shape0] \u001b[32mPASSED\u001b[0m\u001b[32m          [ 50%]\u001b[0m\n",
      "tests/test_nd_backend.py::test_tanh_backward[cpu-shape1] \u001b[32mPASSED\u001b[0m\u001b[32m          [ 50%]\u001b[0m\n",
      "tests/test_nd_backend.py::test_tanh_backward[cuda-shape0] \u001b[32mPASSED\u001b[0m\u001b[32m         [ 51%]\u001b[0m\n",
      "tests/test_nd_backend.py::test_tanh_backward[cuda-shape1] \u001b[32mPASSED\u001b[0m\u001b[32m         [ 52%]\u001b[0m\n",
      "tests/test_nd_backend.py::test_stack[cpu-shape0-0-1] \u001b[32mPASSED\u001b[0m\u001b[32m              [ 53%]\u001b[0m\n",
      "tests/test_nd_backend.py::test_stack[cpu-shape1-0-2] \u001b[32mPASSED\u001b[0m\u001b[32m              [ 54%]\u001b[0m\n",
      "tests/test_nd_backend.py::test_stack[cpu-shape2-2-5] \u001b[32mPASSED\u001b[0m\u001b[32m              [ 55%]\u001b[0m\n",
      "tests/test_nd_backend.py::test_stack[cuda-shape0-0-1] \u001b[32mPASSED\u001b[0m\u001b[32m             [ 55%]\u001b[0m\n",
      "tests/test_nd_backend.py::test_stack[cuda-shape1-0-2] \u001b[32mPASSED\u001b[0m\u001b[32m             [ 56%]\u001b[0m\n",
      "tests/test_nd_backend.py::test_stack[cuda-shape2-2-5] \u001b[32mPASSED\u001b[0m\u001b[32m             [ 57%]\u001b[0m\n",
      "tests/test_nd_backend.py::test_stack_backward[cpu-shape0-0-1] \u001b[32mPASSED\u001b[0m\u001b[32m     [ 58%]\u001b[0m\n",
      "tests/test_nd_backend.py::test_stack_backward[cpu-shape1-0-2] \u001b[32mPASSED\u001b[0m\u001b[32m     [ 59%]\u001b[0m\n",
      "tests/test_nd_backend.py::test_stack_backward[cpu-shape2-2-5] \u001b[32mPASSED\u001b[0m\u001b[32m     [ 60%]\u001b[0m\n",
      "tests/test_nd_backend.py::test_stack_backward[cuda-shape0-0-1] \u001b[32mPASSED\u001b[0m\u001b[32m    [ 61%]\u001b[0m\n",
      "tests/test_nd_backend.py::test_stack_backward[cuda-shape1-0-2] \u001b[32mPASSED\u001b[0m\u001b[32m    [ 61%]\u001b[0m\n",
      "tests/test_nd_backend.py::test_stack_backward[cuda-shape2-2-5] \u001b[32mPASSED\u001b[0m\u001b[32m    [ 62%]\u001b[0m\n",
      "tests/test_nd_backend.py::test_summation[cpu-shape0-None] \u001b[32mPASSED\u001b[0m\u001b[32m         [ 63%]\u001b[0m\n",
      "tests/test_nd_backend.py::test_summation[cpu-shape1-0] \u001b[32mPASSED\u001b[0m\u001b[32m            [ 64%]\u001b[0m\n",
      "tests/test_nd_backend.py::test_summation[cpu-shape2-1] \u001b[32mPASSED\u001b[0m\u001b[32m            [ 65%]\u001b[0m\n",
      "tests/test_nd_backend.py::test_summation[cpu-shape3-2] \u001b[32mPASSED\u001b[0m\u001b[32m            [ 66%]\u001b[0m\n",
      "tests/test_nd_backend.py::test_summation[cuda-shape0-None] \u001b[32mPASSED\u001b[0m\u001b[32m        [ 66%]\u001b[0m\n",
      "tests/test_nd_backend.py::test_summation[cuda-shape1-0] \u001b[32mPASSED\u001b[0m\u001b[32m           [ 67%]\u001b[0m\n",
      "tests/test_nd_backend.py::test_summation[cuda-shape2-1] \u001b[32mPASSED\u001b[0m\u001b[32m           [ 68%]\u001b[0m\n",
      "tests/test_nd_backend.py::test_summation[cuda-shape3-2] \u001b[32mPASSED\u001b[0m\u001b[32m           [ 69%]\u001b[0m\n"
     ]
    },
    {
     "name": "stdout",
     "output_type": "stream",
     "text": [
      "tests/test_nd_backend.py::test_summation_backward[cpu-shape0-None] \u001b[32mPASSED\u001b[0m\u001b[32m [ 70%]\u001b[0m\n",
      "tests/test_nd_backend.py::test_summation_backward[cpu-shape1-0] \u001b[32mPASSED\u001b[0m\u001b[32m   [ 71%]\u001b[0m\n",
      "tests/test_nd_backend.py::test_summation_backward[cpu-shape2-1] \u001b[32mPASSED\u001b[0m\u001b[32m   [ 72%]\u001b[0m\n",
      "tests/test_nd_backend.py::test_summation_backward[cpu-shape3-2] \u001b[32mPASSED\u001b[0m\u001b[32m   [ 72%]\u001b[0m\n",
      "tests/test_nd_backend.py::test_summation_backward[cuda-shape0-None] \u001b[32mPASSED\u001b[0m\u001b[32m [ 73%]\u001b[0m\n",
      "tests/test_nd_backend.py::test_summation_backward[cuda-shape1-0] \u001b[32mPASSED\u001b[0m\u001b[32m  [ 74%]\u001b[0m\n",
      "tests/test_nd_backend.py::test_summation_backward[cuda-shape2-1] \u001b[32mPASSED\u001b[0m\u001b[32m  [ 75%]\u001b[0m\n",
      "tests/test_nd_backend.py::test_summation_backward[cuda-shape3-2] \u001b[32mPASSED\u001b[0m\u001b[32m  [ 76%]\u001b[0m\n",
      "tests/test_nd_backend.py::test_broadcast_to[cpu-shape0-shape_to0] \u001b[32mPASSED\u001b[0m\u001b[32m [ 77%]\u001b[0m\n",
      "tests/test_nd_backend.py::test_broadcast_to[cpu-shape1-shape_to1] \u001b[32mPASSED\u001b[0m\u001b[32m [ 77%]\u001b[0m\n",
      "tests/test_nd_backend.py::test_broadcast_to[cuda-shape0-shape_to0] \u001b[32mPASSED\u001b[0m\u001b[32m [ 78%]\u001b[0m\n",
      "tests/test_nd_backend.py::test_broadcast_to[cuda-shape1-shape_to1] \u001b[32mPASSED\u001b[0m\u001b[32m [ 79%]\u001b[0m\n",
      "tests/test_nd_backend.py::test_reshape[cpu-shape0-shape_to0] \u001b[32mPASSED\u001b[0m\u001b[32m      [ 80%]\u001b[0m\n",
      "tests/test_nd_backend.py::test_reshape[cpu-shape1-shape_to1] \u001b[32mPASSED\u001b[0m\u001b[32m      [ 81%]\u001b[0m\n",
      "tests/test_nd_backend.py::test_reshape[cuda-shape0-shape_to0] \u001b[32mPASSED\u001b[0m\u001b[32m     [ 82%]\u001b[0m\n",
      "tests/test_nd_backend.py::test_reshape[cuda-shape1-shape_to1] \u001b[32mPASSED\u001b[0m\u001b[32m     [ 83%]\u001b[0m\n",
      "tests/test_nd_backend.py::test_transpose[cpu-axes0-shape0] \u001b[32mPASSED\u001b[0m\u001b[32m        [ 83%]\u001b[0m\n",
      "tests/test_nd_backend.py::test_transpose[cpu-axes0-shape1] \u001b[32mPASSED\u001b[0m\u001b[32m        [ 84%]\u001b[0m\n",
      "tests/test_nd_backend.py::test_transpose[cpu-axes1-shape0] \u001b[32mPASSED\u001b[0m\u001b[32m        [ 85%]\u001b[0m\n",
      "tests/test_nd_backend.py::test_transpose[cpu-axes1-shape1] \u001b[32mPASSED\u001b[0m\u001b[32m        [ 86%]\u001b[0m\n",
      "tests/test_nd_backend.py::test_transpose[cpu-None-shape0] \u001b[32mPASSED\u001b[0m\u001b[32m         [ 87%]\u001b[0m\n",
      "tests/test_nd_backend.py::test_transpose[cpu-None-shape1] \u001b[32mPASSED\u001b[0m\u001b[32m         [ 88%]\u001b[0m\n",
      "tests/test_nd_backend.py::test_transpose[cuda-axes0-shape0] \u001b[32mPASSED\u001b[0m\u001b[32m       [ 88%]\u001b[0m\n",
      "tests/test_nd_backend.py::test_transpose[cuda-axes0-shape1] \u001b[32mPASSED\u001b[0m\u001b[32m       [ 89%]\u001b[0m\n",
      "tests/test_nd_backend.py::test_transpose[cuda-axes1-shape0] \u001b[32mPASSED\u001b[0m\u001b[32m       [ 90%]\u001b[0m\n",
      "tests/test_nd_backend.py::test_transpose[cuda-axes1-shape1] \u001b[32mPASSED\u001b[0m\u001b[32m       [ 91%]\u001b[0m\n",
      "tests/test_nd_backend.py::test_transpose[cuda-None-shape0] \u001b[32mPASSED\u001b[0m\u001b[32m        [ 92%]\u001b[0m\n",
      "tests/test_nd_backend.py::test_transpose[cuda-None-shape1] \u001b[32mPASSED\u001b[0m\u001b[32m        [ 93%]\u001b[0m\n",
      "tests/test_nd_backend.py::test_logsumexp[cpu-shape0-None] \u001b[32mPASSED\u001b[0m\u001b[32m         [ 94%]\u001b[0m\n",
      "tests/test_nd_backend.py::test_logsumexp[cpu-shape1-0] \u001b[32mPASSED\u001b[0m\u001b[32m            [ 94%]\u001b[0m\n",
      "tests/test_nd_backend.py::test_logsumexp[cpu-shape2-1] \u001b[32mPASSED\u001b[0m\u001b[32m            [ 95%]\u001b[0m\n",
      "tests/test_nd_backend.py::test_logsumexp[cpu-shape3-2] \u001b[32mPASSED\u001b[0m\u001b[32m            [ 96%]\u001b[0m\n",
      "tests/test_nd_backend.py::test_logsumexp[cuda-shape0-None] \u001b[32mPASSED\u001b[0m\u001b[32m        [ 97%]\u001b[0m\n",
      "tests/test_nd_backend.py::test_logsumexp[cuda-shape1-0] \u001b[32mPASSED\u001b[0m\u001b[32m           [ 98%]\u001b[0m\n",
      "tests/test_nd_backend.py::test_logsumexp[cuda-shape2-1] \u001b[32mPASSED\u001b[0m\u001b[32m           [ 99%]\u001b[0m\n",
      "tests/test_nd_backend.py::test_logsumexp[cuda-shape3-2] \u001b[32mPASSED\u001b[0m\u001b[32m           [100%]\u001b[0m\n",
      "\n",
      "\u001b[32m===================== \u001b[32m\u001b[1m118 passed\u001b[0m, \u001b[33m1685 deselected\u001b[0m\u001b[32m in 3.48s\u001b[0m\u001b[32m =====================\u001b[0m\n"
     ]
    }
   ],
   "source": [
    "!python3 -m pytest -l -v -k \"nd_backend\"\n",
    "#!python3 -m pytest -l -v -k \"test_logsumexp[cpu-shape1-0]\""
   ]
  },
  {
   "cell_type": "code",
   "execution_count": 3,
   "metadata": {
    "scrolled": false
   },
   "outputs": [
    {
     "name": "stdout",
     "output_type": "stream",
     "text": [
      "submit\n",
      "\u001b[1m============================= test session starts ==============================\u001b[0m\n",
      "platform linux -- Python 3.8.13, pytest-7.2.0, pluggy-1.0.0\n",
      "rootdir: /home/ubuntu/repos/mlsys/hw4\n",
      "plugins: typeguard-2.13.3, anyio-3.6.2\n",
      "collected 10 items / 9 deselected / 1 selected                                 \u001b[0m\u001b[1m\n",
      "\n",
      "tests/test_nd_backend.py \n",
      "Submitting new_nd_backend...\n",
      "Grader test 1 passed\n",
      "Grader test 2 passed\n",
      "Grader test 3 passed\n",
      "Grader test 4 passed\n",
      "Grader test 5 passed\n",
      "Grader test 6 passed\n",
      "Grader test 7 passed\n",
      "Grader test 8 passed\n",
      "Grader test 9 passed\n",
      "matmul tiled...\n",
      "Grader test 10 passed\n",
      "Grader test 11 passed\n",
      "Grader test 12 passed\n",
      "Grader test 13 passed\n",
      "Grader test 14 passed\n",
      "Grader test 15 passed\n",
      "Grader test 16 passed\n",
      "Grader test 17 passed\n",
      "Grader test 18 passed\n",
      "Grader test 19 passed\n",
      "Grader test 20 passed\n",
      "Grader test 21 passed\n",
      "Grader test 22 passed\n",
      "Grader test 23 passed\n",
      "Grader test 24 passed\n",
      "Grader test 25 passed\n",
      "Grader test 26 passed\n",
      "Grader test 27 passed\n",
      "Grader test 28 passed\n",
      "Grader test 29 passed\n",
      "Grader test 30 passed\n",
      "Grader test 31 passed\n",
      "Grader test 32 passed\n",
      "Grader test 33 passed\n",
      "Grader test 34 passed\n",
      "Grader test 35 passed\n",
      "Grader test 36 passed\n",
      "Grader test 37 passed\n",
      "Grader test 38 passed\n",
      "Grader test 39 passed\n",
      "Grader test 40 passed\n",
      "Grader test 41 passed\n",
      "Grader test 42 passed\n",
      "Grader test 43 passed\n",
      "Grader test 44 passed\n",
      "Grader test 45 passed\n",
      "Grader test 46 passed\n",
      "Grader test 47 passed\n",
      "Grader test 48 passed\n",
      "Grader test 49 passed\n",
      "Grader test 50 passed\n",
      "Grader test 51 passed\n",
      "Grader test 52 passed\n",
      "Grader test 53 passed\n",
      "Grader test 54 passed\n",
      "\u001b[32m.\u001b[0m\n",
      "\n",
      "\u001b[32m======================= \u001b[32m\u001b[1m1 passed\u001b[0m, \u001b[33m9 deselected\u001b[0m\u001b[32m in 35.74s\u001b[0m\u001b[32m =======================\u001b[0m\n"
     ]
    }
   ],
   "source": [
    "!python3 -m mugrade submit \"_Oo1E5jrsROcSyO0QctSs\" -k \"new_nd_backend\""
   ]
  },
  {
   "cell_type": "markdown",
   "metadata": {},
   "source": [
    "## Part 2: CIFAR-10 dataset [10 points]\n",
    "\n",
    "Next, you will write support for the [CIFAR-10](https://www.cs.toronto.edu/~kriz/cifar.html) image classification dataset, which consists of 60,000 32x32 color images in 10 classes, with 6,000 images per class. There are 50k training images and 10k test images. \n",
    "\n",
    "Start by implementing the `__init__` function in the `CIFAR10Dataset` class. You can read in the link above how to properly read the CIFAR-10 dataset files you downloaded at the beginning of the homework. Also fill in `__getitem__` and `__len__`. Note that the return shape of the data from `__getitem__` should be in order (3, 32, 32).\n",
    "\n"
   ]
  },
  {
   "cell_type": "code",
   "execution_count": 4,
   "metadata": {
    "scrolled": false
   },
   "outputs": [
    {
     "name": "stdout",
     "output_type": "stream",
     "text": [
      "\u001b[1m============================= test session starts ==============================\u001b[0m\n",
      "platform linux -- Python 3.8.13, pytest-7.2.0, pluggy-1.0.0 -- /home/ubuntu/anaconda3/envs/mlsys_hw/bin/python3\n",
      "cachedir: .pytest_cache\n",
      "rootdir: /home/ubuntu/repos/mlsys/hw4\n",
      "plugins: typeguard-2.13.3, anyio-3.6.2\n",
      "collected 1803 items / 1791 deselected / 12 selected                           \u001b[0m\u001b[1m\n",
      "\n",
      "tests/test_cifar_ptb_data.py::test_cifar10_dataset[True] \u001b[32mPASSED\u001b[0m\u001b[32m          [  8%]\u001b[0m\n",
      "tests/test_cifar_ptb_data.py::test_cifar10_dataset[False] \u001b[32mPASSED\u001b[0m\u001b[32m         [ 16%]\u001b[0m\n",
      "tests/test_cifar_ptb_data.py::test_cifar10_loader[cpu-True-1] \u001b[32mPASSED\u001b[0m\u001b[32m     [ 25%]\u001b[0m\n",
      "tests/test_cifar_ptb_data.py::test_cifar10_loader[cpu-True-15] \u001b[32mPASSED\u001b[0m\u001b[32m    [ 33%]\u001b[0m\n",
      "tests/test_cifar_ptb_data.py::test_cifar10_loader[cpu-False-1] \u001b[32mPASSED\u001b[0m\u001b[32m    [ 41%]\u001b[0m\n",
      "tests/test_cifar_ptb_data.py::test_cifar10_loader[cpu-False-15] \u001b[32mPASSED\u001b[0m\u001b[32m   [ 50%]\u001b[0m\n",
      "tests/test_cifar_ptb_data.py::test_cifar10_loader[cuda-True-1] \u001b[32mPASSED\u001b[0m\u001b[32m    [ 58%]\u001b[0m\n",
      "tests/test_cifar_ptb_data.py::test_cifar10_loader[cuda-True-15] \u001b[32mPASSED\u001b[0m\u001b[32m   [ 66%]\u001b[0m\n",
      "tests/test_cifar_ptb_data.py::test_cifar10_loader[cuda-False-1] \u001b[32mPASSED\u001b[0m\u001b[32m   [ 75%]\u001b[0m\n",
      "tests/test_cifar_ptb_data.py::test_cifar10_loader[cuda-False-15] \u001b[32mPASSED\u001b[0m\u001b[32m  [ 83%]\u001b[0m\n",
      "tests/test_conv.py::test_train_cifar10[needle.backend_ndarray.ndarray_backend_cpu] \u001b[31mFAILED\u001b[0m\u001b[31m [ 91%]\u001b[0m\n",
      "tests/test_conv.py::test_train_cifar10[needle.backend_ndarray.ndarray_backend_cuda] \u001b[31mFAILED\u001b[0m\u001b[31m [100%]\u001b[0m\n",
      "\n",
      "=================================== FAILURES ===================================\n",
      "\u001b[31m\u001b[1m________ test_train_cifar10[needle.backend_ndarray.ndarray_backend_cpu] ________\u001b[0m\n",
      "\n",
      "device = cpu()\n",
      "\n",
      "    \u001b[37m@pytest\u001b[39;49;00m.mark.parametrize(\u001b[33m\"\u001b[39;49;00m\u001b[33mdevice\u001b[39;49;00m\u001b[33m\"\u001b[39;49;00m, _DEVICES)\n",
      "    \u001b[94mdef\u001b[39;49;00m \u001b[92mtest_train_cifar10\u001b[39;49;00m(device):\n",
      "        np.random.seed(\u001b[94m0\u001b[39;49;00m)\n",
      "        dataset = ndl.data.CIFAR10Dataset(\u001b[33m\"\u001b[39;49;00m\u001b[33m./data/cifar-10-batches-py\u001b[39;49;00m\u001b[33m\"\u001b[39;49;00m, train=\u001b[94mTrue\u001b[39;49;00m)\n",
      "        dataloader = ndl.data.DataLoader(\\\n",
      "                 dataset=dataset,\n",
      "                 batch_size=\u001b[94m128\u001b[39;49;00m,\n",
      "                 shuffle=\u001b[94mFalse\u001b[39;49;00m\n",
      "                 \u001b[90m# collate_fn=ndl.data.collate_ndarray,\u001b[39;49;00m\n",
      "                 \u001b[90m# drop_last=False,\u001b[39;49;00m\n",
      "                 \u001b[90m# device=device,\u001b[39;49;00m\n",
      "                 \u001b[90m# dtype=\"float32\"\u001b[39;49;00m\n",
      "                 )\n",
      "        \u001b[94mfrom\u001b[39;49;00m \u001b[04m\u001b[96mapps\u001b[39;49;00m\u001b[04m\u001b[96m.\u001b[39;49;00m\u001b[04m\u001b[96mmodels\u001b[39;49;00m \u001b[94mimport\u001b[39;49;00m ResNet9\n",
      "        np.random.seed(\u001b[94m0\u001b[39;49;00m)\n",
      ">       model = ResNet9(device=device, dtype=\u001b[33m\"\u001b[39;49;00m\u001b[33mfloat32\u001b[39;49;00m\u001b[33m\"\u001b[39;49;00m)\n",
      "\n",
      "ResNet9    = <class 'apps.models.ResNet9'>\n",
      "dataloader = <needle.data.DataLoader object at 0x7fda7c3514c0>\n",
      "dataset    = <needle.data.CIFAR10Dataset object at 0x7fda7c351550>\n",
      "device     = cpu()\n",
      "\n",
      "\u001b[1m\u001b[31mtests/test_conv.py\u001b[0m:466: \n",
      "_ _ _ _ _ _ _ _ _ _ _ _ _ _ _ _ _ _ _ _ _ _ _ _ _ _ _ _ _ _ _ _ _ _ _ _ _ _ _ _ \n",
      "\n",
      "self = <apps.models.ResNet9 object at 0x7fda7c3514f0>, device = cpu()\n",
      "dtype = 'float32'\n",
      "\n",
      "    \u001b[94mdef\u001b[39;49;00m \u001b[92m__init__\u001b[39;49;00m(\u001b[96mself\u001b[39;49;00m, device=\u001b[94mNone\u001b[39;49;00m, dtype=\u001b[33m\"\u001b[39;49;00m\u001b[33mfloat32\u001b[39;49;00m\u001b[33m\"\u001b[39;49;00m):\n",
      "        \u001b[96msuper\u001b[39;49;00m().\u001b[92m__init__\u001b[39;49;00m()\n",
      "        \u001b[90m### BEGIN YOUR SOLUTION ###\u001b[39;49;00m\n",
      ">       \u001b[94mraise\u001b[39;49;00m \u001b[96mNotImplementedError\u001b[39;49;00m() \u001b[90m###\u001b[39;49;00m\n",
      "\u001b[1m\u001b[31mE       NotImplementedError\u001b[0m\n",
      "\n",
      "__class__  = <class 'apps.models.ResNet9'>\n",
      "device     = cpu()\n",
      "dtype      = 'float32'\n",
      "self       = <apps.models.ResNet9 object at 0x7fda7c3514f0>\n",
      "\n",
      "\u001b[1m\u001b[31mapps/models.py\u001b[0m:14: NotImplementedError\n",
      "\u001b[31m\u001b[1m_______ test_train_cifar10[needle.backend_ndarray.ndarray_backend_cuda] ________\u001b[0m\n",
      "\n",
      "device = cuda()\n",
      "\n",
      "    \u001b[37m@pytest\u001b[39;49;00m.mark.parametrize(\u001b[33m\"\u001b[39;49;00m\u001b[33mdevice\u001b[39;49;00m\u001b[33m\"\u001b[39;49;00m, _DEVICES)\n",
      "    \u001b[94mdef\u001b[39;49;00m \u001b[92mtest_train_cifar10\u001b[39;49;00m(device):\n",
      "        np.random.seed(\u001b[94m0\u001b[39;49;00m)\n",
      "        dataset = ndl.data.CIFAR10Dataset(\u001b[33m\"\u001b[39;49;00m\u001b[33m./data/cifar-10-batches-py\u001b[39;49;00m\u001b[33m\"\u001b[39;49;00m, train=\u001b[94mTrue\u001b[39;49;00m)\n",
      "        dataloader = ndl.data.DataLoader(\\\n",
      "                 dataset=dataset,\n",
      "                 batch_size=\u001b[94m128\u001b[39;49;00m,\n",
      "                 shuffle=\u001b[94mFalse\u001b[39;49;00m\n",
      "                 \u001b[90m# collate_fn=ndl.data.collate_ndarray,\u001b[39;49;00m\n",
      "                 \u001b[90m# drop_last=False,\u001b[39;49;00m\n",
      "                 \u001b[90m# device=device,\u001b[39;49;00m\n",
      "                 \u001b[90m# dtype=\"float32\"\u001b[39;49;00m\n",
      "                 )\n",
      "        \u001b[94mfrom\u001b[39;49;00m \u001b[04m\u001b[96mapps\u001b[39;49;00m\u001b[04m\u001b[96m.\u001b[39;49;00m\u001b[04m\u001b[96mmodels\u001b[39;49;00m \u001b[94mimport\u001b[39;49;00m ResNet9\n",
      "        np.random.seed(\u001b[94m0\u001b[39;49;00m)\n",
      ">       model = ResNet9(device=device, dtype=\u001b[33m\"\u001b[39;49;00m\u001b[33mfloat32\u001b[39;49;00m\u001b[33m\"\u001b[39;49;00m)\n",
      "\n",
      "ResNet9    = <class 'apps.models.ResNet9'>\n",
      "dataloader = <needle.data.DataLoader object at 0x7fda7c2f0df0>\n",
      "dataset    = <needle.data.CIFAR10Dataset object at 0x7fda7c2f0dc0>\n",
      "device     = cuda()\n",
      "\n",
      "\u001b[1m\u001b[31mtests/test_conv.py\u001b[0m:466: \n",
      "_ _ _ _ _ _ _ _ _ _ _ _ _ _ _ _ _ _ _ _ _ _ _ _ _ _ _ _ _ _ _ _ _ _ _ _ _ _ _ _ \n",
      "\n",
      "self = <apps.models.ResNet9 object at 0x7fda7c2f0f10>, device = cuda()\n",
      "dtype = 'float32'\n",
      "\n",
      "    \u001b[94mdef\u001b[39;49;00m \u001b[92m__init__\u001b[39;49;00m(\u001b[96mself\u001b[39;49;00m, device=\u001b[94mNone\u001b[39;49;00m, dtype=\u001b[33m\"\u001b[39;49;00m\u001b[33mfloat32\u001b[39;49;00m\u001b[33m\"\u001b[39;49;00m):\n",
      "        \u001b[96msuper\u001b[39;49;00m().\u001b[92m__init__\u001b[39;49;00m()\n",
      "        \u001b[90m### BEGIN YOUR SOLUTION ###\u001b[39;49;00m\n",
      ">       \u001b[94mraise\u001b[39;49;00m \u001b[96mNotImplementedError\u001b[39;49;00m() \u001b[90m###\u001b[39;49;00m\n",
      "\u001b[1m\u001b[31mE       NotImplementedError\u001b[0m\n",
      "\n",
      "__class__  = <class 'apps.models.ResNet9'>\n",
      "device     = cuda()\n",
      "dtype      = 'float32'\n",
      "self       = <apps.models.ResNet9 object at 0x7fda7c2f0f10>\n",
      "\n",
      "\u001b[1m\u001b[31mapps/models.py\u001b[0m:14: NotImplementedError\n",
      "\u001b[36m\u001b[1m=========================== short test summary info ============================\u001b[0m\n",
      "\u001b[31mFAILED\u001b[0m tests/test_conv.py::\u001b[1mtest_train_cifar10[needle.backend_ndarray.ndarray_backend_cpu]\u001b[0m - NotImplementedError\n",
      "\u001b[31mFAILED\u001b[0m tests/test_conv.py::\u001b[1mtest_train_cifar10[needle.backend_ndarray.ndarray_backend_cuda]\u001b[0m - NotImplementedError\n",
      "\u001b[31m================ \u001b[31m\u001b[1m2 failed\u001b[0m, \u001b[32m10 passed\u001b[0m, \u001b[33m1791 deselected\u001b[0m\u001b[31m in 9.83s\u001b[0m\u001b[31m =================\u001b[0m\n"
     ]
    }
   ],
   "source": [
    "!python3 -m pytest -l -v -k \"cifar10\"\n",
    "#!python3 -m pytest -l -v -k \"test_train_cifar10[needle.backend_ndarray.ndarray_backend_cpu]\""
   ]
  },
  {
   "cell_type": "code",
   "execution_count": 13,
   "metadata": {},
   "outputs": [
    {
     "name": "stdout",
     "output_type": "stream",
     "text": [
      "submit\n",
      "\u001b[1m============================= test session starts ==============================\u001b[0m\n",
      "platform linux -- Python 3.8.13, pytest-7.2.0, pluggy-1.0.0\n",
      "rootdir: /home/ubuntu/repos/mlsys/hw4\n",
      "plugins: typeguard-2.13.3, anyio-3.6.2\n",
      "collected 10 items / 9 deselected / 1 selected                                 \u001b[0m\u001b[1m\n",
      "\n",
      "tests/test_cifar_ptb_data.py \n",
      "Submitting cifar10...\n",
      "Grader test 1 passed\n",
      "Grader test 2 passed\n",
      "Grader test 3 failed: Failed: incorrect output\n",
      "Grader test 4 passed\n",
      "Grader test 5 failed: Failed: incorrect output\n",
      "Grader test 6 passed\n",
      "Grader test 7 failed: Failed: incorrect output\n",
      "Grader test 8 passed\n",
      "Grader test 9 failed: Failed: incorrect output\n",
      "Grader test 10 passed\n",
      "Grader test 11 passed\n",
      "Grader test 12 failed: Failed: incorrect output\n",
      "Grader test 13 passed\n",
      "Grader test 14 failed: Failed: incorrect output\n",
      "Grader test 15 passed\n",
      "Grader test 16 failed: Failed: incorrect output\n",
      "Grader test 17 passed\n",
      "Grader test 18 failed: Failed: incorrect output\n",
      "\u001b[31mF\u001b[0m\n",
      "\n",
      "=================================== FAILURES ===================================\n",
      "\u001b[31m\u001b[1m________________________________ submit_cifar10 ________________________________\u001b[0m\n",
      "\n",
      "\u001b[36m\u001b[1m=========================== short test summary info ============================\u001b[0m\n",
      "\u001b[31mFAILED\u001b[0m tests/test_cifar_ptb_data.py::\u001b[1msubmit_cifar10\u001b[0m\n",
      "\u001b[31m======================= \u001b[31m\u001b[1m1 failed\u001b[0m, \u001b[33m9 deselected\u001b[0m\u001b[31m in 13.55s\u001b[0m\u001b[31m =======================\u001b[0m\n"
     ]
    }
   ],
   "source": [
    "!python3 -m mugrade submit \"_Oo1E5jrsROcSyO0QctSs\" -k \"cifar10\""
   ]
  },
  {
   "cell_type": "markdown",
   "metadata": {
    "tags": []
   },
   "source": [
    "## Part 3: Convolutional neural network [40 points]\n",
    "\n",
    "Here's an outline of what you will do in this task.\n",
    "\n",
    "In `python/needle/backend_ndarray/ndarray.py`, implement:\n",
    "- `flip`\n",
    "- `pad`\n",
    "\n",
    "In `python/needle/ops.py`, implement (forward and backward):\n",
    "- `Flip`\n",
    "- `Dilate`\n",
    "- `UnDilate`\n",
    "- `Conv`\n",
    "\n",
    "In `python/needle/nn.py`, implement:\n",
    "- `Flatten`\n",
    "- `Conv`\n",
    "\n",
    "In `python/apps/models.py`, fill in the `ResNet9` class.  \n",
    "\n",
    "In `apps/simple_training.py`, fill in:\n",
    "- `epoch_general_cifar10`,\n",
    "- `train_cifar10`\n",
    "- `evaluate_cifar10`\n",
    "\n",
    "We have provided a `BatchNorm2d` implementation for you as a wrapper around your previous `BatchNorm1d` implementation. "
   ]
  },
  {
   "cell_type": "markdown",
   "metadata": {},
   "source": [
    "### Padding ndarrays\n",
    "\n",
    "Convolution as typically implemented in deep learning libraries cuts down the size of inputs;\n",
    "e.g., a (1, 32, 32, 3) image convolved with a 3x3 filter would give a (1, 30, 30, c) output.\n",
    "A way around this is to pad the input ndarray before performing convolution, e.g., pad with zeros to get a (1, 34, 34, 3) ndarray so that the result is (1, 32, 32, 3). \n",
    "\n",
    "Padding is also required for the backward pass of convolution.\n",
    "\n",
    "You should implement `pad` in `ndarray.py` to closely reflect the behavior of `np.pad`.\n",
    "That is, `pad` should take a tuple of 2-tuples with length equal to the number of dimensions of the array,\n",
    "where each element in the 2-tuple corresponds to \"left padding\" and \"right padding\", respectively.\n",
    "\n",
    "For example, if `A` is a (10, 32, 32, 8) ndarray (think NHWC), then `A.pad( (0, 0), (2, 2), (2, 2), (0, 0) )` would be a (10, 36, 36, 8) ndarray where the \"spatial\" dimension has been padded by two zeros on all sides."
   ]
  },
  {
   "cell_type": "code",
   "execution_count": 5,
   "metadata": {
    "scrolled": false
   },
   "outputs": [
    {
     "name": "stdout",
     "output_type": "stream",
     "text": [
      "\u001b[1m============================= test session starts ==============================\u001b[0m\n",
      "platform linux -- Python 3.8.13, pytest-7.2.0, pluggy-1.0.0 -- /home/ubuntu/anaconda3/envs/mlsys_hw/bin/python3\n",
      "cachedir: .pytest_cache\n",
      "rootdir: /home/ubuntu/repos/mlsys/hw4\n",
      "plugins: typeguard-2.13.3, anyio-3.6.2\n",
      "collected 1803 items / 1801 deselected / 2 selected                            \u001b[0m\u001b[1m\n",
      "\n",
      "tests/test_conv.py::test_pad_forward[params0-needle.backend_ndarray.ndarray_backend_cpu] \u001b[32mPASSED\u001b[0m\u001b[32m [ 50%]\u001b[0m\n",
      "tests/test_conv.py::test_pad_forward[params1-needle.backend_ndarray.ndarray_backend_cpu] \u001b[32mPASSED\u001b[0m\u001b[32m [100%]\u001b[0m\n",
      "\n",
      "\u001b[32m====================== \u001b[32m\u001b[1m2 passed\u001b[0m, \u001b[33m1801 deselected\u001b[0m\u001b[32m in 1.17s\u001b[0m\u001b[32m ======================\u001b[0m\n"
     ]
    }
   ],
   "source": [
    "!python3 -m pytest -l -v -k \"pad_forward\""
   ]
  },
  {
   "cell_type": "markdown",
   "metadata": {},
   "source": [
    "-------------------------------------"
   ]
  },
  {
   "cell_type": "markdown",
   "metadata": {},
   "source": [
    "### Flipping ndarrays & FlipOp"
   ]
  },
  {
   "cell_type": "code",
   "execution_count": 20,
   "metadata": {},
   "outputs": [],
   "source": [
    "import numpy as np\n",
    "import ctypes"
   ]
  },
  {
   "cell_type": "markdown",
   "metadata": {},
   "source": [
    "Some utility code for a demonstration below which you can probably ignore. It might be instructive to check out the `offset` function."
   ]
  },
  {
   "cell_type": "code",
   "execution_count": 22,
   "metadata": {},
   "outputs": [],
   "source": [
    "# reads off the underlying data array in order (i.e., offset 0, offset 1, ..., offset n)\n",
    "# i.e., ignoring strides\n",
    "def raw_data(X):\n",
    "    X = np.array(X) # copy, thus compact X\n",
    "    return np.frombuffer(ctypes.string_at(X.ctypes.data, X.nbytes), dtype=X.dtype, count=X.size)\n",
    "\n",
    "# Xold and Xnew should reference the same underlying data\n",
    "def offset(Xold, Xnew):\n",
    "    assert Xold.itemsize == Xnew.itemsize\n",
    "    # compare addresses to the beginning of the arrays\n",
    "    return (Xnew.ctypes.data - Xold.ctypes.data)//Xnew.itemsize\n",
    "\n",
    "def strides(X):\n",
    "    return ', '.join([str(x//X.itemsize) for x in X.strides])\n",
    "\n",
    "def format_array(X, shape):\n",
    "    assert len(shape) == 3, \"I only made this formatting work for ndims = 3\"\n",
    "    def chunks(l, n):\n",
    "        n = max(1, n)\n",
    "        return (l[i:i+n] for i in range(0, len(l), n))\n",
    "    a = [str(x) if x >= 10 else ' ' + str(x) for x in X]\n",
    "    a = ['(' + ' '.join(y) + ')' for y in [x for x in chunks(a, shape[-1])]]\n",
    "    a = ['|' + ' '.join(y) + '|' for y in [x for x in chunks(a, shape[-2])]]\n",
    "    return '  '.join(a)\n",
    "\n",
    "def inspect_array(X, *, is_a_copy_of):\n",
    "    # compacts X, then reads it off in order\n",
    "    print('Data: %s' % format_array(raw_data(X), X.shape))\n",
    "    # compares address of X to copy_of, thus finding X's offset\n",
    "    print('Offset: %s' % offset(is_a_copy_of, X))\n",
    "    print('Strides: %s' % strides(X))"
   ]
  },
  {
   "cell_type": "markdown",
   "metadata": {
    "tags": []
   },
   "source": [
    "In order to implement the backwards pass of 2D convolution, we will (probably) need a function which _flips_\n",
    "axes of ndarrays. We say \"probably\" because you could probably cleverly implement your convolution forward\n",
    "function to avoid this. However, we think it is easiest to think about this if you have the ability to \"flip\" the kernel along its vertical and horizontal dimensions.\n",
    "\n",
    "We will try to build up your intuition for the \"flip\" operation below in order to help you figure out how to implement it in `ndarray.py`. To do that, we explore numpy's `np.flip` function below. One thing to note is that\n",
    "`flip` is typically implemented by using negative strides and changing the _offset_ of the underlying array.\n",
    "\n",
    "For example, flipping an array on _all_ of its axes is equivalent to reversing the array. In this case, you can imagine that we would want all the strides to be negative, and the offset to be the length of the array (to start at the end of the array and \"stride\" backwards).\n",
    "\n",
    "Since we did not explicitly support negative strides in our implementation for the last homework, we will merely call `NDArray.make` with them to make our \"flipped\" array and then immediately call `.compact()`. Other than changing unsigned ints to signed ints in a few places, we suspect your existing `compact` function should not have to change at all to accomodate negative strides. In the .cc and .cu files we distributed, we have already changed the function signatures to reflect this.\n",
    "\n",
    "Alternatively, you could simply implement `flip` in the CPU backend by copying memory, which you _may_ find more intuitive. We suggest following our mini tutorial below to keep your implementation Python-focused, since we believe it is involves approximately the same amount of effort to implement it slightly more naively in C."
   ]
  },
  {
   "cell_type": "markdown",
   "metadata": {},
   "source": [
    "Use this array as reference for the other examples:"
   ]
  },
  {
   "cell_type": "code",
   "execution_count": 23,
   "metadata": {},
   "outputs": [
    {
     "name": "stdout",
     "output_type": "stream",
     "text": [
      "Data: |( 1  2  3  4) ( 5  6  7  8)|  |( 9 10 11 12) (13 14 15 16)|  |(17 18 19 20) (21 22 23 24)|\n",
      "Offset: 0\n",
      "Strides: 8, 4, 1\n"
     ]
    }
   ],
   "source": [
    "A = np.arange(1, 25).reshape(3, 2, 4)\n",
    "inspect_array(A, is_a_copy_of=A)"
   ]
  },
  {
   "cell_type": "markdown",
   "metadata": {},
   "source": [
    "We have put brackets around each axis of the array. Notice that for this array, the offset is 0 and the strides are all positive."
   ]
  },
  {
   "cell_type": "markdown",
   "metadata": {},
   "source": [
    "----------------------------------------------------------"
   ]
  },
  {
   "cell_type": "markdown",
   "metadata": {},
   "source": [
    "See what happens when you flip the array along the last axis below. \n",
    "Note that the `inspect_array` function compacts the array after flipping it so you can see the\n",
    "\"logical\" order of the data, and the offset is calculated by comparing the address of the **non**-compacted\n",
    "flipped array with that of `is_copy_of`, i.e., the array `A` we looked at above.\n",
    "\n",
    "That is, we are looking at how numpy calculates the strides and offset for flipped arrays in order\n",
    "to copy this behavior in our own implementation."
   ]
  },
  {
   "cell_type": "code",
   "execution_count": 24,
   "metadata": {},
   "outputs": [
    {
     "name": "stdout",
     "output_type": "stream",
     "text": [
      "Data: |( 4  3  2  1) ( 8  7  6  5)|  |(12 11 10  9) (16 15 14 13)|  |(20 19 18 17) (24 23 22 21)|\n",
      "Offset: 3\n",
      "Strides: 8, 4, -1\n"
     ]
    }
   ],
   "source": [
    "inspect_array(np.flip(A, (2,)), is_a_copy_of=A)"
   ]
  },
  {
   "cell_type": "markdown",
   "metadata": {},
   "source": [
    "So flipping the last axis reverses the order of the elements within each 4-dimensional \"cell\", as you can see above. The stride corresponding to the axis we flipped has been negated. And the offset is 3 -- this makes sense, e.g., because we want the new \"first\" element of the array to be 4, which was at index 3 in `A`."
   ]
  },
  {
   "cell_type": "code",
   "execution_count": 25,
   "metadata": {},
   "outputs": [
    {
     "name": "stdout",
     "output_type": "stream",
     "text": [
      "Data: |( 5  6  7  8) ( 1  2  3  4)|  |(13 14 15 16) ( 9 10 11 12)|  |(21 22 23 24) (17 18 19 20)|\n",
      "Offset: 4\n",
      "Strides: 8, -4, 1\n"
     ]
    }
   ],
   "source": [
    "inspect_array(np.flip(A, (1,)), is_a_copy_of=A)"
   ]
  },
  {
   "cell_type": "markdown",
   "metadata": {},
   "source": [
    "Again for the middle axis: we negate the middle stride, and the offset is 4, which seems reasonable since we now want the first element to be 5, which was at index 4 in the original array `A`. "
   ]
  },
  {
   "cell_type": "code",
   "execution_count": 26,
   "metadata": {},
   "outputs": [
    {
     "name": "stdout",
     "output_type": "stream",
     "text": [
      "Data: |(17 18 19 20) (21 22 23 24)|  |( 9 10 11 12) (13 14 15 16)|  |( 1  2  3  4) ( 5  6  7  8)|\n",
      "Offset: 16\n",
      "Strides: -8, 4, 1\n"
     ]
    }
   ],
   "source": [
    "inspect_array(np.flip(A, (0,)), is_a_copy_of=A)"
   ]
  },
  {
   "cell_type": "markdown",
   "metadata": {},
   "source": [
    "Try to infer the more general algorithm for computing the offset given the axis to flip."
   ]
  },
  {
   "cell_type": "markdown",
   "metadata": {},
   "source": [
    "----------------------------------------------------------------------------------------------------------"
   ]
  },
  {
   "cell_type": "markdown",
   "metadata": {},
   "source": [
    "Observe what happens when we flip _all_ axes."
   ]
  },
  {
   "cell_type": "code",
   "execution_count": 27,
   "metadata": {},
   "outputs": [
    {
     "name": "stdout",
     "output_type": "stream",
     "text": [
      "Data: |(24 23 22 21) (20 19 18 17)|  |(16 15 14 13) (12 11 10  9)|  |( 8  7  6  5) ( 4  3  2  1)|\n",
      "Offset: 23\n",
      "Strides: -8, -4, -1\n"
     ]
    }
   ],
   "source": [
    "inspect_array(np.flip(A, (0,1,2)), is_a_copy_of=A)"
   ]
  },
  {
   "cell_type": "markdown",
   "metadata": {},
   "source": [
    "As mentioned earlier, the offset is then sufficient to point to the last element of the array, and this is just the \"reverse order\" version of `A`."
   ]
  },
  {
   "cell_type": "markdown",
   "metadata": {},
   "source": [
    "When we flip just axes 1 and 0..."
   ]
  },
  {
   "cell_type": "code",
   "execution_count": 28,
   "metadata": {},
   "outputs": [
    {
     "name": "stdout",
     "output_type": "stream",
     "text": [
      "Data: |(21 22 23 24) (17 18 19 20)|  |(13 14 15 16) ( 9 10 11 12)|  |( 5  6  7  8) ( 1  2  3  4)|\n",
      "Offset: 20\n",
      "Strides: -8, -4, 1\n"
     ]
    }
   ],
   "source": [
    "inspect_array(np.flip(A, (0,1)), is_a_copy_of=A)"
   ]
  },
  {
   "cell_type": "markdown",
   "metadata": {},
   "source": [
    "The offset is 20. Looking back on our previous offset computations, do you notice something?"
   ]
  },
  {
   "cell_type": "markdown",
   "metadata": {},
   "source": [
    "-------------------\n",
    "\n",
    "With this exploration of numpy's ndarray flipping functionality, which uses negative strides and a custom offset,\n",
    "try to implement `flip` in `ndarray.py`. You also must implement \"flip\" forward and backward functions in `ops.py`; note that these should be extremely short.\n",
    "\n",
    "**Important:** You should call NDArray.make with the new strides and offset, and then immediately `.compact()` this array. The resulting array is then copied and has positive strides. We want this (less-than-optimal) behavior because we did not account for negative strides in our previous implementation. _Aside:_ If you want, consider where/if negative strides break your implementation. `__getitem__` definitely doesn't work due to how we processed slices; is there anything else? (_Note_: this isn't graded.)\n",
    "\n",
    "Also, if you want to instead add a `flip` operator on the CPU/CUDA backends, that's also okay.\n",
    "\n"
   ]
  },
  {
   "cell_type": "code",
   "execution_count": 6,
   "metadata": {
    "scrolled": false
   },
   "outputs": [
    {
     "name": "stdout",
     "output_type": "stream",
     "text": [
      "\u001b[1m============================= test session starts ==============================\u001b[0m\n",
      "platform linux -- Python 3.8.13, pytest-7.2.0, pluggy-1.0.0 -- /home/ubuntu/anaconda3/envs/mlsys_hw/bin/python3\n",
      "cachedir: .pytest_cache\n",
      "rootdir: /home/ubuntu/repos/mlsys/hw4\n",
      "plugins: typeguard-2.13.3, anyio-3.6.2\n",
      "collected 1803 items / 1763 deselected / 40 selected                           \u001b[0m\u001b[1m\n",
      "\n",
      "tests/test_conv.py::test_flip_forward[params0-needle.backend_ndarray.ndarray_backend_cpu] \u001b[32mPASSED\u001b[0m\u001b[32m [  2%]\u001b[0m\n",
      "tests/test_conv.py::test_flip_forward[params0-needle.backend_ndarray.ndarray_backend_cuda] \u001b[32mPASSED\u001b[0m\u001b[32m [  5%]\u001b[0m\n",
      "tests/test_conv.py::test_flip_forward[params1-needle.backend_ndarray.ndarray_backend_cpu] \u001b[32mPASSED\u001b[0m\u001b[32m [  7%]\u001b[0m\n",
      "tests/test_conv.py::test_flip_forward[params1-needle.backend_ndarray.ndarray_backend_cuda] \u001b[32mPASSED\u001b[0m\u001b[32m [ 10%]\u001b[0m\n",
      "tests/test_conv.py::test_flip_forward[params2-needle.backend_ndarray.ndarray_backend_cpu] \u001b[32mPASSED\u001b[0m\u001b[32m [ 12%]\u001b[0m\n",
      "tests/test_conv.py::test_flip_forward[params2-needle.backend_ndarray.ndarray_backend_cuda] \u001b[32mPASSED\u001b[0m\u001b[32m [ 15%]\u001b[0m\n",
      "tests/test_conv.py::test_flip_forward[params3-needle.backend_ndarray.ndarray_backend_cpu] \u001b[32mPASSED\u001b[0m\u001b[32m [ 17%]\u001b[0m\n",
      "tests/test_conv.py::test_flip_forward[params3-needle.backend_ndarray.ndarray_backend_cuda] \u001b[32mPASSED\u001b[0m\u001b[32m [ 20%]\u001b[0m\n",
      "tests/test_conv.py::test_flip_forward[params4-needle.backend_ndarray.ndarray_backend_cpu] \u001b[32mPASSED\u001b[0m\u001b[32m [ 22%]\u001b[0m\n",
      "tests/test_conv.py::test_flip_forward[params4-needle.backend_ndarray.ndarray_backend_cuda] \u001b[32mPASSED\u001b[0m\u001b[32m [ 25%]\u001b[0m\n",
      "tests/test_conv.py::test_flip_forward[params5-needle.backend_ndarray.ndarray_backend_cpu] \u001b[32mPASSED\u001b[0m\u001b[32m [ 27%]\u001b[0m\n",
      "tests/test_conv.py::test_flip_forward[params5-needle.backend_ndarray.ndarray_backend_cuda] \u001b[32mPASSED\u001b[0m\u001b[32m [ 30%]\u001b[0m\n",
      "tests/test_conv.py::test_flip_forward[params6-needle.backend_ndarray.ndarray_backend_cpu] \u001b[32mPASSED\u001b[0m\u001b[32m [ 32%]\u001b[0m\n",
      "tests/test_conv.py::test_flip_forward[params6-needle.backend_ndarray.ndarray_backend_cuda] \u001b[32mPASSED\u001b[0m\u001b[32m [ 35%]\u001b[0m\n",
      "tests/test_conv.py::test_flip_forward[params7-needle.backend_ndarray.ndarray_backend_cpu] \u001b[32mPASSED\u001b[0m\u001b[32m [ 37%]\u001b[0m\n",
      "tests/test_conv.py::test_flip_forward[params7-needle.backend_ndarray.ndarray_backend_cuda] \u001b[32mPASSED\u001b[0m\u001b[32m [ 40%]\u001b[0m\n",
      "tests/test_conv.py::test_flip_forward[params8-needle.backend_ndarray.ndarray_backend_cpu] \u001b[32mPASSED\u001b[0m\u001b[32m [ 42%]\u001b[0m\n",
      "tests/test_conv.py::test_flip_forward[params8-needle.backend_ndarray.ndarray_backend_cuda] \u001b[32mPASSED\u001b[0m\u001b[32m [ 45%]\u001b[0m\n",
      "tests/test_conv.py::test_flip_forward[params9-needle.backend_ndarray.ndarray_backend_cpu] \u001b[32mPASSED\u001b[0m\u001b[32m [ 47%]\u001b[0m\n",
      "tests/test_conv.py::test_flip_forward[params9-needle.backend_ndarray.ndarray_backend_cuda] \u001b[32mPASSED\u001b[0m\u001b[32m [ 50%]\u001b[0m\n",
      "tests/test_conv.py::test_flip_backward[params0-needle.backend_ndarray.ndarray_backend_cpu] \u001b[32mPASSED\u001b[0m\u001b[32m [ 52%]\u001b[0m\n",
      "tests/test_conv.py::test_flip_backward[params0-needle.backend_ndarray.ndarray_backend_cuda] \u001b[32mPASSED\u001b[0m\u001b[32m [ 55%]\u001b[0m\n",
      "tests/test_conv.py::test_flip_backward[params1-needle.backend_ndarray.ndarray_backend_cpu] \u001b[32mPASSED\u001b[0m\u001b[32m [ 57%]\u001b[0m\n",
      "tests/test_conv.py::test_flip_backward[params1-needle.backend_ndarray.ndarray_backend_cuda] \u001b[32mPASSED\u001b[0m\u001b[32m [ 60%]\u001b[0m\n",
      "tests/test_conv.py::test_flip_backward[params2-needle.backend_ndarray.ndarray_backend_cpu] \u001b[32mPASSED\u001b[0m\u001b[32m [ 62%]\u001b[0m\n",
      "tests/test_conv.py::test_flip_backward[params2-needle.backend_ndarray.ndarray_backend_cuda] \u001b[32mPASSED\u001b[0m\u001b[32m [ 65%]\u001b[0m\n",
      "tests/test_conv.py::test_flip_backward[params3-needle.backend_ndarray.ndarray_backend_cpu] \u001b[32mPASSED\u001b[0m\u001b[32m [ 67%]\u001b[0m\n",
      "tests/test_conv.py::test_flip_backward[params3-needle.backend_ndarray.ndarray_backend_cuda] \u001b[32mPASSED\u001b[0m\u001b[32m [ 70%]\u001b[0m\n",
      "tests/test_conv.py::test_flip_backward[params4-needle.backend_ndarray.ndarray_backend_cpu] \u001b[32mPASSED\u001b[0m\u001b[32m [ 72%]\u001b[0m\n",
      "tests/test_conv.py::test_flip_backward[params4-needle.backend_ndarray.ndarray_backend_cuda] \u001b[32mPASSED\u001b[0m\u001b[32m [ 75%]\u001b[0m\n",
      "tests/test_conv.py::test_flip_backward[params5-needle.backend_ndarray.ndarray_backend_cpu] \u001b[32mPASSED\u001b[0m\u001b[32m [ 77%]\u001b[0m\n",
      "tests/test_conv.py::test_flip_backward[params5-needle.backend_ndarray.ndarray_backend_cuda] \u001b[32mPASSED\u001b[0m\u001b[32m [ 80%]\u001b[0m\n",
      "tests/test_conv.py::test_flip_backward[params6-needle.backend_ndarray.ndarray_backend_cpu] \u001b[32mPASSED\u001b[0m\u001b[32m [ 82%]\u001b[0m\n",
      "tests/test_conv.py::test_flip_backward[params6-needle.backend_ndarray.ndarray_backend_cuda] \u001b[32mPASSED\u001b[0m\u001b[32m [ 85%]\u001b[0m\n",
      "tests/test_conv.py::test_flip_backward[params7-needle.backend_ndarray.ndarray_backend_cpu] \u001b[32mPASSED\u001b[0m\u001b[32m [ 87%]\u001b[0m\n",
      "tests/test_conv.py::test_flip_backward[params7-needle.backend_ndarray.ndarray_backend_cuda] \u001b[32mPASSED\u001b[0m\u001b[32m [ 90%]\u001b[0m\n",
      "tests/test_conv.py::test_flip_backward[params8-needle.backend_ndarray.ndarray_backend_cpu] \u001b[32mPASSED\u001b[0m\u001b[32m [ 92%]\u001b[0m\n",
      "tests/test_conv.py::test_flip_backward[params8-needle.backend_ndarray.ndarray_backend_cuda] \u001b[32mPASSED\u001b[0m\u001b[32m [ 95%]\u001b[0m\n",
      "tests/test_conv.py::test_flip_backward[params9-needle.backend_ndarray.ndarray_backend_cpu] \u001b[32mPASSED\u001b[0m\u001b[32m [ 97%]\u001b[0m\n",
      "tests/test_conv.py::test_flip_backward[params9-needle.backend_ndarray.ndarray_backend_cuda] \u001b[32mPASSED\u001b[0m\u001b[32m [100%]\u001b[0m\n",
      "\n",
      "\u001b[32m===================== \u001b[32m\u001b[1m40 passed\u001b[0m, \u001b[33m1763 deselected\u001b[0m\u001b[32m in 2.04s\u001b[0m\u001b[32m ======================\u001b[0m\n"
     ]
    }
   ],
   "source": [
    "\n",
    "!python3 -m pytest -l -v -k \"flip\"\n",
    "#!python3 -m pytest -l -v -k \"test_flip_backward[params0-needle.backend_ndarray.ndarray_backend_cpu]\""
   ]
  },
  {
   "cell_type": "markdown",
   "metadata": {},
   "source": [
    "-------------------------------------"
   ]
  },
  {
   "cell_type": "markdown",
   "metadata": {},
   "source": [
    "### Dilation\n"
   ]
  },
  {
   "cell_type": "markdown",
   "metadata": {},
   "source": [
    "The dilation operator puts zeros between elements of an ndarray. We will need it for computing the backward pass of convolution when the stride of the convolution is greater than 1. As an example, dilation should do the following to a 2x2 matrix when dilated by 1 on both axes:\n",
    "\n",
    "$$\n",
    "\\begin{bmatrix}\n",
    "1 & 2 \\\\\n",
    "3 & 4\n",
    "\\end{bmatrix}\n",
    "\\Longrightarrow\n",
    "\\begin{bmatrix}\n",
    "1 & 0 & 2 & 0 \\\\\n",
    "0 & 0 & 0 & 0 \\\\\n",
    "3 & 0 & 4 & 0 \\\\\n",
    "0 & 0 & 0 & 0\n",
    "\\end{bmatrix}\n",
    "$$\n",
    "\n",
    "To get some intuition for why we need dilation for the backward pass of strided convolution, consider a  `stride=2`, `padding=\"same\"`, `input_channels=output_channels=8` convolution applied to an input of size (10, 32, 32, 8). The resulting output will be of size (10, 16, 16, 8) due to the stride, and thus `out_grad` will have shape (10, 16, 16, 8). Yet, the gradient of the input needs to, of course, have shape (10, 32, 32, 8) -- so we must need to increase the size of `out_grad` in some way. Consider also that you could implement strided convolution as `Conv(x)[:, ::2, ::2, :]`, i.e., only keeping every other pixel in the spatial dimension.\n",
    "\n",
    "\n",
    "Implement `Dilate` in `ops.py`. This function takes two additional parameters (in attrs): the `dilation` amount and the `axes` to dilate. You must also implement the corresponding op `UnDilate`, whose forward pass will be used to implement the gradient of `Dilate`. (This is so we do not have to implement `GetItem` and `SetItem` ops, which can be highly inefficient to backprop through without additional optimizations.)"
   ]
  },
  {
   "cell_type": "code",
   "execution_count": 14,
   "metadata": {
    "scrolled": false
   },
   "outputs": [
    {
     "name": "stdout",
     "output_type": "stream",
     "text": [
      "\u001b[1m============================= test session starts ==============================\u001b[0m\n",
      "platform linux -- Python 3.8.13, pytest-7.2.0, pluggy-1.0.0 -- /home/ubuntu/anaconda3/envs/mlsys_hw/bin/python3\n",
      "cachedir: .pytest_cache\n",
      "rootdir: /home/ubuntu/repos/mlsys/hw4\n",
      "plugins: typeguard-2.13.3, anyio-3.6.2\n",
      "collected 1803 items / 1777 deselected / 26 selected                           \u001b[0m\u001b[1m\n",
      "\n",
      "tests/test_conv.py::test_dilate_forward[needle.backend_ndarray.ndarray_backend_cpu] \u001b[32mPASSED\u001b[0m\u001b[32m [  3%]\u001b[0m\n",
      "tests/test_conv.py::test_dilate_forward[needle.backend_ndarray.ndarray_backend_cuda] \u001b[32mPASSED\u001b[0m\u001b[32m [  7%]\u001b[0m\n",
      "tests/test_conv.py::test_dilate_backward[params0-needle.backend_ndarray.ndarray_backend_cpu] \u001b[32mPASSED\u001b[0m\u001b[32m [ 11%]\u001b[0m\n",
      "tests/test_conv.py::test_dilate_backward[params0-needle.backend_ndarray.ndarray_backend_cuda] \u001b[32mPASSED\u001b[0m\u001b[32m [ 15%]\u001b[0m\n",
      "tests/test_conv.py::test_dilate_backward[params1-needle.backend_ndarray.ndarray_backend_cpu] \u001b[32mPASSED\u001b[0m\u001b[32m [ 19%]\u001b[0m\n",
      "tests/test_conv.py::test_dilate_backward[params1-needle.backend_ndarray.ndarray_backend_cuda] \u001b[32mPASSED\u001b[0m\u001b[32m [ 23%]\u001b[0m\n",
      "tests/test_conv.py::test_dilate_backward[params2-needle.backend_ndarray.ndarray_backend_cpu] \u001b[32mPASSED\u001b[0m\u001b[32m [ 26%]\u001b[0m\n",
      "tests/test_conv.py::test_dilate_backward[params2-needle.backend_ndarray.ndarray_backend_cuda] \u001b[32mPASSED\u001b[0m\u001b[32m [ 30%]\u001b[0m\n",
      "tests/test_conv.py::test_dilate_backward[params3-needle.backend_ndarray.ndarray_backend_cpu] \u001b[32mPASSED\u001b[0m\u001b[32m [ 34%]\u001b[0m\n",
      "tests/test_conv.py::test_dilate_backward[params3-needle.backend_ndarray.ndarray_backend_cuda] \u001b[32mPASSED\u001b[0m\u001b[32m [ 38%]\u001b[0m\n",
      "tests/test_conv.py::test_dilate_backward[params4-needle.backend_ndarray.ndarray_backend_cpu] \u001b[32mPASSED\u001b[0m\u001b[32m [ 42%]\u001b[0m\n",
      "tests/test_conv.py::test_dilate_backward[params4-needle.backend_ndarray.ndarray_backend_cuda] \u001b[32mPASSED\u001b[0m\u001b[32m [ 46%]\u001b[0m\n",
      "tests/test_conv.py::test_dilate_backward[params5-needle.backend_ndarray.ndarray_backend_cpu] \u001b[32mPASSED\u001b[0m\u001b[32m [ 50%]\u001b[0m\n",
      "tests/test_conv.py::test_dilate_backward[params5-needle.backend_ndarray.ndarray_backend_cuda] \u001b[32mPASSED\u001b[0m\u001b[32m [ 53%]\u001b[0m\n",
      "tests/test_conv.py::test_dilate_backward[params6-needle.backend_ndarray.ndarray_backend_cpu] \u001b[32mPASSED\u001b[0m\u001b[32m [ 57%]\u001b[0m\n",
      "tests/test_conv.py::test_dilate_backward[params6-needle.backend_ndarray.ndarray_backend_cuda] \u001b[32mPASSED\u001b[0m\u001b[32m [ 61%]\u001b[0m\n",
      "tests/test_conv.py::test_dilate_backward[params7-needle.backend_ndarray.ndarray_backend_cpu] \u001b[32mPASSED\u001b[0m\u001b[32m [ 65%]\u001b[0m\n",
      "tests/test_conv.py::test_dilate_backward[params7-needle.backend_ndarray.ndarray_backend_cuda] \u001b[32mPASSED\u001b[0m\u001b[32m [ 69%]\u001b[0m\n",
      "tests/test_conv.py::test_dilate_backward[params8-needle.backend_ndarray.ndarray_backend_cpu] \u001b[32mPASSED\u001b[0m\u001b[32m [ 73%]\u001b[0m\n",
      "tests/test_conv.py::test_dilate_backward[params8-needle.backend_ndarray.ndarray_backend_cuda] \u001b[32mPASSED\u001b[0m\u001b[32m [ 76%]\u001b[0m\n",
      "tests/test_conv.py::test_dilate_backward[params9-needle.backend_ndarray.ndarray_backend_cpu] \u001b[32mPASSED\u001b[0m\u001b[32m [ 80%]\u001b[0m\n",
      "tests/test_conv.py::test_dilate_backward[params9-needle.backend_ndarray.ndarray_backend_cuda] \u001b[32mPASSED\u001b[0m\u001b[32m [ 84%]\u001b[0m\n",
      "tests/test_conv.py::test_dilate_backward[params10-needle.backend_ndarray.ndarray_backend_cpu] \u001b[32mPASSED\u001b[0m\u001b[32m [ 88%]\u001b[0m\n",
      "tests/test_conv.py::test_dilate_backward[params10-needle.backend_ndarray.ndarray_backend_cuda] \u001b[32mPASSED\u001b[0m\u001b[32m [ 92%]\u001b[0m\n",
      "tests/test_conv.py::test_dilate_backward[params11-needle.backend_ndarray.ndarray_backend_cpu] \u001b[32mPASSED\u001b[0m\u001b[32m [ 96%]\u001b[0m\n",
      "tests/test_conv.py::test_dilate_backward[params11-needle.backend_ndarray.ndarray_backend_cuda] \u001b[32mPASSED\u001b[0m\u001b[32m [100%]\u001b[0m\n",
      "\n",
      "\u001b[32m===================== \u001b[32m\u001b[1m26 passed\u001b[0m, \u001b[33m1777 deselected\u001b[0m\u001b[32m in 1.95s\u001b[0m\u001b[32m ======================\u001b[0m\n"
     ]
    }
   ],
   "source": [
    "!python3 -m pytest -l -v -k \"dilate\"\n",
    "#!python3 -m pytest -l -v -k \"test_dilate_backward[params0-needle.backend_ndarray.ndarray_backend_cpu]\""
   ]
  },
  {
   "cell_type": "markdown",
   "metadata": {},
   "source": [
    "---------------------------------------"
   ]
  },
  {
   "cell_type": "markdown",
   "metadata": {},
   "source": [
    "### Submit new ops (flip/dilation) to mugrade [10 points]"
   ]
  },
  {
   "cell_type": "code",
   "execution_count": 15,
   "metadata": {
    "scrolled": false
   },
   "outputs": [
    {
     "name": "stdout",
     "output_type": "stream",
     "text": [
      "submit\n",
      "\u001b[1m============================= test session starts ==============================\u001b[0m\n",
      "platform linux -- Python 3.8.13, pytest-7.2.0, pluggy-1.0.0\n",
      "rootdir: /home/ubuntu/repos/mlsys/hw4\n",
      "plugins: typeguard-2.13.3, anyio-3.6.2\n",
      "collected 10 items / 9 deselected / 1 selected                                 \u001b[0m\u001b[1m\n",
      "\n",
      "tests/test_conv.py \n",
      "Submitting new_ops...\n",
      "Grader test 1 passed\n",
      "Grader test 2 passed\n",
      "Grader test 3 passed\n",
      "Grader test 4 passed\n",
      "Grader test 5 passed\n",
      "Grader test 6 passed\n",
      "Grader test 7 passed\n",
      "Grader test 8 passed\n",
      "Grader test 9 passed\n",
      "Grader test 10 passed\n",
      "Grader test 11 passed\n",
      "\u001b[32m.\u001b[0m\n",
      "\n",
      "\u001b[32m======================= \u001b[32m\u001b[1m1 passed\u001b[0m, \u001b[33m9 deselected\u001b[0m\u001b[32m in 7.13s\u001b[0m\u001b[32m ========================\u001b[0m\n"
     ]
    }
   ],
   "source": [
    "!python3 -m mugrade submit \"_Oo1E5jrsROcSyO0QctSs\" -k \"new_ops\""
   ]
  },
  {
   "cell_type": "markdown",
   "metadata": {},
   "source": [
    "-----------------"
   ]
  },
  {
   "cell_type": "markdown",
   "metadata": {},
   "source": [
    "### Convolution forward\n",
    "\n",
    "Implement the forward pass of 2D multi-channel convolution in `ops.py`. You should probably refer to [this notebook](https://github.com/dlsyscourse/public_notebooks/blob/main/convolution_implementation.ipynb) from lecture, which implements 2D multi-channel convolution using im2col in numpy.\n",
    "\n",
    "**Note:** Your convolution op should accept tensors in the NHWC format, as in the example above, and weights in the format (kernel_size, kernel_size, input_channels, output_channels).\n",
    "\n",
    "However, you will need to add two additional features. Your convolution function should accept arguments for `padding` (default 0) and `stride` (default 1). For `padding`, you should simply apply your padding function to the spatial dimensions (i.e., axes 1 and 2). \n",
    "\n",
    "Implementing strided convolution should consist of a relatively small set of changes to your plain convolution implementation.\n",
    "\n",
    "We recommend implementing convolution without stride first, ensuring you pass some of the tests below, and then adding in stride."
   ]
  },
  {
   "cell_type": "code",
   "execution_count": 48,
   "metadata": {
    "scrolled": false
   },
   "outputs": [
    {
     "name": "stdout",
     "output_type": "stream",
     "text": [
      "\u001b[1m============================= test session starts ==============================\u001b[0m\n",
      "platform linux -- Python 3.8.13, pytest-7.2.0, pluggy-1.0.0 -- /home/ubuntu/anaconda3/envs/mlsys_hw/bin/python3\n",
      "cachedir: .pytest_cache\n",
      "rootdir: /home/ubuntu/repos/mlsys/hw4\n",
      "plugins: typeguard-2.13.3, anyio-3.6.2\n",
      "collected 1803 items / 1769 deselected / 34 selected                           \u001b[0m\u001b[1m\n",
      "\n",
      "tests/test_conv.py::test_op_conv[forward-needle.backend_ndarray.ndarray_backend_cpu-Z_shape0-W_shape0-1-0] \u001b[32mPASSED\u001b[0m\u001b[32m [  2%]\u001b[0m\n",
      "tests/test_conv.py::test_op_conv[forward-needle.backend_ndarray.ndarray_backend_cpu-Z_shape1-W_shape1-1-1] \u001b[32mPASSED\u001b[0m\u001b[32m [  5%]\u001b[0m\n",
      "tests/test_conv.py::test_op_conv[forward-needle.backend_ndarray.ndarray_backend_cpu-Z_shape2-W_shape2-1-2] \u001b[32mPASSED\u001b[0m\u001b[32m [  8%]\u001b[0m\n",
      "tests/test_conv.py::test_op_conv[forward-needle.backend_ndarray.ndarray_backend_cpu-Z_shape3-W_shape3-1-0] \u001b[32mPASSED\u001b[0m\u001b[32m [ 11%]\u001b[0m\n",
      "tests/test_conv.py::test_op_conv[forward-needle.backend_ndarray.ndarray_backend_cpu-Z_shape4-W_shape4-1-0] \u001b[32mPASSED\u001b[0m\u001b[32m [ 14%]\u001b[0m\n",
      "tests/test_conv.py::test_op_conv[forward-needle.backend_ndarray.ndarray_backend_cpu-Z_shape5-W_shape5-2-0] \u001b[32mPASSED\u001b[0m\u001b[32m [ 17%]\u001b[0m\n",
      "tests/test_conv.py::test_op_conv[forward-needle.backend_ndarray.ndarray_backend_cpu-Z_shape6-W_shape6-2-1] \u001b[32mPASSED\u001b[0m\u001b[32m [ 20%]\u001b[0m\n",
      "tests/test_conv.py::test_op_conv[forward-needle.backend_ndarray.ndarray_backend_cpu-Z_shape7-W_shape7-2-2] \u001b[32mPASSED\u001b[0m\u001b[32m [ 23%]\u001b[0m\n",
      "tests/test_conv.py::test_op_conv[forward-needle.backend_ndarray.ndarray_backend_cpu-Z_shape8-W_shape8-2-0] \u001b[32mPASSED\u001b[0m\u001b[32m [ 26%]\u001b[0m\n",
      "tests/test_conv.py::test_op_conv[forward-needle.backend_ndarray.ndarray_backend_cpu-Z_shape9-W_shape9-2-0] \u001b[32mPASSED\u001b[0m\u001b[32m [ 29%]\u001b[0m\n",
      "tests/test_conv.py::test_op_conv[forward-needle.backend_ndarray.ndarray_backend_cpu-Z_shape10-W_shape10-1-0] \u001b[32mPASSED\u001b[0m\u001b[32m [ 32%]\u001b[0m\n",
      "tests/test_conv.py::test_op_conv[forward-needle.backend_ndarray.ndarray_backend_cpu-Z_shape11-W_shape11-1-0] \u001b[32mPASSED\u001b[0m\u001b[32m [ 35%]\u001b[0m\n",
      "tests/test_conv.py::test_op_conv[forward-needle.backend_ndarray.ndarray_backend_cpu-Z_shape12-W_shape12-1-0] \u001b[32mPASSED\u001b[0m\u001b[32m [ 38%]\u001b[0m\n",
      "tests/test_conv.py::test_op_conv[forward-needle.backend_ndarray.ndarray_backend_cpu-Z_shape13-W_shape13-1-0] \u001b[32mPASSED\u001b[0m\u001b[32m [ 41%]\u001b[0m\n",
      "tests/test_conv.py::test_op_conv[forward-needle.backend_ndarray.ndarray_backend_cpu-Z_shape14-W_shape14-1-0] \u001b[32mPASSED\u001b[0m\u001b[32m [ 44%]\u001b[0m\n",
      "tests/test_conv.py::test_op_conv[forward-needle.backend_ndarray.ndarray_backend_cpu-Z_shape15-W_shape15-1-0] \u001b[32mPASSED\u001b[0m\u001b[32m [ 47%]\u001b[0m\n",
      "tests/test_conv.py::test_op_conv[forward-needle.backend_ndarray.ndarray_backend_cpu-Z_shape16-W_shape16-1-0] \u001b[32mPASSED\u001b[0m\u001b[32m [ 50%]\u001b[0m\n",
      "tests/test_conv.py::test_op_conv[forward-needle.backend_ndarray.ndarray_backend_cuda-Z_shape0-W_shape0-1-0] \u001b[32mPASSED\u001b[0m\u001b[32m [ 52%]\u001b[0m\n",
      "tests/test_conv.py::test_op_conv[forward-needle.backend_ndarray.ndarray_backend_cuda-Z_shape1-W_shape1-1-1] \u001b[32mPASSED\u001b[0m\u001b[32m [ 55%]\u001b[0m\n",
      "tests/test_conv.py::test_op_conv[forward-needle.backend_ndarray.ndarray_backend_cuda-Z_shape2-W_shape2-1-2] \u001b[32mPASSED\u001b[0m\u001b[32m [ 58%]\u001b[0m\n",
      "tests/test_conv.py::test_op_conv[forward-needle.backend_ndarray.ndarray_backend_cuda-Z_shape3-W_shape3-1-0] \u001b[32mPASSED\u001b[0m\u001b[32m [ 61%]\u001b[0m\n",
      "tests/test_conv.py::test_op_conv[forward-needle.backend_ndarray.ndarray_backend_cuda-Z_shape4-W_shape4-1-0] \u001b[32mPASSED\u001b[0m\u001b[32m [ 64%]\u001b[0m\n",
      "tests/test_conv.py::test_op_conv[forward-needle.backend_ndarray.ndarray_backend_cuda-Z_shape5-W_shape5-2-0] \u001b[32mPASSED\u001b[0m\u001b[32m [ 67%]\u001b[0m\n",
      "tests/test_conv.py::test_op_conv[forward-needle.backend_ndarray.ndarray_backend_cuda-Z_shape6-W_shape6-2-1] \u001b[32mPASSED\u001b[0m\u001b[32m [ 70%]\u001b[0m\n",
      "tests/test_conv.py::test_op_conv[forward-needle.backend_ndarray.ndarray_backend_cuda-Z_shape7-W_shape7-2-2] \u001b[32mPASSED\u001b[0m\u001b[32m [ 73%]\u001b[0m\n",
      "tests/test_conv.py::test_op_conv[forward-needle.backend_ndarray.ndarray_backend_cuda-Z_shape8-W_shape8-2-0] \u001b[32mPASSED\u001b[0m\u001b[32m [ 76%]\u001b[0m\n",
      "tests/test_conv.py::test_op_conv[forward-needle.backend_ndarray.ndarray_backend_cuda-Z_shape9-W_shape9-2-0] \u001b[32mPASSED\u001b[0m\u001b[32m [ 79%]\u001b[0m\n",
      "tests/test_conv.py::test_op_conv[forward-needle.backend_ndarray.ndarray_backend_cuda-Z_shape10-W_shape10-1-0] \u001b[32mPASSED\u001b[0m\u001b[32m [ 82%]\u001b[0m\n",
      "tests/test_conv.py::test_op_conv[forward-needle.backend_ndarray.ndarray_backend_cuda-Z_shape11-W_shape11-1-0] \u001b[32mPASSED\u001b[0m\u001b[32m [ 85%]\u001b[0m\n",
      "tests/test_conv.py::test_op_conv[forward-needle.backend_ndarray.ndarray_backend_cuda-Z_shape12-W_shape12-1-0] \u001b[32mPASSED\u001b[0m\u001b[32m [ 88%]\u001b[0m\n",
      "tests/test_conv.py::test_op_conv[forward-needle.backend_ndarray.ndarray_backend_cuda-Z_shape13-W_shape13-1-0] \u001b[32mPASSED\u001b[0m\u001b[32m [ 91%]\u001b[0m\n",
      "tests/test_conv.py::test_op_conv[forward-needle.backend_ndarray.ndarray_backend_cuda-Z_shape14-W_shape14-1-0] \u001b[32mPASSED\u001b[0m\u001b[32m [ 94%]\u001b[0m\n",
      "tests/test_conv.py::test_op_conv[forward-needle.backend_ndarray.ndarray_backend_cuda-Z_shape15-W_shape15-1-0] \u001b[32mPASSED\u001b[0m\u001b[32m [ 97%]\u001b[0m\n",
      "tests/test_conv.py::test_op_conv[forward-needle.backend_ndarray.ndarray_backend_cuda-Z_shape16-W_shape16-1-0] \u001b[32mPASSED\u001b[0m\u001b[32m [100%]\u001b[0m\n",
      "\n",
      "\u001b[32m===================== \u001b[32m\u001b[1m34 passed\u001b[0m, \u001b[33m1769 deselected\u001b[0m\u001b[32m in 1.48s\u001b[0m\u001b[32m ======================\u001b[0m\n"
     ]
    }
   ],
   "source": [
    "!python3 -m pytest -l -v -k \"op_conv and forward\"\n",
    "# !python3 -m pytest -l -v -k \"test_op_conv[forward-needle.backend_ndarray.ndarray_backend_cpu-Z_shape0-W_shape0-1-0]\"\n",
    "# !python3 -m pytest -l -v -k \"test_op_conv[forward-needle.backend_ndarray.ndarray_backend_cpu-Z_shape1-W_shape1-1-1]\"\n",
    "# !python3 -m pytest -l -v -k \"test_op_conv[forward-needle.backend_ndarray.ndarray_backend_cpu-Z_shape5-W_shape5-2-0]\""
   ]
  },
  {
   "cell_type": "markdown",
   "metadata": {},
   "source": [
    "-----------------"
   ]
  },
  {
   "cell_type": "markdown",
   "metadata": {},
   "source": [
    "### Convolution backward"
   ]
  },
  {
   "cell_type": "markdown",
   "metadata": {},
   "source": [
    "Finding the gradients of 2D multi-channel convolution can be technically quite challenging (especially \"rigorously\"). We will try to provide some useful hints here. Basically, we encourage you to make use of the surprising fact that _whatever makes the dimensions work out is typically right_.\n",
    "\n",
    "Ultimately, the backward pass of convolution can be done in terms of the convolution operator itself, with some clever manipulations using `flip`, `dilate`, and multiple applications of `transpose` to both the arguments and the results.\n",
    "\n",
    "In the last section, we essentially implemented convolution as a matrix product: ignoring the various restride and reshape operations, we basically have something like `X @ W`, where `X` is the input and `W` is the weight. We also have `out_grad`, which is the same shape as `X @ W`. Now, you have already implemented the backward pass of matrix multiplication in a previous assignment, and we can use this knowledge to get some insight into the backward pass of convolution. In particular, referencing your matmul backward implementation, you may notice (heuristically speaking here):\n",
    "\n",
    "`X.grad = out_grad @ W.transpose` \\\n",
    "`W.grad = X.transpose @ out_grad`\n",
    "\n",
    "Surprisingly enough, things work out if we just assume that these are also convolutions (and now assuming that `out_grad`, `W`, and `X` are tensors amenable to 2D multi-channel convolution instead of matrices):\n",
    "\n",
    "`X.grad = ≈conv(≈out_grad, ≈W)` \\\n",
    "`W.grad = ≈conv(≈X, ≈out_grad)`\n",
    "\n",
    "In which the \"≈\" indicates that you need to apply some additional operators to these terms in order to get the dimensions to work out, such as permuting/transposing axes, dilating, changing the `padding=` argument to the convolution function, or permuting/transposing axes of the resulting convolution.\n",
    "\n",
    "As we saw on the [last few slides here](https://dlsyscourse.org/slides/conv_nets.pdf) in class, the transpose of a convolution can be found by simply flipping the kernel. Since we're working in 2D instead of 1D, this means flipping the kernel both vertically and horizontally (thus why we implemented `flip`).\n",
    "\n",
    "Summarizing some hints for both `X.grad` and `W.grad`:\n",
    "\n",
    "`X.grad`\n",
    "- The convolution of `out_grad` and `W`, with some operations applied to those\n",
    "- `W` should be flipped over both the kernel dimensions\n",
    "- If the convolution is strided, increase the size of `out_grad` with a corresponding dilation\n",
    "- Do an example to analyze dimensions: note the shape you want for `X.grad`, and think about how you must permute/transpose the arguments and add padding to the convolution to achieve this shape \n",
    "    - This padding depends on both the kernel size and the `padding` argument to the convolution\n",
    "\n",
    "`W.grad`\n",
    "- The convolution of `X` and `out_grad`, with some operations applied to those\n",
    "- The gradients of `W` must be accumulated over the batches; how can you make the conv operator itself do this accumulation?\n",
    "    - Consider turning batches into channels via transpose/permute\n",
    "- Analyze dimensions: how can you modify `X` and `out_grad` so that the shape of their convolution matches the shape of `W`? You may need to transpose/permute the result.\n",
    "    - Remember to account for the `padding` argument passed to convolution\n",
    "\n",
    "General tips\n",
    "- Deal with strided convolutions last (you should be able to just drop in `dilate` when you've passed most of the tests)\n",
    "- Start with the case where `padding=0`, then consider changing `padding` arguments\n",
    "- You can \"permute\" axes with multiple calls to `transpose`\n",
    "\n",
    "It might also be useful to skip ahead to nn.Conv, pass the forward tests, and then use both the tests below and the nn.Conv backward tests to debug your implementation."
   ]
  },
  {
   "cell_type": "code",
   "execution_count": 2,
   "metadata": {
    "scrolled": false
   },
   "outputs": [
    {
     "name": "stdout",
     "output_type": "stream",
     "text": [
      "\u001b[1m============================= test session starts ==============================\u001b[0m\n",
      "platform linux -- Python 3.8.13, pytest-7.2.0, pluggy-1.0.0 -- /home/ubuntu/anaconda3/envs/mlsys_hw/bin/python3\n",
      "cachedir: .pytest_cache\n",
      "rootdir: /home/ubuntu/repos/mlsys/hw4\n",
      "plugins: typeguard-2.13.3, anyio-3.6.2\n",
      "collected 1803 items / 1769 deselected / 34 selected                           \u001b[0m\u001b[1m\n",
      "\n",
      "tests/test_conv.py::test_op_conv[backward-needle.backend_ndarray.ndarray_backend_cpu-Z_shape0-W_shape0-1-0] \u001b[32mPASSED\u001b[0m\u001b[32m [  2%]\u001b[0m\n",
      "tests/test_conv.py::test_op_conv[backward-needle.backend_ndarray.ndarray_backend_cpu-Z_shape1-W_shape1-1-1] \u001b[32mPASSED\u001b[0m\u001b[32m [  5%]\u001b[0m\n",
      "tests/test_conv.py::test_op_conv[backward-needle.backend_ndarray.ndarray_backend_cpu-Z_shape2-W_shape2-1-2] \u001b[32mPASSED\u001b[0m\u001b[32m [  8%]\u001b[0m\n",
      "tests/test_conv.py::test_op_conv[backward-needle.backend_ndarray.ndarray_backend_cpu-Z_shape3-W_shape3-1-0] \u001b[32mPASSED\u001b[0m\u001b[32m [ 11%]\u001b[0m\n",
      "tests/test_conv.py::test_op_conv[backward-needle.backend_ndarray.ndarray_backend_cpu-Z_shape4-W_shape4-1-0] \u001b[32mPASSED\u001b[0m\u001b[32m [ 14%]\u001b[0m\n",
      "tests/test_conv.py::test_op_conv[backward-needle.backend_ndarray.ndarray_backend_cpu-Z_shape5-W_shape5-2-0] \u001b[32mPASSED\u001b[0m\u001b[32m [ 17%]\u001b[0m\n",
      "tests/test_conv.py::test_op_conv[backward-needle.backend_ndarray.ndarray_backend_cpu-Z_shape6-W_shape6-2-1] \u001b[32mPASSED\u001b[0m\u001b[32m [ 20%]\u001b[0m\n",
      "tests/test_conv.py::test_op_conv[backward-needle.backend_ndarray.ndarray_backend_cpu-Z_shape7-W_shape7-2-2] \u001b[32mPASSED\u001b[0m\u001b[32m [ 23%]\u001b[0m\n",
      "tests/test_conv.py::test_op_conv[backward-needle.backend_ndarray.ndarray_backend_cpu-Z_shape8-W_shape8-2-0] \u001b[32mPASSED\u001b[0m\u001b[32m [ 26%]\u001b[0m\n",
      "tests/test_conv.py::test_op_conv[backward-needle.backend_ndarray.ndarray_backend_cpu-Z_shape9-W_shape9-2-0] \u001b[32mPASSED\u001b[0m\u001b[32m [ 29%]\u001b[0m\n",
      "tests/test_conv.py::test_op_conv[backward-needle.backend_ndarray.ndarray_backend_cpu-Z_shape10-W_shape10-1-0] \u001b[32mPASSED\u001b[0m\u001b[32m [ 32%]\u001b[0m\n",
      "tests/test_conv.py::test_op_conv[backward-needle.backend_ndarray.ndarray_backend_cpu-Z_shape11-W_shape11-1-0] \u001b[32mPASSED\u001b[0m\u001b[32m [ 35%]\u001b[0m\n",
      "tests/test_conv.py::test_op_conv[backward-needle.backend_ndarray.ndarray_backend_cpu-Z_shape12-W_shape12-1-0] \u001b[32mPASSED\u001b[0m\u001b[32m [ 38%]\u001b[0m\n",
      "tests/test_conv.py::test_op_conv[backward-needle.backend_ndarray.ndarray_backend_cpu-Z_shape13-W_shape13-1-0] \u001b[32mPASSED\u001b[0m\u001b[32m [ 41%]\u001b[0m\n",
      "tests/test_conv.py::test_op_conv[backward-needle.backend_ndarray.ndarray_backend_cpu-Z_shape14-W_shape14-1-0] \u001b[32mPASSED\u001b[0m\u001b[32m [ 44%]\u001b[0m\n",
      "tests/test_conv.py::test_op_conv[backward-needle.backend_ndarray.ndarray_backend_cpu-Z_shape15-W_shape15-1-0] \u001b[32mPASSED\u001b[0m\u001b[32m [ 47%]\u001b[0m\n",
      "tests/test_conv.py::test_op_conv[backward-needle.backend_ndarray.ndarray_backend_cpu-Z_shape16-W_shape16-1-0] \u001b[32mPASSED\u001b[0m\u001b[32m [ 50%]\u001b[0m\n",
      "tests/test_conv.py::test_op_conv[backward-needle.backend_ndarray.ndarray_backend_cuda-Z_shape0-W_shape0-1-0] \u001b[32mPASSED\u001b[0m\u001b[32m [ 52%]\u001b[0m\n",
      "tests/test_conv.py::test_op_conv[backward-needle.backend_ndarray.ndarray_backend_cuda-Z_shape1-W_shape1-1-1] \u001b[32mPASSED\u001b[0m\u001b[32m [ 55%]\u001b[0m\n",
      "tests/test_conv.py::test_op_conv[backward-needle.backend_ndarray.ndarray_backend_cuda-Z_shape2-W_shape2-1-2] \u001b[32mPASSED\u001b[0m\u001b[32m [ 58%]\u001b[0m\n",
      "tests/test_conv.py::test_op_conv[backward-needle.backend_ndarray.ndarray_backend_cuda-Z_shape3-W_shape3-1-0] \u001b[32mPASSED\u001b[0m\u001b[32m [ 61%]\u001b[0m\n",
      "tests/test_conv.py::test_op_conv[backward-needle.backend_ndarray.ndarray_backend_cuda-Z_shape4-W_shape4-1-0] \u001b[32mPASSED\u001b[0m\u001b[32m [ 64%]\u001b[0m\n",
      "tests/test_conv.py::test_op_conv[backward-needle.backend_ndarray.ndarray_backend_cuda-Z_shape5-W_shape5-2-0] \u001b[32mPASSED\u001b[0m\u001b[32m [ 67%]\u001b[0m\n",
      "tests/test_conv.py::test_op_conv[backward-needle.backend_ndarray.ndarray_backend_cuda-Z_shape6-W_shape6-2-1] \u001b[32mPASSED\u001b[0m\u001b[32m [ 70%]\u001b[0m\n",
      "tests/test_conv.py::test_op_conv[backward-needle.backend_ndarray.ndarray_backend_cuda-Z_shape7-W_shape7-2-2] \u001b[32mPASSED\u001b[0m\u001b[32m [ 73%]\u001b[0m\n",
      "tests/test_conv.py::test_op_conv[backward-needle.backend_ndarray.ndarray_backend_cuda-Z_shape8-W_shape8-2-0] \u001b[32mPASSED\u001b[0m\u001b[32m [ 76%]\u001b[0m\n",
      "tests/test_conv.py::test_op_conv[backward-needle.backend_ndarray.ndarray_backend_cuda-Z_shape9-W_shape9-2-0] \u001b[32mPASSED\u001b[0m\u001b[32m [ 79%]\u001b[0m\n",
      "tests/test_conv.py::test_op_conv[backward-needle.backend_ndarray.ndarray_backend_cuda-Z_shape10-W_shape10-1-0] \u001b[32mPASSED\u001b[0m\u001b[32m [ 82%]\u001b[0m\n",
      "tests/test_conv.py::test_op_conv[backward-needle.backend_ndarray.ndarray_backend_cuda-Z_shape11-W_shape11-1-0] \u001b[32mPASSED\u001b[0m\u001b[32m [ 85%]\u001b[0m\n",
      "tests/test_conv.py::test_op_conv[backward-needle.backend_ndarray.ndarray_backend_cuda-Z_shape12-W_shape12-1-0] \u001b[32mPASSED\u001b[0m\u001b[32m [ 88%]\u001b[0m\n",
      "tests/test_conv.py::test_op_conv[backward-needle.backend_ndarray.ndarray_backend_cuda-Z_shape13-W_shape13-1-0] \u001b[32mPASSED\u001b[0m\u001b[32m [ 91%]\u001b[0m\n",
      "tests/test_conv.py::test_op_conv[backward-needle.backend_ndarray.ndarray_backend_cuda-Z_shape14-W_shape14-1-0] \u001b[32mPASSED\u001b[0m\u001b[32m [ 94%]\u001b[0m\n",
      "tests/test_conv.py::test_op_conv[backward-needle.backend_ndarray.ndarray_backend_cuda-Z_shape15-W_shape15-1-0] \u001b[32mPASSED\u001b[0m\u001b[32m [ 97%]\u001b[0m\n",
      "tests/test_conv.py::test_op_conv[backward-needle.backend_ndarray.ndarray_backend_cuda-Z_shape16-W_shape16-1-0] \u001b[32mPASSED\u001b[0m\u001b[32m [100%]\u001b[0m\n",
      "\n",
      "\u001b[32m===================== \u001b[32m\u001b[1m34 passed\u001b[0m, \u001b[33m1769 deselected\u001b[0m\u001b[32m in 3.52s\u001b[0m\u001b[32m ======================\u001b[0m\n"
     ]
    }
   ],
   "source": [
    "!python3 -m pytest -l -v -k \"op_conv and backward\"\n",
    "# !python3 -m pytest -l -v -k \"test_op_conv[forward-needle.backend_ndarray.ndarray_backend_cpu-Z_shape0-W_shape0-1-0]\"\n",
    "# !python3 -m pytest -l -v -k \"test_op_conv[backward-needle.backend_ndarray.ndarray_backend_cpu-Z_shape0-W_shape0-1-0]\"\n",
    "# !python3 -m pytest -l -v -k \"test_op_conv[backward-needle.backend_ndarray.ndarray_backend_cpu-Z_shape1-W_shape1-1-1]\""
   ]
  },
  {
   "cell_type": "markdown",
   "metadata": {},
   "source": [
    "-----------------"
   ]
  },
  {
   "cell_type": "markdown",
   "metadata": {},
   "source": [
    "### nn.Conv"
   ]
  },
  {
   "cell_type": "markdown",
   "metadata": {
    "tags": []
   },
   "source": [
    "#### Fixing init._calculate_fans for convolution\n",
    "Previously, we have implemented Kaiming uniform/normal initializations, where we essentially assigned `fan_in = input_size` and `fan_out = output_size`.\n",
    "For convolution, this becomes somewhat more detailed, in that you should multiply both of these by the \"receptive field size\", which is in this case just the product of the kernel sizes -- which in our case are always going to be the same, i.e., $k\\times k$ kernels.\n",
    "\n",
    "**You will need to edit your `kaiming_uniform`, etc. init functions to support multidimensional arrays.** In particular, you should add a new `shape` argument which is then passed to, e.g., the underlying `rand` function.\n",
    "\n",
    "You can test this below; though it is not _directly_ graded, it must match ours to pass the nn.Conv mugrade tests."
   ]
  },
  {
   "cell_type": "code",
   "execution_count": 5,
   "metadata": {
    "scrolled": false
   },
   "outputs": [
    {
     "name": "stdout",
     "output_type": "stream",
     "text": [
      "\u001b[1m============================= test session starts ==============================\u001b[0m\n",
      "platform linux -- Python 3.8.13, pytest-7.2.0, pluggy-1.0.0 -- /home/ubuntu/anaconda3/envs/mlsys_hw/bin/python3\n",
      "cachedir: .pytest_cache\n",
      "rootdir: /home/ubuntu/repos/mlsys/hw4\n",
      "plugins: typeguard-2.13.3, anyio-3.6.2\n",
      "collected 1803 items / 1801 deselected / 2 selected                            \u001b[0m\u001b[1m\n",
      "\n",
      "tests/test_conv.py::test_init_kaiming_uniform[needle.backend_ndarray.ndarray_backend_cpu] \u001b[32mPASSED\u001b[0m\u001b[32m [ 50%]\u001b[0m\n",
      "tests/test_conv.py::test_init_kaiming_uniform[needle.backend_ndarray.ndarray_backend_cuda] \u001b[32mPASSED\u001b[0m\u001b[32m [100%]\u001b[0m\n",
      "\n",
      "\u001b[32m====================== \u001b[32m\u001b[1m2 passed\u001b[0m, \u001b[33m1801 deselected\u001b[0m\u001b[32m in 1.28s\u001b[0m\u001b[32m ======================\u001b[0m\n"
     ]
    }
   ],
   "source": [
    "!python3 -m pytest -l -v -k \"kaiming_uniform\""
   ]
  },
  {
   "cell_type": "markdown",
   "metadata": {},
   "source": [
    "#### Implementing nn.Conv\n",
    "\n",
    "Essentially, nn.Conv is just a wrapper of the convolution operator we previously implemented\n",
    "which adds a bias term, initializes the weight and bias, and ensures that the padding is set so that the input and output dimensions are the same (in the `stride=1` case, anyways). \n",
    "\n",
    "Importantly, nn.Conv should support NCHW format instead of NHWC format. In particular, we think this makes more sense given our current BatchNorm implementation. You can implement this by applying `transpose` twice to both the input and output.  \n",
    "\n",
    "- Ensure nn.Conv works for (N, C, H, W) tensors even though we implemented the conv op for (N, H, W, C) tensors\n",
    "- Initialize the (k, k, i, o) weight tensor using Kaiming uniform initialization with default settings\n",
    "- Initialize the (o,) bias tensor using uniform initialization on the interval $\\pm$`1.0/(in_channels * kernel_size**2)**0.5`\n",
    "- Calculate the appropriate padding to ensure input and output dimensions are the same\n",
    "- Calculate the convolution, then add the properly-broadcasted bias term if present\n",
    "\n",
    "You can now test your nn.Conv against PyTorch's nn.Conv2d with the two PyTest calls below."
   ]
  },
  {
   "cell_type": "code",
   "execution_count": 12,
   "metadata": {
    "scrolled": false
   },
   "outputs": [
    {
     "name": "stdout",
     "output_type": "stream",
     "text": [
      "\u001b[1m============================= test session starts ==============================\u001b[0m\n",
      "platform linux -- Python 3.8.13, pytest-7.2.0, pluggy-1.0.0 -- /home/ubuntu/anaconda3/envs/mlsys_hw/bin/python3\n",
      "cachedir: .pytest_cache\n",
      "rootdir: /home/ubuntu/repos/mlsys/hw4\n",
      "plugins: typeguard-2.13.3, anyio-3.6.2\n",
      "collected 1803 items / 1802 deselected / 1 selected                            \u001b[0m\u001b[1m\n",
      "\n",
      "tests/test_conv.py::test_nn_conv_forward[needle.backend_ndarray.ndarray_backend_cpu-4-8-16-3-1] \u001b[31mFAILED\u001b[0m\u001b[31m [100%]\u001b[0m\n",
      "\n",
      "=================================== FAILURES ===================================\n",
      "\u001b[31m\u001b[1m_ test_nn_conv_forward[needle.backend_ndarray.ndarray_backend_cpu-4-8-16-3-1] __\u001b[0m\n",
      "\n",
      "s = 4, cin = 8, cout = 16, k = 3, stride = 1, device = cpu()\n",
      "\n",
      "    \u001b[37m@pytest\u001b[39;49;00m.mark.parametrize(\u001b[33m\"\u001b[39;49;00m\u001b[33ms,cin,cout,k,stride\u001b[39;49;00m\u001b[33m\"\u001b[39;49;00m, conv_forward_params)\n",
      "    \u001b[37m@pytest\u001b[39;49;00m.mark.parametrize(\u001b[33m\"\u001b[39;49;00m\u001b[33mdevice\u001b[39;49;00m\u001b[33m\"\u001b[39;49;00m, _DEVICES)\n",
      "    \u001b[94mdef\u001b[39;49;00m \u001b[92mtest_nn_conv_forward\u001b[39;49;00m(s, cin, cout, k, stride, device):\n",
      "        np.random.seed(\u001b[94m0\u001b[39;49;00m)\n",
      "        \u001b[94mimport\u001b[39;49;00m \u001b[04m\u001b[96mtorch\u001b[39;49;00m\n",
      "        f = ndl.nn.Conv(cin, cout, k, stride=stride, device=device)\n",
      "        x = ndl.init.rand(\u001b[94m10\u001b[39;49;00m, cin, s, s, device=device)\n",
      "    \n",
      "        g = torch.nn.Conv2d(cin, cout, k, stride=stride, padding=k//\u001b[94m2\u001b[39;49;00m)\n",
      "        g.weight.data = torch.tensor(f.weight.cached_data.numpy().transpose(\u001b[94m3\u001b[39;49;00m, \u001b[94m2\u001b[39;49;00m, \u001b[94m0\u001b[39;49;00m, \u001b[94m1\u001b[39;49;00m))\n",
      "        g.bias.data = torch.tensor(f.bias.cached_data.numpy())\n",
      "        z = torch.tensor(x.cached_data.numpy())\n",
      "    \n",
      ">       \u001b[94massert\u001b[39;49;00m np.linalg.norm(f(x).cached_data.numpy() - g(z).data.numpy()) < \u001b[94m1e-3\u001b[39;49;00m\n",
      "\u001b[1m\u001b[31mE       AssertionError: assert 4.598761 < 0.001\u001b[0m\n",
      "\u001b[1m\u001b[31mE        +  where 4.598761 = <function norm at 0x7f8eefe38c10>((array([[[[ 1.13283944e+00,  2.11146444e-01,  3.28146428e-01,\\n          -2.94300765e-01],\\n         [ 8.64967048e-01,  8.48758459e-01, -1.34139165e-01,\\n          -1.81775212e-01],\\n         [ 7.18198478e-01,  1.78922057e-01,  5.13797998e-01,\\n           5.03971756e-01],\\n         [ 3.48404586e-01, -2.31752962e-01,  9.52353403e-02,\\n          -2.37080604e-02]],\\n\\n        [[-1.12514377e-01, -2.89512306e-01, -1.07775950e+00,\\n          -6.29121184e-01],\\n         [ 2.50971377e-01,  4.40272123e-01,  5.71099937e-01,\\n           4.67474669e-01],\\n         [ 7.47419059e-01,  1.00948942e+00,  7.54074156e-01,\\n           5.69604099e-01],\\n         [ 7.63877869e-01,  1.37096167e-01,  6.29066825e-01,\\n           2.60230988e-01]],\\n\\n        [[ 6.03031099e-01,  5.03680885e-01,  3.51563126e-01,\\n           1.05107650e-02],\\n         [ 8.49328339e-01,  5.43713808e-01,  4.32375580e-01,\\n           5.40134907e-01],\\n         [ 4.86259669e-01,  4.31882501e-01,  4.21449900e-01,\\n           1.36146218e-01],\\n         [ 2.55934179e-01, -1.12757504e-01, -1.64285317e-01,\\n           4.90443438e-01]],\\n\\n        ...,\\n\\n        [[-1.32170767e-01, -3.68984967e-01, -6.47701740e-01,\\n          -3.03103000e-01],\\n         [ 6.32330999...01],\\n         [-3.15679699e-01,  3.45312238e-01,  3.40524644e-01,\\n           9.58224609e-02]],\\n\\n        ...,\\n\\n        [[-6.78040922e-01,  1.45714998e-01,  2.57303476e-01,\\n           6.17419854e-02],\\n         [-1.87786281e-01,  4.46339756e-01, -3.72481376e-01,\\n           3.25385541e-01],\\n         [ 3.93626869e-01, -3.05063128e-01, -4.16925788e-01,\\n          -1.63288772e-01],\\n         [-3.47672731e-01, -2.28998959e-01,  2.16172189e-02,\\n          -2.71852255e-01]],\\n\\n        [[-2.97083616e-01, -3.46856087e-01,  6.76817238e-01,\\n           1.39098287e-01],\\n         [ 7.68660426e-01,  2.77754441e-02,  8.78180921e-01,\\n          -2.48736858e-01],\\n         [ 4.03284252e-01, -3.63256723e-01,  2.67877251e-01,\\n           3.73545051e-01],\\n         [ 6.88497782e-01,  7.60856271e-01,  4.72722620e-01,\\n          -7.68685818e-01]],\\n\\n        [[ 7.44864643e-01, -5.16644299e-01,  3.09069529e-02,\\n          -2.79635079e-02],\\n         [-3.89442831e-01, -8.68153721e-02,  1.64617062e-01,\\n          -3.27275187e-01],\\n         [-1.13143243e-01,  7.55720958e-02, -9.93457317e-01,\\n          -3.08270007e-01],\\n         [-2.22593129e-01, -6.54641032e-01,  2.21332192e-01,\\n          -6.39015079e-01]]]], dtype=float32) - array([[[[ 1.13283944e+00,  2.11146444e-01,  3.28146428e-01,\\n          -2.94300765e-01],\\n         [ 8.64967048e-01,  8.48758459e-01, -1.34139165e-01,\\n          -1.81775212e-01],\\n         [ 7.18198478e-01,  1.78922057e-01,  5.13797998e-01,\\n           5.03971756e-01],\\n         [ 3.48404586e-01, -2.31752962e-01,  9.52353403e-02,\\n          -2.37080604e-02]],\\n\\n        [[-1.03525221e-01, -2.80523151e-01, -1.06877041e+00,\\n          -6.20132029e-01],\\n         [ 2.59960532e-01,  4.49261278e-01,  5.80089092e-01,\\n           4.76463825e-01],\\n         [ 7.56408215e-01,  1.01847851e+00,  7.63063312e-01,\\n           5.78593254e-01],\\n         [ 7.72867024e-01,  1.46085322e-01,  6.38055980e-01,\\n           2.69220144e-01]],\\n\\n        [[ 7.37306952e-01,  6.37956738e-01,  4.85839009e-01,\\n           1.44786656e-01],\\n         [ 9.83604193e-01,  6.77989662e-01,  5.66651464e-01,\\n           6.74410760e-01],\\n         [ 6.20535553e-01,  5.66158414e-01,  5.55725813e-01,\\n           2.70422101e-01],\\n         [ 3.90210062e-01,  2.15183832e-02, -3.00094336e-02,\\n           6.24719322e-01]],\\n\\n        ...,\\n\\n        [[-1.82251573e-01, -4.19065773e-01, -6.97782576e-01,\\n          -3.53183836e-01],\\n         [ 1.31522790...01],\\n         [-1.81403816e-01,  4.79588121e-01,  4.74800527e-01,\\n           2.30098337e-01]],\\n\\n        ...,\\n\\n        [[-7.28121758e-01,  9.56341848e-02,  2.07222670e-01,\\n           1.16611645e-02],\\n         [-2.37867087e-01,  3.96258950e-01, -4.22562182e-01,\\n           2.75304735e-01],\\n         [ 3.43546063e-01, -3.55143934e-01, -4.67006594e-01,\\n          -2.13369593e-01],\\n         [-3.97753537e-01, -2.79079795e-01, -2.84636021e-02,\\n          -3.21933061e-01]],\\n\\n        [[-2.12227494e-01, -2.61999965e-01,  7.61673331e-01,\\n           2.23954409e-01],\\n         [ 8.53516519e-01,  1.12631567e-01,  9.63037014e-01,\\n          -1.63880736e-01],\\n         [ 4.88140374e-01, -2.78400600e-01,  3.52733374e-01,\\n           4.58401173e-01],\\n         [ 7.73353875e-01,  8.45712364e-01,  5.57578743e-01,\\n          -6.83829725e-01]],\\n\\n        [[ 7.93174207e-01, -4.68334705e-01,  7.92165473e-02,\\n           2.03460865e-02],\\n         [-3.41133237e-01, -3.85057814e-02,  2.12926656e-01,\\n          -2.78965592e-01],\\n         [-6.48336485e-02,  1.23881690e-01, -9.45147753e-01,\\n          -2.59960413e-01],\\n         [-1.74283534e-01, -6.06331468e-01,  2.69641787e-01,\\n          -5.90705514e-01]]]], dtype=float32)))\u001b[0m\n",
      "\u001b[1m\u001b[31mE        +    where <function norm at 0x7f8eefe38c10> = <module 'numpy.linalg' from '/home/ubuntu/.local/lib/python3.8/site-packages/numpy/linalg/__init__.py'>.norm\u001b[0m\n",
      "\u001b[1m\u001b[31mE        +      where <module 'numpy.linalg' from '/home/ubuntu/.local/lib/python3.8/site-packages/numpy/linalg/__init__.py'> = np.linalg\u001b[0m\n",
      "\u001b[1m\u001b[31mE        +    and   array([[[[ 1.13283944e+00,  2.11146444e-01,  3.28146428e-01,\\n          -2.94300765e-01],\\n         [ 8.64967048e-01,  8.48758459e-01, -1.34139165e-01,\\n          -1.81775212e-01],\\n         [ 7.18198478e-01,  1.78922057e-01,  5.13797998e-01,\\n           5.03971756e-01],\\n         [ 3.48404586e-01, -2.31752962e-01,  9.52353403e-02,\\n          -2.37080604e-02]],\\n\\n        [[-1.12514377e-01, -2.89512306e-01, -1.07775950e+00,\\n          -6.29121184e-01],\\n         [ 2.50971377e-01,  4.40272123e-01,  5.71099937e-01,\\n           4.67474669e-01],\\n         [ 7.47419059e-01,  1.00948942e+00,  7.54074156e-01,\\n           5.69604099e-01],\\n         [ 7.63877869e-01,  1.37096167e-01,  6.29066825e-01,\\n           2.60230988e-01]],\\n\\n        [[ 6.03031099e-01,  5.03680885e-01,  3.51563126e-01,\\n           1.05107650e-02],\\n         [ 8.49328339e-01,  5.43713808e-01,  4.32375580e-01,\\n           5.40134907e-01],\\n         [ 4.86259669e-01,  4.31882501e-01,  4.21449900e-01,\\n           1.36146218e-01],\\n         [ 2.55934179e-01, -1.12757504e-01, -1.64285317e-01,\\n           4.90443438e-01]],\\n\\n        ...,\\n\\n        [[-1.32170767e-01, -3.68984967e-01, -6.47701740e-01,\\n          -3.03103000e-01],\\n         [ 6.32330999...01],\\n         [-3.15679699e-01,  3.45312238e-01,  3.40524644e-01,\\n           9.58224609e-02]],\\n\\n        ...,\\n\\n        [[-6.78040922e-01,  1.45714998e-01,  2.57303476e-01,\\n           6.17419854e-02],\\n         [-1.87786281e-01,  4.46339756e-01, -3.72481376e-01,\\n           3.25385541e-01],\\n         [ 3.93626869e-01, -3.05063128e-01, -4.16925788e-01,\\n          -1.63288772e-01],\\n         [-3.47672731e-01, -2.28998959e-01,  2.16172189e-02,\\n          -2.71852255e-01]],\\n\\n        [[-2.97083616e-01, -3.46856087e-01,  6.76817238e-01,\\n           1.39098287e-01],\\n         [ 7.68660426e-01,  2.77754441e-02,  8.78180921e-01,\\n          -2.48736858e-01],\\n         [ 4.03284252e-01, -3.63256723e-01,  2.67877251e-01,\\n           3.73545051e-01],\\n         [ 6.88497782e-01,  7.60856271e-01,  4.72722620e-01,\\n          -7.68685818e-01]],\\n\\n        [[ 7.44864643e-01, -5.16644299e-01,  3.09069529e-02,\\n          -2.79635079e-02],\\n         [-3.89442831e-01, -8.68153721e-02,  1.64617062e-01,\\n          -3.27275187e-01],\\n         [-1.13143243e-01,  7.55720958e-02, -9.93457317e-01,\\n          -3.08270007e-01],\\n         [-2.22593129e-01, -6.54641032e-01,  2.21332192e-01,\\n          -6.39015079e-01]]]], dtype=float32) = <bound method NDArray.numpy of NDArray([[[[ 1.13283944e+00  2.11146444e-01  3.28146428e-01 -2.94300765e-01]\\n   [ 8.64967048e-01  8.48758459e-01 -1.34139165e-01 -1.81775212e-01]\\n   [ 7.18198478e-01  1.78922057e-01  5.13797998e-01  5.03971756e-01]\\n   [ 3.48404586e-01 -2.31752962e-01  9.52353403e-02 -2.37080604e-02]]\\n\\n  [[-1.12514377e-01 -2.89512306e-01 -1.07775950e+00 -6.29121184e-01]\\n   [ 2.50971377e-01  4.40272123e-01  5.71099937e-01  4.67474669e-01]\\n   [ 7.47419059e-01  1.00948942e+00  7.54074156e-01  5.69604099e-01]\\n   [ 7.63877869e-01  1.37096167e-01  6.29066825e-01  2.60230988e-01]]\\n\\n  [[ 6.03031099e-01  5.03680885e-01  3.51563126e-01  1.05107650e-02]\\n   [ 8.49328339e-01  5.43713808e-01  4.32375580e-01  5.40134907e-01]\\n   [ 4.86259669e-01  4.31882501e-01  4.21449900e-01  1.36146218e-01]\\n   [ 2.55934179e-01 -1.12757504e-01 -1.64285317e-01  4.90443438e-01]]\\n\\n  ...\\n\\n  [[-1.32170767e-01 -3.68984967e-01 -6.47701740e-01 -3.03103000e-01]\\n   [ 6.32330999e-02 -4.25174087e-01  3.95667762e-01  1.07101299e-01]\\n   [-2.57169545e-01 -2.17985898e-01  5.76585159e-02  1.02090172e-01]\\n   [-1.27865583e-01 -3.65886539e-01  5.02818048e-01 -1.17407441e-02]]\\n\\n  [[ 3.28934550e-01  5.02754450e-02 -2.1...05920005e-01  1.98076487e-01 -1.57580107e-01  2.78300941e-01]]\\n\\n  [[ 2.68999994e-01  6.32569969e-01  2.52807438e-01 -2.10329354e-01]\\n   [ 8.04766595e-01  1.14380336e+00 -6.45067275e-01  3.86258036e-01]\\n   [ 6.25021577e-01  6.15139723e-01 -5.71833968e-01  6.67736530e-01]\\n   [-3.15679699e-01  3.45312238e-01  3.40524644e-01  9.58224609e-02]]\\n\\n  ...\\n\\n  [[-6.78040922e-01  1.45714998e-01  2.57303476e-01  6.17419854e-02]\\n   [-1.87786281e-01  4.46339756e-01 -3.72481376e-01  3.25385541e-01]\\n   [ 3.93626869e-01 -3.05063128e-01 -4.16925788e-01 -1.63288772e-01]\\n   [-3.47672731e-01 -2.28998959e-01  2.16172189e-02 -2.71852255e-01]]\\n\\n  [[-2.97083616e-01 -3.46856087e-01  6.76817238e-01  1.39098287e-01]\\n   [ 7.68660426e-01  2.77754441e-02  8.78180921e-01 -2.48736858e-01]\\n   [ 4.03284252e-01 -3.63256723e-01  2.67877251e-01  3.73545051e-01]\\n   [ 6.88497782e-01  7.60856271e-01  4.72722620e-01 -7.68685818e-01]]\\n\\n  [[ 7.44864643e-01 -5.16644299e-01  3.09069529e-02 -2.79635079e-02]\\n   [-3.89442831e-01 -8.68153721e-02  1.64617062e-01 -3.27275187e-01]\\n   [-1.13143243e-01  7.55720958e-02 -9.93457317e-01 -3.08270007e-01]\\n   [-2.22593129e-01 -6.54641032e-01  2.21332192e-01 -6.39015079e-01]]]], device=cpu())>()\u001b[0m\n",
      "\u001b[1m\u001b[31mE        +      where <bound method NDArray.numpy of NDArray([[[[ 1.13283944e+00  2.11146444e-01  3.28146428e-01 -2.94300765e-01]\\n   [ 8.64967048e-01  8.48758459e-01 -1.34139165e-01 -1.81775212e-01]\\n   [ 7.18198478e-01  1.78922057e-01  5.13797998e-01  5.03971756e-01]\\n   [ 3.48404586e-01 -2.31752962e-01  9.52353403e-02 -2.37080604e-02]]\\n\\n  [[-1.12514377e-01 -2.89512306e-01 -1.07775950e+00 -6.29121184e-01]\\n   [ 2.50971377e-01  4.40272123e-01  5.71099937e-01  4.67474669e-01]\\n   [ 7.47419059e-01  1.00948942e+00  7.54074156e-01  5.69604099e-01]\\n   [ 7.63877869e-01  1.37096167e-01  6.29066825e-01  2.60230988e-01]]\\n\\n  [[ 6.03031099e-01  5.03680885e-01  3.51563126e-01  1.05107650e-02]\\n   [ 8.49328339e-01  5.43713808e-01  4.32375580e-01  5.40134907e-01]\\n   [ 4.86259669e-01  4.31882501e-01  4.21449900e-01  1.36146218e-01]\\n   [ 2.55934179e-01 -1.12757504e-01 -1.64285317e-01  4.90443438e-01]]\\n\\n  ...\\n\\n  [[-1.32170767e-01 -3.68984967e-01 -6.47701740e-01 -3.03103000e-01]\\n   [ 6.32330999e-02 -4.25174087e-01  3.95667762e-01  1.07101299e-01]\\n   [-2.57169545e-01 -2.17985898e-01  5.76585159e-02  1.02090172e-01]\\n   [-1.27865583e-01 -3.65886539e-01  5.02818048e-01 -1.17407441e-02]]\\n\\n  [[ 3.28934550e-01  5.02754450e-02 -2.1...05920005e-01  1.98076487e-01 -1.57580107e-01  2.78300941e-01]]\\n\\n  [[ 2.68999994e-01  6.32569969e-01  2.52807438e-01 -2.10329354e-01]\\n   [ 8.04766595e-01  1.14380336e+00 -6.45067275e-01  3.86258036e-01]\\n   [ 6.25021577e-01  6.15139723e-01 -5.71833968e-01  6.67736530e-01]\\n   [-3.15679699e-01  3.45312238e-01  3.40524644e-01  9.58224609e-02]]\\n\\n  ...\\n\\n  [[-6.78040922e-01  1.45714998e-01  2.57303476e-01  6.17419854e-02]\\n   [-1.87786281e-01  4.46339756e-01 -3.72481376e-01  3.25385541e-01]\\n   [ 3.93626869e-01 -3.05063128e-01 -4.16925788e-01 -1.63288772e-01]\\n   [-3.47672731e-01 -2.28998959e-01  2.16172189e-02 -2.71852255e-01]]\\n\\n  [[-2.97083616e-01 -3.46856087e-01  6.76817238e-01  1.39098287e-01]\\n   [ 7.68660426e-01  2.77754441e-02  8.78180921e-01 -2.48736858e-01]\\n   [ 4.03284252e-01 -3.63256723e-01  2.67877251e-01  3.73545051e-01]\\n   [ 6.88497782e-01  7.60856271e-01  4.72722620e-01 -7.68685818e-01]]\\n\\n  [[ 7.44864643e-01 -5.16644299e-01  3.09069529e-02 -2.79635079e-02]\\n   [-3.89442831e-01 -8.68153721e-02  1.64617062e-01 -3.27275187e-01]\\n   [-1.13143243e-01  7.55720958e-02 -9.93457317e-01 -3.08270007e-01]\\n   [-2.22593129e-01 -6.54641032e-01  2.21332192e-01 -6.39015079e-01]]]], device=cpu())> = NDArray([[[[ 1.13283944e+00  2.11146444e-01  3.28146428e-01 -2.94300765e-01]\\n   [ 8.64967048e-01  8.48758459e-01 -1.34139165e-01 -1.81775212e-01]\\n   [ 7.18198478e-01  1.78922057e-01  5.13797998e-01  5.03971756e-01]\\n   [ 3.48404586e-01 -2.31752962e-01  9.52353403e-02 -2.37080604e-02]]\\n\\n  [[-1.12514377e-01 -2.89512306e-01 -1.07775950e+00 -6.29121184e-01]\\n   [ 2.50971377e-01  4.40272123e-01  5.71099937e-01  4.67474669e-01]\\n   [ 7.47419059e-01  1.00948942e+00  7.54074156e-01  5.69604099e-01]\\n   [ 7.63877869e-01  1.37096167e-01  6.29066825e-01  2.60230988e-01]]\\n\\n  [[ 6.03031099e-01  5.03680885e-01  3.51563126e-01  1.05107650e-02]\\n   [ 8.49328339e-01  5.43713808e-01  4.32375580e-01  5.40134907e-01]\\n   [ 4.86259669e-01  4.31882501e-01  4.21449900e-01  1.36146218e-01]\\n   [ 2.55934179e-01 -1.12757504e-01 -1.64285317e-01  4.90443438e-01]]\\n\\n  ...\\n\\n  [[-1.32170767e-01 -3.68984967e-01 -6.47701740e-01 -3.03103000e-01]\\n   [ 6.32330999e-02 -4.25174087e-01  3.95667762e-01  1.07101299e-01]\\n   [-2.57169545e-01 -2.17985898e-01  5.76585159e-02  1.02090172e-01]\\n   [-1.27865583e-01 -3.65886539e-01  5.02818048e-01 -1.17407441e-02]]\\n\\n  [[ 3.28934550e-01  5.02754450e-02 -2.14048654e-01  4.46987540e-01]\\n  ....05920005e-01  1.98076487e-01 -1.57580107e-01  2.78300941e-01]]\\n\\n  [[ 2.68999994e-01  6.32569969e-01  2.52807438e-01 -2.10329354e-01]\\n   [ 8.04766595e-01  1.14380336e+00 -6.45067275e-01  3.86258036e-01]\\n   [ 6.25021577e-01  6.15139723e-01 -5.71833968e-01  6.67736530e-01]\\n   [-3.15679699e-01  3.45312238e-01  3.40524644e-01  9.58224609e-02]]\\n\\n  ...\\n\\n  [[-6.78040922e-01  1.45714998e-01  2.57303476e-01  6.17419854e-02]\\n   [-1.87786281e-01  4.46339756e-01 -3.72481376e-01  3.25385541e-01]\\n   [ 3.93626869e-01 -3.05063128e-01 -4.16925788e-01 -1.63288772e-01]\\n   [-3.47672731e-01 -2.28998959e-01  2.16172189e-02 -2.71852255e-01]]\\n\\n  [[-2.97083616e-01 -3.46856087e-01  6.76817238e-01  1.39098287e-01]\\n   [ 7.68660426e-01  2.77754441e-02  8.78180921e-01 -2.48736858e-01]\\n   [ 4.03284252e-01 -3.63256723e-01  2.67877251e-01  3.73545051e-01]\\n   [ 6.88497782e-01  7.60856271e-01  4.72722620e-01 -7.68685818e-01]]\\n\\n  [[ 7.44864643e-01 -5.16644299e-01  3.09069529e-02 -2.79635079e-02]\\n   [-3.89442831e-01 -8.68153721e-02  1.64617062e-01 -3.27275187e-01]\\n   [-1.13143243e-01  7.55720958e-02 -9.93457317e-01 -3.08270007e-01]\\n   [-2.22593129e-01 -6.54641032e-01  2.21332192e-01 -6.39015079e-01]]]], device=cpu()).numpy\u001b[0m\n",
      "\u001b[1m\u001b[31mE        +        where NDArray([[[[ 1.13283944e+00  2.11146444e-01  3.28146428e-01 -2.94300765e-01]\\n   [ 8.64967048e-01  8.48758459e-01 -1.34139165e-01 -1.81775212e-01]\\n   [ 7.18198478e-01  1.78922057e-01  5.13797998e-01  5.03971756e-01]\\n   [ 3.48404586e-01 -2.31752962e-01  9.52353403e-02 -2.37080604e-02]]\\n\\n  [[-1.12514377e-01 -2.89512306e-01 -1.07775950e+00 -6.29121184e-01]\\n   [ 2.50971377e-01  4.40272123e-01  5.71099937e-01  4.67474669e-01]\\n   [ 7.47419059e-01  1.00948942e+00  7.54074156e-01  5.69604099e-01]\\n   [ 7.63877869e-01  1.37096167e-01  6.29066825e-01  2.60230988e-01]]\\n\\n  [[ 6.03031099e-01  5.03680885e-01  3.51563126e-01  1.05107650e-02]\\n   [ 8.49328339e-01  5.43713808e-01  4.32375580e-01  5.40134907e-01]\\n   [ 4.86259669e-01  4.31882501e-01  4.21449900e-01  1.36146218e-01]\\n   [ 2.55934179e-01 -1.12757504e-01 -1.64285317e-01  4.90443438e-01]]\\n\\n  ...\\n\\n  [[-1.32170767e-01 -3.68984967e-01 -6.47701740e-01 -3.03103000e-01]\\n   [ 6.32330999e-02 -4.25174087e-01  3.95667762e-01  1.07101299e-01]\\n   [-2.57169545e-01 -2.17985898e-01  5.76585159e-02  1.02090172e-01]\\n   [-1.27865583e-01 -3.65886539e-01  5.02818048e-01 -1.17407441e-02]]\\n\\n  [[ 3.28934550e-01  5.02754450e-02 -2.14048654e-01  4.46987540e-01]\\n  ....05920005e-01  1.98076487e-01 -1.57580107e-01  2.78300941e-01]]\\n\\n  [[ 2.68999994e-01  6.32569969e-01  2.52807438e-01 -2.10329354e-01]\\n   [ 8.04766595e-01  1.14380336e+00 -6.45067275e-01  3.86258036e-01]\\n   [ 6.25021577e-01  6.15139723e-01 -5.71833968e-01  6.67736530e-01]\\n   [-3.15679699e-01  3.45312238e-01  3.40524644e-01  9.58224609e-02]]\\n\\n  ...\\n\\n  [[-6.78040922e-01  1.45714998e-01  2.57303476e-01  6.17419854e-02]\\n   [-1.87786281e-01  4.46339756e-01 -3.72481376e-01  3.25385541e-01]\\n   [ 3.93626869e-01 -3.05063128e-01 -4.16925788e-01 -1.63288772e-01]\\n   [-3.47672731e-01 -2.28998959e-01  2.16172189e-02 -2.71852255e-01]]\\n\\n  [[-2.97083616e-01 -3.46856087e-01  6.76817238e-01  1.39098287e-01]\\n   [ 7.68660426e-01  2.77754441e-02  8.78180921e-01 -2.48736858e-01]\\n   [ 4.03284252e-01 -3.63256723e-01  2.67877251e-01  3.73545051e-01]\\n   [ 6.88497782e-01  7.60856271e-01  4.72722620e-01 -7.68685818e-01]]\\n\\n  [[ 7.44864643e-01 -5.16644299e-01  3.09069529e-02 -2.79635079e-02]\\n   [-3.89442831e-01 -8.68153721e-02  1.64617062e-01 -3.27275187e-01]\\n   [-1.13143243e-01  7.55720958e-02 -9.93457317e-01 -3.08270007e-01]\\n   [-2.22593129e-01 -6.54641032e-01  2.21332192e-01 -6.39015079e-01]]]], device=cpu()) = needle.Tensor([[[[ 1.13283944e+00  2.11146444e-01  3.28146428e-01 -2.94300765e-01]\\n   [ 8.64967048e-01  8.48758459e-01 -1.34139165e-01 -1.81775212e-01]\\n   [ 7.18198478e-01  1.78922057e-01  5.13797998e-01  5.03971756e-01]\\n   [ 3.48404586e-01 -2.31752962e-01  9.52353403e-02 -2.37080604e-02]]\\n\\n  [[-1.12514377e-01 -2.89512306e-01 -1.07775950e+00 -6.29121184e-01]\\n   [ 2.50971377e-01  4.40272123e-01  5.71099937e-01  4.67474669e-01]\\n   [ 7.47419059e-01  1.00948942e+00  7.54074156e-01  5.69604099e-01]\\n   [ 7.63877869e-01  1.37096167e-01  6.29066825e-01  2.60230988e-01]]\\n\\n  [[ 6.03031099e-01  5.03680885e-01  3.51563126e-01  1.05107650e-02]\\n   [ 8.49328339e-01  5.43713808e-01  4.32375580e-01  5.40134907e-01]\\n   [ 4.86259669e-01  4.31882501e-01  4.21449900e-01  1.36146218e-01]\\n   [ 2.55934179e-01 -1.12757504e-01 -1.64285317e-01  4.90443438e-01]]\\n\\n  ...\\n\\n  [[-1.32170767e-01 -3.68984967e-01 -6.47701740e-01 -3.03103000e-01]\\n   [ 6.32330999e-02 -4.25174087e-01  3.95667762e-01  1.07101299e-01]\\n   [-2.57169545e-01 -2.17985898e-01  5.76585159e-02  1.02090172e-01]\\n   [-1.27865583e-01 -3.65886539e-01  5.02818048e-01 -1.17407441e-02]]\\n\\n  [[ 3.28934550e-01  5.02754450e-02 -2.14048654e-01  4.46987540e-...20e+00]\\n   [ 3.05920005e-01  1.98076487e-01 -1.57580107e-01  2.78300941e-01]]\\n\\n  [[ 2.68999994e-01  6.32569969e-01  2.52807438e-01 -2.10329354e-01]\\n   [ 8.04766595e-01  1.14380336e+00 -6.45067275e-01  3.86258036e-01]\\n   [ 6.25021577e-01  6.15139723e-01 -5.71833968e-01  6.67736530e-01]\\n   [-3.15679699e-01  3.45312238e-01  3.40524644e-01  9.58224609e-02]]\\n\\n  ...\\n\\n  [[-6.78040922e-01  1.45714998e-01  2.57303476e-01  6.17419854e-02]\\n   [-1.87786281e-01  4.46339756e-01 -3.72481376e-01  3.25385541e-01]\\n   [ 3.93626869e-01 -3.05063128e-01 -4.16925788e-01 -1.63288772e-01]\\n   [-3.47672731e-01 -2.28998959e-01  2.16172189e-02 -2.71852255e-01]]\\n\\n  [[-2.97083616e-01 -3.46856087e-01  6.76817238e-01  1.39098287e-01]\\n   [ 7.68660426e-01  2.77754441e-02  8.78180921e-01 -2.48736858e-01]\\n   [ 4.03284252e-01 -3.63256723e-01  2.67877251e-01  3.73545051e-01]\\n   [ 6.88497782e-01  7.60856271e-01  4.72722620e-01 -7.68685818e-01]]\\n\\n  [[ 7.44864643e-01 -5.16644299e-01  3.09069529e-02 -2.79635079e-02]\\n   [-3.89442831e-01 -8.68153721e-02  1.64617062e-01 -3.27275187e-01]\\n   [-1.13143243e-01  7.55720958e-02 -9.93457317e-01 -3.08270007e-01]\\n   [-2.22593129e-01 -6.54641032e-01  2.21332192e-01 -6.39015079e-01]]]]).cached_data\u001b[0m\n",
      "\u001b[1m\u001b[31mE        +          where needle.Tensor([[[[ 1.13283944e+00  2.11146444e-01  3.28146428e-01 -2.94300765e-01]\\n   [ 8.64967048e-01  8.48758459e-01 -1.34139165e-01 -1.81775212e-01]\\n   [ 7.18198478e-01  1.78922057e-01  5.13797998e-01  5.03971756e-01]\\n   [ 3.48404586e-01 -2.31752962e-01  9.52353403e-02 -2.37080604e-02]]\\n\\n  [[-1.12514377e-01 -2.89512306e-01 -1.07775950e+00 -6.29121184e-01]\\n   [ 2.50971377e-01  4.40272123e-01  5.71099937e-01  4.67474669e-01]\\n   [ 7.47419059e-01  1.00948942e+00  7.54074156e-01  5.69604099e-01]\\n   [ 7.63877869e-01  1.37096167e-01  6.29066825e-01  2.60230988e-01]]\\n\\n  [[ 6.03031099e-01  5.03680885e-01  3.51563126e-01  1.05107650e-02]\\n   [ 8.49328339e-01  5.43713808e-01  4.32375580e-01  5.40134907e-01]\\n   [ 4.86259669e-01  4.31882501e-01  4.21449900e-01  1.36146218e-01]\\n   [ 2.55934179e-01 -1.12757504e-01 -1.64285317e-01  4.90443438e-01]]\\n\\n  ...\\n\\n  [[-1.32170767e-01 -3.68984967e-01 -6.47701740e-01 -3.03103000e-01]\\n   [ 6.32330999e-02 -4.25174087e-01  3.95667762e-01  1.07101299e-01]\\n   [-2.57169545e-01 -2.17985898e-01  5.76585159e-02  1.02090172e-01]\\n   [-1.27865583e-01 -3.65886539e-01  5.02818048e-01 -1.17407441e-02]]\\n\\n  [[ 3.28934550e-01  5.02754450e-02 -2.14048654e-01  4.46987540e-...20e+00]\\n   [ 3.05920005e-01  1.98076487e-01 -1.57580107e-01  2.78300941e-01]]\\n\\n  [[ 2.68999994e-01  6.32569969e-01  2.52807438e-01 -2.10329354e-01]\\n   [ 8.04766595e-01  1.14380336e+00 -6.45067275e-01  3.86258036e-01]\\n   [ 6.25021577e-01  6.15139723e-01 -5.71833968e-01  6.67736530e-01]\\n   [-3.15679699e-01  3.45312238e-01  3.40524644e-01  9.58224609e-02]]\\n\\n  ...\\n\\n  [[-6.78040922e-01  1.45714998e-01  2.57303476e-01  6.17419854e-02]\\n   [-1.87786281e-01  4.46339756e-01 -3.72481376e-01  3.25385541e-01]\\n   [ 3.93626869e-01 -3.05063128e-01 -4.16925788e-01 -1.63288772e-01]\\n   [-3.47672731e-01 -2.28998959e-01  2.16172189e-02 -2.71852255e-01]]\\n\\n  [[-2.97083616e-01 -3.46856087e-01  6.76817238e-01  1.39098287e-01]\\n   [ 7.68660426e-01  2.77754441e-02  8.78180921e-01 -2.48736858e-01]\\n   [ 4.03284252e-01 -3.63256723e-01  2.67877251e-01  3.73545051e-01]\\n   [ 6.88497782e-01  7.60856271e-01  4.72722620e-01 -7.68685818e-01]]\\n\\n  [[ 7.44864643e-01 -5.16644299e-01  3.09069529e-02 -2.79635079e-02]\\n   [-3.89442831e-01 -8.68153721e-02  1.64617062e-01 -3.27275187e-01]\\n   [-1.13143243e-01  7.55720958e-02 -9.93457317e-01 -3.08270007e-01]\\n   [-2.22593129e-01 -6.54641032e-01  2.21332192e-01 -6.39015079e-01]]]]) = <needle.nn.Conv object at 0x7f8e44be1d00>(needle.Tensor([[[[7.98689246e-01 9.23455536e-01 2.99153656e-01 3.88404131e-01]\\n   [4.86272097e-01 5.88151455e-01 9.83853817e-01 6.97330236e-01]\\n   [3.89548510e-01 2.63767689e-01 9.44625735e-01 1.35548428e-01]\\n   [7.20265865e-01 9.25395012e-01 6.64665580e-01 4.23054427e-01]]\\n\\n  [[1.98990941e-01 3.67475331e-01 7.06871808e-01 6.49534225e-01]\\n   [9.27976191e-01 8.66860926e-01 8.16150725e-01 9.11450863e-01]\\n   [2.76337147e-01 3.69523555e-01 3.79893899e-01 5.60450613e-01]\\n   [6.68218255e-01 2.86716670e-01 1.94624681e-02 3.99222374e-01]]\\n\\n  [[3.08527946e-01 9.42184746e-01 8.88265014e-01 8.60310674e-01]\\n   [6.52999759e-01 3.44289154e-01 5.48849285e-01 8.15225065e-01]\\n   [9.86103714e-02 8.01074862e-01 4.11797911e-02 8.16421032e-01]\\n   [8.07563782e-01 5.10073081e-02 6.27160728e-01 5.02453089e-01]]\\n\\n  ...\\n\\n  [[9.71763074e-01 3.63844782e-01 7.87915766e-01 5.55294096e-01]\\n   [3.95633668e-01 9.55465913e-01 5.98315954e-01 1.18916944e-01]\\n   [4.17539209e-01 7.81581700e-01 6.93747044e-01 9.16340351e-01]\\n   [2.59377390e-01 7.58193731e-01 4.59875196e-01 5.73609769e-01]]\\n\\n  [[9.55046654e-01 9.79286313e-01 8.61590981e-01 3.59097093e-01]\\n   [8.87700856e-01 6.38609171e-01 4.29996789e-01 3.57426815e-02]...88966e-01]\\n   [8.38227034e-01 9.35492754e-01 1.41986474e-01 2.59373814e-01]\\n   [4.27461416e-01 9.03285516e-04 6.98143020e-02 2.26491272e-01]]\\n\\n  [[4.81101960e-01 2.51522750e-01 8.76681864e-01 3.24272871e-01]\\n   [9.24622834e-01 9.74787235e-01 4.49861526e-01 2.27128819e-01]\\n   [2.91666120e-01 7.76333690e-01 2.73349702e-01 3.80582869e-01]\\n   [4.78575855e-01 5.75111091e-01 9.96100426e-01 2.32209757e-01]]\\n\\n  ...\\n\\n  [[8.86683226e-01 8.30908775e-01 3.16054411e-02 5.68419039e-01]\\n   [6.09161258e-01 9.61575150e-01 2.32366268e-02 5.31103790e-01]\\n   [2.04781368e-01 5.36629073e-02 5.87488532e-01 7.72604167e-01]\\n   [7.74865448e-01 3.02884094e-02 4.06946391e-01 4.45096269e-02]]\\n\\n  [[2.47838646e-01 1.92880705e-01 2.15182573e-01 3.39118421e-01]\\n   [2.77418047e-01 9.62279916e-01 3.52407128e-01 8.94172490e-01]\\n   [1.81041673e-01 7.63746858e-01 6.13455363e-02 4.62761223e-01]\\n   [5.51044010e-03 8.10290754e-01 9.50486064e-01 3.51073705e-02]]\\n\\n  [[9.33846354e-01 7.73853898e-01 3.58861566e-01 9.08876538e-01]\\n   [2.96257257e-01 4.09295321e-01 9.67112631e-02 6.56938970e-01]\\n   [2.96008289e-02 4.84905273e-01 6.83191836e-01 8.21237624e-01]\\n   [1.49941385e-01 7.54090369e-01 7.19077051e-01 5.59570551e-01]]]]))\u001b[0m\n",
      "\u001b[1m\u001b[31mE        +    and   array([[[[ 1.13283944e+00,  2.11146444e-01,  3.28146428e-01,\\n          -2.94300765e-01],\\n         [ 8.64967048e-01,  8.48758459e-01, -1.34139165e-01,\\n          -1.81775212e-01],\\n         [ 7.18198478e-01,  1.78922057e-01,  5.13797998e-01,\\n           5.03971756e-01],\\n         [ 3.48404586e-01, -2.31752962e-01,  9.52353403e-02,\\n          -2.37080604e-02]],\\n\\n        [[-1.03525221e-01, -2.80523151e-01, -1.06877041e+00,\\n          -6.20132029e-01],\\n         [ 2.59960532e-01,  4.49261278e-01,  5.80089092e-01,\\n           4.76463825e-01],\\n         [ 7.56408215e-01,  1.01847851e+00,  7.63063312e-01,\\n           5.78593254e-01],\\n         [ 7.72867024e-01,  1.46085322e-01,  6.38055980e-01,\\n           2.69220144e-01]],\\n\\n        [[ 7.37306952e-01,  6.37956738e-01,  4.85839009e-01,\\n           1.44786656e-01],\\n         [ 9.83604193e-01,  6.77989662e-01,  5.66651464e-01,\\n           6.74410760e-01],\\n         [ 6.20535553e-01,  5.66158414e-01,  5.55725813e-01,\\n           2.70422101e-01],\\n         [ 3.90210062e-01,  2.15183832e-02, -3.00094336e-02,\\n           6.24719322e-01]],\\n\\n        ...,\\n\\n        [[-1.82251573e-01, -4.19065773e-01, -6.97782576e-01,\\n          -3.53183836e-01],\\n         [ 1.31522790...01],\\n         [-1.81403816e-01,  4.79588121e-01,  4.74800527e-01,\\n           2.30098337e-01]],\\n\\n        ...,\\n\\n        [[-7.28121758e-01,  9.56341848e-02,  2.07222670e-01,\\n           1.16611645e-02],\\n         [-2.37867087e-01,  3.96258950e-01, -4.22562182e-01,\\n           2.75304735e-01],\\n         [ 3.43546063e-01, -3.55143934e-01, -4.67006594e-01,\\n          -2.13369593e-01],\\n         [-3.97753537e-01, -2.79079795e-01, -2.84636021e-02,\\n          -3.21933061e-01]],\\n\\n        [[-2.12227494e-01, -2.61999965e-01,  7.61673331e-01,\\n           2.23954409e-01],\\n         [ 8.53516519e-01,  1.12631567e-01,  9.63037014e-01,\\n          -1.63880736e-01],\\n         [ 4.88140374e-01, -2.78400600e-01,  3.52733374e-01,\\n           4.58401173e-01],\\n         [ 7.73353875e-01,  8.45712364e-01,  5.57578743e-01,\\n          -6.83829725e-01]],\\n\\n        [[ 7.93174207e-01, -4.68334705e-01,  7.92165473e-02,\\n           2.03460865e-02],\\n         [-3.41133237e-01, -3.85057814e-02,  2.12926656e-01,\\n          -2.78965592e-01],\\n         [-6.48336485e-02,  1.23881690e-01, -9.45147753e-01,\\n          -2.59960413e-01],\\n         [-1.74283534e-01, -6.06331468e-01,  2.69641787e-01,\\n          -5.90705514e-01]]]], dtype=float32) = <built-in method numpy of Tensor object at 0x7f8e44c04720>()\u001b[0m\n",
      "\u001b[1m\u001b[31mE        +      where <built-in method numpy of Tensor object at 0x7f8e44c04720> = tensor([[[[ 1.1328e+00,  2.1115e-01,  3.2815e-01, -2.9430e-01],\\n          [ 8.6497e-01,  8.4876e-01, -1.3414e-01, -1.8178e-01],\\n          [ 7.1820e-01,  1.7892e-01,  5.1380e-01,  5.0397e-01],\\n          [ 3.4840e-01, -2.3175e-01,  9.5235e-02, -2.3708e-02]],\\n\\n         [[-1.0353e-01, -2.8052e-01, -1.0688e+00, -6.2013e-01],\\n          [ 2.5996e-01,  4.4926e-01,  5.8009e-01,  4.7646e-01],\\n          [ 7.5641e-01,  1.0185e+00,  7.6306e-01,  5.7859e-01],\\n          [ 7.7287e-01,  1.4609e-01,  6.3806e-01,  2.6922e-01]],\\n\\n         [[ 7.3731e-01,  6.3796e-01,  4.8584e-01,  1.4479e-01],\\n          [ 9.8360e-01,  6.7799e-01,  5.6665e-01,  6.7441e-01],\\n          [ 6.2054e-01,  5.6616e-01,  5.5573e-01,  2.7042e-01],\\n          [ 3.9021e-01,  2.1518e-02, -3.0009e-02,  6.2472e-01]],\\n\\n         ...,\\n\\n         [[-1.8225e-01, -4.1907e-01, -6.9778e-01, -3.5318e-01],\\n          [ 1.3152e-02, -4.7525e-01,  3.4559e-01,  5.7020e-02],\\n          [-3.0725e-01, -2.6807e-01,  7.5777e-03,  5.2009e-02],\\n          [-1.7795e-01, -4.1597e-01,  4.5274e-01, -6.1822e-02]],\\n\\n         [[ 4.1379e-01,  1.3513e-01, -1.2919e-01,  5.3184e-01],\\n          [ 1.2155e+00,  9.5675e-02,  1.0671e-01, -6.6989e-03],\\n          [ 1.4876e+00,...50e-01,  6.7576e-01],\\n          [-4.3260e-01,  1.5645e+00,  5.8104e-01,  1.0303e+00],\\n          [ 3.1491e-01,  2.0707e-01, -1.4859e-01,  2.8729e-01]],\\n\\n         [[ 4.0328e-01,  7.6685e-01,  3.8708e-01, -7.6053e-02],\\n          [ 9.3904e-01,  1.2781e+00, -5.1079e-01,  5.2053e-01],\\n          [ 7.5930e-01,  7.4942e-01, -4.3756e-01,  8.0201e-01],\\n          [-1.8140e-01,  4.7959e-01,  4.7480e-01,  2.3010e-01]],\\n\\n         ...,\\n\\n         [[-7.2812e-01,  9.5634e-02,  2.0722e-01,  1.1661e-02],\\n          [-2.3787e-01,  3.9626e-01, -4.2256e-01,  2.7530e-01],\\n          [ 3.4355e-01, -3.5514e-01, -4.6701e-01, -2.1337e-01],\\n          [-3.9775e-01, -2.7908e-01, -2.8464e-02, -3.2193e-01]],\\n\\n         [[-2.1223e-01, -2.6200e-01,  7.6167e-01,  2.2395e-01],\\n          [ 8.5352e-01,  1.1263e-01,  9.6304e-01, -1.6388e-01],\\n          [ 4.8814e-01, -2.7840e-01,  3.5273e-01,  4.5840e-01],\\n          [ 7.7335e-01,  8.4571e-01,  5.5758e-01, -6.8383e-01]],\\n\\n         [[ 7.9317e-01, -4.6833e-01,  7.9217e-02,  2.0346e-02],\\n          [-3.4113e-01, -3.8506e-02,  2.1293e-01, -2.7897e-01],\\n          [-6.4834e-02,  1.2388e-01, -9.4515e-01, -2.5996e-01],\\n          [-1.7428e-01, -6.0633e-01,  2.6964e-01, -5.9071e-01]]]]).numpy\u001b[0m\n",
      "\u001b[1m\u001b[31mE        +        where tensor([[[[ 1.1328e+00,  2.1115e-01,  3.2815e-01, -2.9430e-01],\\n          [ 8.6497e-01,  8.4876e-01, -1.3414e-01, -1.8178e-01],\\n          [ 7.1820e-01,  1.7892e-01,  5.1380e-01,  5.0397e-01],\\n          [ 3.4840e-01, -2.3175e-01,  9.5235e-02, -2.3708e-02]],\\n\\n         [[-1.0353e-01, -2.8052e-01, -1.0688e+00, -6.2013e-01],\\n          [ 2.5996e-01,  4.4926e-01,  5.8009e-01,  4.7646e-01],\\n          [ 7.5641e-01,  1.0185e+00,  7.6306e-01,  5.7859e-01],\\n          [ 7.7287e-01,  1.4609e-01,  6.3806e-01,  2.6922e-01]],\\n\\n         [[ 7.3731e-01,  6.3796e-01,  4.8584e-01,  1.4479e-01],\\n          [ 9.8360e-01,  6.7799e-01,  5.6665e-01,  6.7441e-01],\\n          [ 6.2054e-01,  5.6616e-01,  5.5573e-01,  2.7042e-01],\\n          [ 3.9021e-01,  2.1518e-02, -3.0009e-02,  6.2472e-01]],\\n\\n         ...,\\n\\n         [[-1.8225e-01, -4.1907e-01, -6.9778e-01, -3.5318e-01],\\n          [ 1.3152e-02, -4.7525e-01,  3.4559e-01,  5.7020e-02],\\n          [-3.0725e-01, -2.6807e-01,  7.5777e-03,  5.2009e-02],\\n          [-1.7795e-01, -4.1597e-01,  4.5274e-01, -6.1822e-02]],\\n\\n         [[ 4.1379e-01,  1.3513e-01, -1.2919e-01,  5.3184e-01],\\n          [ 1.2155e+00,  9.5675e-02,  1.0671e-01, -6.6989e-03],\\n          [ 1.4876e+00,...50e-01,  6.7576e-01],\\n          [-4.3260e-01,  1.5645e+00,  5.8104e-01,  1.0303e+00],\\n          [ 3.1491e-01,  2.0707e-01, -1.4859e-01,  2.8729e-01]],\\n\\n         [[ 4.0328e-01,  7.6685e-01,  3.8708e-01, -7.6053e-02],\\n          [ 9.3904e-01,  1.2781e+00, -5.1079e-01,  5.2053e-01],\\n          [ 7.5930e-01,  7.4942e-01, -4.3756e-01,  8.0201e-01],\\n          [-1.8140e-01,  4.7959e-01,  4.7480e-01,  2.3010e-01]],\\n\\n         ...,\\n\\n         [[-7.2812e-01,  9.5634e-02,  2.0722e-01,  1.1661e-02],\\n          [-2.3787e-01,  3.9626e-01, -4.2256e-01,  2.7530e-01],\\n          [ 3.4355e-01, -3.5514e-01, -4.6701e-01, -2.1337e-01],\\n          [-3.9775e-01, -2.7908e-01, -2.8464e-02, -3.2193e-01]],\\n\\n         [[-2.1223e-01, -2.6200e-01,  7.6167e-01,  2.2395e-01],\\n          [ 8.5352e-01,  1.1263e-01,  9.6304e-01, -1.6388e-01],\\n          [ 4.8814e-01, -2.7840e-01,  3.5273e-01,  4.5840e-01],\\n          [ 7.7335e-01,  8.4571e-01,  5.5758e-01, -6.8383e-01]],\\n\\n         [[ 7.9317e-01, -4.6833e-01,  7.9217e-02,  2.0346e-02],\\n          [-3.4113e-01, -3.8506e-02,  2.1293e-01, -2.7897e-01],\\n          [-6.4834e-02,  1.2388e-01, -9.4515e-01, -2.5996e-01],\\n          [-1.7428e-01, -6.0633e-01,  2.6964e-01, -5.9071e-01]]]]) = tensor([[[[ 1.1328e+00,  2.1115e-01,  3.2815e-01, -2.9430e-01],\\n          [ 8.6497e-01,  8.4876e-01, -1.3414e-01, -1.8178e-01],\\n          [ 7.1820e-01,  1.7892e-01,  5.1380e-01,  5.0397e-01],\\n          [ 3.4840e-01, -2.3175e-01,  9.5235e-02, -2.3708e-02]],\\n\\n         [[-1.0353e-01, -2.8052e-01, -1.0688e+00, -6.2013e-01],\\n          [ 2.5996e-01,  4.4926e-01,  5.8009e-01,  4.7646e-01],\\n          [ 7.5641e-01,  1.0185e+00,  7.6306e-01,  5.7859e-01],\\n          [ 7.7287e-01,  1.4609e-01,  6.3806e-01,  2.6922e-01]],\\n\\n         [[ 7.3731e-01,  6.3796e-01,  4.8584e-01,  1.4479e-01],\\n          [ 9.8360e-01,  6.7799e-01,  5.6665e-01,  6.7441e-01],\\n          [ 6.2054e-01,  5.6616e-01,  5.5573e-01,  2.7042e-01],\\n          [ 3.9021e-01,  2.1518e-02, -3.0009e-02,  6.2472e-01]],\\n\\n         ...,\\n\\n         [[-1.8225e-01, -4.1907e-01, -6.9778e-01, -3.5318e-01],\\n          [ 1.3152e-02, -4.7525e-01,  3.4559e-01,  5.7020e-02],\\n          [-3.0725e-01, -2.6807e-01,  7.5777e-03,  5.2009e-02],\\n          [-1.7795e-01, -4.1597e-01,  4.5274e-01, -6.1822e-02]],\\n\\n         [[ 4.1379e-01,  1.3513e-01, -1.2919e-01,  5.3184e-01],\\n          [ 1.2155e+00,  9.5675e-02,  1.0671e-01, -6.6989e-03],\\n          [ 1.4876e+00,...0e-01,  1.5645e+00,  5.8104e-01,  1.0303e+00],\\n          [ 3.1491e-01,  2.0707e-01, -1.4859e-01,  2.8729e-01]],\\n\\n         [[ 4.0328e-01,  7.6685e-01,  3.8708e-01, -7.6053e-02],\\n          [ 9.3904e-01,  1.2781e+00, -5.1079e-01,  5.2053e-01],\\n          [ 7.5930e-01,  7.4942e-01, -4.3756e-01,  8.0201e-01],\\n          [-1.8140e-01,  4.7959e-01,  4.7480e-01,  2.3010e-01]],\\n\\n         ...,\\n\\n         [[-7.2812e-01,  9.5634e-02,  2.0722e-01,  1.1661e-02],\\n          [-2.3787e-01,  3.9626e-01, -4.2256e-01,  2.7530e-01],\\n          [ 3.4355e-01, -3.5514e-01, -4.6701e-01, -2.1337e-01],\\n          [-3.9775e-01, -2.7908e-01, -2.8464e-02, -3.2193e-01]],\\n\\n         [[-2.1223e-01, -2.6200e-01,  7.6167e-01,  2.2395e-01],\\n          [ 8.5352e-01,  1.1263e-01,  9.6304e-01, -1.6388e-01],\\n          [ 4.8814e-01, -2.7840e-01,  3.5273e-01,  4.5840e-01],\\n          [ 7.7335e-01,  8.4571e-01,  5.5758e-01, -6.8383e-01]],\\n\\n         [[ 7.9317e-01, -4.6833e-01,  7.9217e-02,  2.0346e-02],\\n          [-3.4113e-01, -3.8506e-02,  2.1293e-01, -2.7897e-01],\\n          [-6.4834e-02,  1.2388e-01, -9.4515e-01, -2.5996e-01],\\n          [-1.7428e-01, -6.0633e-01,  2.6964e-01, -5.9071e-01]]]],\\n       grad_fn=<ConvolutionBackward0>).data\u001b[0m\n",
      "\u001b[1m\u001b[31mE        +          where tensor([[[[ 1.1328e+00,  2.1115e-01,  3.2815e-01, -2.9430e-01],\\n          [ 8.6497e-01,  8.4876e-01, -1.3414e-01, -1.8178e-01],\\n          [ 7.1820e-01,  1.7892e-01,  5.1380e-01,  5.0397e-01],\\n          [ 3.4840e-01, -2.3175e-01,  9.5235e-02, -2.3708e-02]],\\n\\n         [[-1.0353e-01, -2.8052e-01, -1.0688e+00, -6.2013e-01],\\n          [ 2.5996e-01,  4.4926e-01,  5.8009e-01,  4.7646e-01],\\n          [ 7.5641e-01,  1.0185e+00,  7.6306e-01,  5.7859e-01],\\n          [ 7.7287e-01,  1.4609e-01,  6.3806e-01,  2.6922e-01]],\\n\\n         [[ 7.3731e-01,  6.3796e-01,  4.8584e-01,  1.4479e-01],\\n          [ 9.8360e-01,  6.7799e-01,  5.6665e-01,  6.7441e-01],\\n          [ 6.2054e-01,  5.6616e-01,  5.5573e-01,  2.7042e-01],\\n          [ 3.9021e-01,  2.1518e-02, -3.0009e-02,  6.2472e-01]],\\n\\n         ...,\\n\\n         [[-1.8225e-01, -4.1907e-01, -6.9778e-01, -3.5318e-01],\\n          [ 1.3152e-02, -4.7525e-01,  3.4559e-01,  5.7020e-02],\\n          [-3.0725e-01, -2.6807e-01,  7.5777e-03,  5.2009e-02],\\n          [-1.7795e-01, -4.1597e-01,  4.5274e-01, -6.1822e-02]],\\n\\n         [[ 4.1379e-01,  1.3513e-01, -1.2919e-01,  5.3184e-01],\\n          [ 1.2155e+00,  9.5675e-02,  1.0671e-01, -6.6989e-03],\\n          [ 1.4876e+00,...0e-01,  1.5645e+00,  5.8104e-01,  1.0303e+00],\\n          [ 3.1491e-01,  2.0707e-01, -1.4859e-01,  2.8729e-01]],\\n\\n         [[ 4.0328e-01,  7.6685e-01,  3.8708e-01, -7.6053e-02],\\n          [ 9.3904e-01,  1.2781e+00, -5.1079e-01,  5.2053e-01],\\n          [ 7.5930e-01,  7.4942e-01, -4.3756e-01,  8.0201e-01],\\n          [-1.8140e-01,  4.7959e-01,  4.7480e-01,  2.3010e-01]],\\n\\n         ...,\\n\\n         [[-7.2812e-01,  9.5634e-02,  2.0722e-01,  1.1661e-02],\\n          [-2.3787e-01,  3.9626e-01, -4.2256e-01,  2.7530e-01],\\n          [ 3.4355e-01, -3.5514e-01, -4.6701e-01, -2.1337e-01],\\n          [-3.9775e-01, -2.7908e-01, -2.8464e-02, -3.2193e-01]],\\n\\n         [[-2.1223e-01, -2.6200e-01,  7.6167e-01,  2.2395e-01],\\n          [ 8.5352e-01,  1.1263e-01,  9.6304e-01, -1.6388e-01],\\n          [ 4.8814e-01, -2.7840e-01,  3.5273e-01,  4.5840e-01],\\n          [ 7.7335e-01,  8.4571e-01,  5.5758e-01, -6.8383e-01]],\\n\\n         [[ 7.9317e-01, -4.6833e-01,  7.9217e-02,  2.0346e-02],\\n          [-3.4113e-01, -3.8506e-02,  2.1293e-01, -2.7897e-01],\\n          [-6.4834e-02,  1.2388e-01, -9.4515e-01, -2.5996e-01],\\n          [-1.7428e-01, -6.0633e-01,  2.6964e-01, -5.9071e-01]]]],\\n       grad_fn=<ConvolutionBackward0>) = Conv2d(8, 16, kernel_size=(3, 3), stride=(1, 1), padding=(1, 1))(tensor([[[[7.9869e-01, 9.2346e-01, 2.9915e-01, 3.8840e-01],\\n          [4.8627e-01, 5.8815e-01, 9.8385e-01, 6.9733e-01],\\n          [3.8955e-01, 2.6377e-01, 9.4463e-01, 1.3555e-01],\\n          [7.2027e-01, 9.2540e-01, 6.6467e-01, 4.2305e-01]],\\n\\n         [[1.9899e-01, 3.6748e-01, 7.0687e-01, 6.4953e-01],\\n          [9.2798e-01, 8.6686e-01, 8.1615e-01, 9.1145e-01],\\n          [2.7634e-01, 3.6952e-01, 3.7989e-01, 5.6045e-01],\\n          [6.6822e-01, 2.8672e-01, 1.9462e-02, 3.9922e-01]],\\n\\n         [[3.0853e-01, 9.4218e-01, 8.8827e-01, 8.6031e-01],\\n          [6.5300e-01, 3.4429e-01, 5.4885e-01, 8.1523e-01],\\n          [9.8610e-02, 8.0107e-01, 4.1180e-02, 8.1642e-01],\\n          [8.0756e-01, 5.1007e-02, 6.2716e-01, 5.0245e-01]],\\n\\n         ...,\\n\\n         [[9.7176e-01, 3.6384e-01, 7.8792e-01, 5.5529e-01],\\n          [3.9563e-01, 9.5547e-01, 5.9832e-01, 1.1892e-01],\\n          [4.1754e-01, 7.8158e-01, 6.9375e-01, 9.1634e-01],\\n          [2.5938e-01, 7.5819e-01, 4.5988e-01, 5.7361e-01]],\\n\\n         [[9.5505e-01, 9.7929e-01, 8.6159e-01, 3.5910e-01],\\n          [8.8770e-01, 6.3861e-01, 4.3000e-01, 3.5743e-02],\\n          [7.7013e-01, 5.0211e-01, 7.8619e-01, 7.4802e-01],\\n          [7.9357e-01, 3.0065e-01, ...250e-02, 3.6612e-01, 8.9264e-01],\\n          [8.4438e-02, 1.6548e-01, 6.2542e-01, 6.2279e-01],\\n          [8.3823e-01, 9.3549e-01, 1.4199e-01, 2.5937e-01],\\n          [4.2746e-01, 9.0329e-04, 6.9814e-02, 2.2649e-01]],\\n\\n         [[4.8110e-01, 2.5152e-01, 8.7668e-01, 3.2427e-01],\\n          [9.2462e-01, 9.7479e-01, 4.4986e-01, 2.2713e-01],\\n          [2.9167e-01, 7.7633e-01, 2.7335e-01, 3.8058e-01],\\n          [4.7858e-01, 5.7511e-01, 9.9610e-01, 2.3221e-01]],\\n\\n         ...,\\n\\n         [[8.8668e-01, 8.3091e-01, 3.1605e-02, 5.6842e-01],\\n          [6.0916e-01, 9.6158e-01, 2.3237e-02, 5.3110e-01],\\n          [2.0478e-01, 5.3663e-02, 5.8749e-01, 7.7260e-01],\\n          [7.7487e-01, 3.0288e-02, 4.0695e-01, 4.4510e-02]],\\n\\n         [[2.4784e-01, 1.9288e-01, 2.1518e-01, 3.3912e-01],\\n          [2.7742e-01, 9.6228e-01, 3.5241e-01, 8.9417e-01],\\n          [1.8104e-01, 7.6375e-01, 6.1346e-02, 4.6276e-01],\\n          [5.5104e-03, 8.1029e-01, 9.5049e-01, 3.5107e-02]],\\n\\n         [[9.3385e-01, 7.7385e-01, 3.5886e-01, 9.0888e-01],\\n          [2.9626e-01, 4.0930e-01, 9.6711e-02, 6.5694e-01],\\n          [2.9601e-02, 4.8491e-01, 6.8319e-01, 8.2124e-01],\\n          [1.4994e-01, 7.5409e-01, 7.1908e-01, 5.5957e-01]]]]))\u001b[0m\n",
      "\n",
      "cin        = 8\n",
      "cout       = 16\n",
      "device     = cpu()\n",
      "f          = <needle.nn.Conv object at 0x7f8e44be1d00>\n",
      "g          = Conv2d(8, 16, kernel_size=(3, 3), stride=(1, 1), padding=(1, 1))\n",
      "k          = 3\n",
      "s          = 4\n",
      "stride     = 1\n",
      "torch      = <module 'torch' from '/home/ubuntu/anaconda3/envs/mlsys_hw/lib/python3.8/site-packages/torch/__init__.py'>\n",
      "x          = needle.Tensor([[[[7.98689246e-01 9.23455536e-01 2.99153656e-01 3.88404131e-01]\n",
      "   [4.86272097e-01 5.88151455e-01 9.838...e-02 4.84905273e-01 6.83191836e-01 8.21237624e-01]\n",
      "   [1.49941385e-01 7.54090369e-01 7.19077051e-01 5.59570551e-01]]]])\n",
      "z          = tensor([[[[7.9869e-01, 9.2346e-01, 2.9915e-01, 3.8840e-01],\n",
      "          [4.8627e-01, 5.8815e-01, 9.8385e-01, 6.9733e-01]...       [2.9601e-02, 4.8491e-01, 6.8319e-01, 8.2124e-01],\n",
      "          [1.4994e-01, 7.5409e-01, 7.1908e-01, 5.5957e-01]]]])\n",
      "\n",
      "\u001b[1m\u001b[31mtests/test_conv.py\u001b[0m:357: AssertionError\n",
      "----------------------------- Captured stdout call -----------------------------\n",
      "out channel: 16\n",
      "original shape: (10, 8, 4, 4)\n",
      "pad: 1\n",
      "matmul tiled...\n",
      "\n",
      "\n",
      "\n",
      "\n",
      "\n",
      "\n",
      "\n",
      "\n",
      "\n",
      "\n",
      "\n",
      "\n",
      "\n",
      "\n",
      "\n",
      "\n",
      "\n",
      "\n",
      "\n",
      "output shape: (10, 16, 4, 4)\n",
      "b shape: (16,)\n",
      "b broadcast shape: (10, 16, 4, 4)\n",
      "\u001b[36m\u001b[1m=========================== short test summary info ============================\u001b[0m\n",
      "\u001b[31mFAILED\u001b[0m tests/test_conv.py::\u001b[1mtest_nn_conv_forward[needle.backend_ndarray.ndarray_backend_cpu-4-8-16-3-1]\u001b[0m - AssertionError: assert 4.598761 < 0.001\n",
      "\u001b[31m====================== \u001b[31m\u001b[1m1 failed\u001b[0m, \u001b[33m1802 deselected\u001b[0m\u001b[31m in 1.37s\u001b[0m\u001b[31m ======================\u001b[0m\n"
     ]
    }
   ],
   "source": [
    "#!python3 -m pytest -l -v -k \"nn_conv_forward\"\n",
    "\n",
    "!python3 -m pytest -l -v -k \"test_nn_conv_forward[needle.backend_ndarray.ndarray_backend_cpu-4-8-16-3-1]\""
   ]
  },
  {
   "cell_type": "code",
   "execution_count": null,
   "metadata": {},
   "outputs": [],
   "source": [
    "!python3 -m pytest -l -v -k \"nn_conv_backward\""
   ]
  },
  {
   "cell_type": "markdown",
   "metadata": {},
   "source": [
    "-----------------"
   ]
  },
  {
   "cell_type": "markdown",
   "metadata": {},
   "source": [
    "### Submit nn.Conv to mugrade [20 points]"
   ]
  },
  {
   "cell_type": "code",
   "execution_count": null,
   "metadata": {},
   "outputs": [],
   "source": [
    "!python3 -m mugrade submit \"YOUR KEY HERE\" -k \"conv_forward\""
   ]
  },
  {
   "cell_type": "code",
   "execution_count": null,
   "metadata": {},
   "outputs": [],
   "source": [
    "!python3 -m mugrade submit \"YOUR KEY HERE\" -k \"conv_backward\""
   ]
  },
  {
   "cell_type": "markdown",
   "metadata": {},
   "source": [
    "------------------------------------------------"
   ]
  },
  {
   "cell_type": "markdown",
   "metadata": {
    "tags": []
   },
   "source": [
    "### Implementing \"ResNet9\""
   ]
  },
  {
   "cell_type": "markdown",
   "metadata": {},
   "source": [
    "You will now use your convolutional layer to implement a model similar to _ResNet9_, which is known to be a reasonable model for getting good accuracy on CIFAR-10 quickly (see [here](https://github.com/davidcpage/cifar10-fast)). Our main change is that we used striding instead of pooling and divided all of the channels by 4 for the sake of performance (as our framework is not as well-optimized as industry-grade frameworks).\n",
    "\n",
    "In the figure below, before the linear layer, you should \"flatten\" the tensor. We have added a module called `Flatten` in `nn.py` that you can complete and use, or you can simply use `.reshape` in the `forward()` method of your ResNet9.\n",
    "\n",
    "Make sure that you pass the device to all modules in your model; otherwise, you will get errors about mismatched devices when trying to run with CUDA.\n",
    "\n",
    "<center><img src=\"https://github.com/dlsyscourse/hw4/blob/main/ResNet9.png?raw=true\" alt=\"ResNet9\" style=\"width: 400px;\" /></center>\n",
    "\n",
    "We have tried to make it easier to pass the tests here than for previous assignments where you have implemented models. In particular, we are just going to make sure it has the right number of parameters and similar accuracy and loss after 1 or 2 batches of CIFAR-10."
   ]
  },
  {
   "cell_type": "code",
   "execution_count": null,
   "metadata": {
    "tags": []
   },
   "outputs": [],
   "source": [
    "!python3 -m pytest -l -v -k \"resnet9\""
   ]
  },
  {
   "cell_type": "markdown",
   "metadata": {},
   "source": [
    "### Submit ResNet9 to mugrade [10 points]"
   ]
  },
  {
   "cell_type": "code",
   "execution_count": null,
   "metadata": {},
   "outputs": [],
   "source": [
    "!python3 -m mugrade submit \"YOUR KEY HERE\" -k \"resnet9\""
   ]
  },
  {
   "cell_type": "markdown",
   "metadata": {},
   "source": [
    "-----------------"
   ]
  },
  {
   "cell_type": "markdown",
   "metadata": {},
   "source": [
    "Now, you can train your model on CIFAR-10 using the following code. Note that this is likely going to be quite slow, and also  not all that accurate due to the lack of data augmentation. You should expect it to take around 500s per epoch."
   ]
  },
  {
   "cell_type": "code",
   "execution_count": null,
   "metadata": {},
   "outputs": [],
   "source": [
    "import sys\n",
    "sys.path.append('./python')\n",
    "sys.path.append('./apps')\n",
    "import needle as ndl\n",
    "from models import ResNet9\n",
    "from simple_training import train_cifar10, evaluate_cifar10\n",
    "\n",
    "device = ndl.cpu()\n",
    "dataset = ndl.data.CIFAR10Dataset(\"data/cifar-10-batches-py\", train=True)\n",
    "dataloader = ndl.data.DataLoader(\\\n",
    "         dataset=dataset,\n",
    "         batch_size=128,\n",
    "         shuffle=True,\n",
    "         collate_fn=ndl.data.collate_ndarray,\n",
    "         device=device,\n",
    "         dtype=\"float32\")\n",
    "model = ResNet9(device=device, dtype=\"float32\")\n",
    "train_cifar10(model, dataloader, n_epochs=10, optimizer=ndl.optim.Adam,\n",
    "      lr=0.001, weight_decay=0.001)\n",
    "evaluate_cifar10(model, dataloader)"
   ]
  },
  {
   "cell_type": "markdown",
   "metadata": {},
   "source": [
    "## Part 4: Recurrent neural network [10 points]\n",
    "\n",
    "**Note:** In the following sections, you may find yourself wanting to index into tensors, i.e., to use getitem or setitem. However, we have not implemented these for tensors in our library; instead, you should use `stack` and `split` operations.\n",
    "\n",
    "In `python/needle/nn.py`, implement `RNNCell`.\n",
    "\n",
    "$h^\\prime = \\text{tanh}(xW_{ih} + b_{ih} + hW_{hh} + b_{hh})$. If nonlinearity is 'relu', then ReLU is used in place of tanh.\n",
    "\n",
    "All weights and biases should be initialized from $\\mathcal{U}(-\\sqrt{k}, \\sqrt{k})$ where $k=\\frac{1}{\\text{hidden_size}}$.\n",
    "\n",
    "In `python/needle/nn.py`, implement `RNN`.\n",
    "\n",
    "For each element in the input sequence, each layer computes the following function:\n",
    "\n",
    "$h_t = \\text{tanh}(x_tW_{ih} + b_{ih} + h_{(t-1)}W_{hh} + b_{hh})$\n",
    "\n",
    "where $h_t$ is the hidden state at time $t$, $x_t$ is the input at time $t$, and $h_{(t-1)}$ is the hidden state of the previous layer at time $t-1$ or the initial hidden state at time $0$. If nonlinearity is 'relu', then ReLU is used in place of tanh.\n",
    "\n",
    "In a multi-layer RNN, the input $x_t^{(l)}$ of the $l$-th layer ($l \\ge 2$) is the hidden state $h_t^{(l-1)}$ of the previous layer. \n"
   ]
  },
  {
   "cell_type": "code",
   "execution_count": null,
   "metadata": {},
   "outputs": [],
   "source": [
    "!python3 -m pytest -l -v -k \"test_rnn\""
   ]
  },
  {
   "cell_type": "code",
   "execution_count": null,
   "metadata": {},
   "outputs": [],
   "source": [
    "!python3 -m mugrade submit \"YOUR KEY HERE\" -k \"rnn\""
   ]
  },
  {
   "cell_type": "markdown",
   "metadata": {},
   "source": [
    "## Part 5: Long short-term memory network [10 points]\n",
    "Implement - `Sigmoid`\n",
    "\n",
    "$\\sigma(x) = \\frac{1}{1 + \\text{exp}(-x)}$\n",
    "\n",
    "In `python/needle/nn.py`, implement `Sigmoid`, `LSTMCell` and `LSTM`.\n",
    "\n",
    "\\begin{align}\n",
    "i &= \\sigma(xW_{ii} + b_{ii} + hW_{hi} + b_{hi}) \\\\\n",
    "f &= \\sigma(xW_{if} + b_{if} + hW_{hf} + b_{hf}) \\\\\n",
    "g &= \\text{tanh}(xW_{ig} + b_{ig} + hW_{hg} + b_{hg}) \\\\\n",
    "o &= \\sigma(xW_{io} + b_{io} + hW_{ho} + b_{ho}) \\\\\n",
    "c^\\prime &= f * c + i * g \\\\\n",
    "h^\\prime &= o * \\text{tanh}(c^\\prime)\n",
    "\\end{align}\n",
    "\n",
    "where $\\sigma$ is the sigmoid function, and $i$, $f$, $g$, $o$ are the input, forget, cell, and output gates, respectively. \n",
    "\n",
    "All weights and biases should be initialized from $\\mathcal{U}(-\\sqrt{k}, \\sqrt{k})$ where $k=\\frac{1}{\\text{hidden_size}}$.\n",
    "\n",
    "Now implement `LSTM` in `python/needle/nn.py`, which applies a multi-layer LSTM RNN to an input sequence. For each element in the input sequence, each layer computes the following function:\n",
    "\n",
    "\\begin{align}\n",
    "i_t &= \\sigma(x_tW_{ii} + b_{ii} + h_{(t-1)}W_{hi} + b_{hi}) \\\\\n",
    "f_t &= \\sigma(x_tW_{if} + b_{if} + h_{(t-1)}W_{hf} + b_{hf}) \\\\\n",
    "g_t &= \\text{tanh}(x_tW_{ig} + b_{ig} + h_{(t-1)}W_{hg} + b_{hg}) \\\\\n",
    "o_t &= \\sigma(x_tW_{io} + b_{io} + h_{(t-1)}W_{ho} + b_{ho}) \\\\\n",
    "c_t &= f * c_{(t-1)} + i * g \\\\\n",
    "h_t &= o * \\text{tanh}(c_t)\n",
    "\\end{align},\n",
    "where $h_t$ is the hidden state at time $t$, $c_t$ is the cell state at time $t$, $x_t$ is the input at time $t$, $h_{(t-1)}$ is the hidden state of the layer at time $t-1$ or the initial hidden state at time $0$, and $i_t$, $f_t$, $g_t$, $o_t$ are the input, forget, cell, and output gates at time $t$ respectively. \n",
    "\n",
    "In a multi-layer LSTM, the input $x_t^{(l)}$ of the $l$-th layer ($l \\ge 2$) is the hidden state $h_t^{(l-1)}$ of the previous layer. "
   ]
  },
  {
   "cell_type": "code",
   "execution_count": null,
   "metadata": {},
   "outputs": [],
   "source": [
    "!python3 -m pytest -l -v -k \"test_lstm\""
   ]
  },
  {
   "cell_type": "code",
   "execution_count": null,
   "metadata": {},
   "outputs": [],
   "source": [
    "!python3 -m mugrade submit \"YOUR KEY HERE\" -k \"lstm\""
   ]
  },
  {
   "cell_type": "markdown",
   "metadata": {},
   "source": [
    "## Part 6: Penn Treebank dataset [10 points]\n",
    "\n",
    "In word-level language modeling tasks, the model predicts the probability of the next word in the sequence, based on the words already observed in the sequence. You will write support for the Penn Treebank dataset, which consists of stories from the Wall Street Journal, to train and evaluate a language model on word-level prediction.\n",
    "\n",
    "In `python/needle/data.py`, start by implementing the `Dictionary` class, which creates a dictionary from a list of words, mapping each word to a unique integer.\n",
    "\n",
    "Next, we will use this `Dictionary` class to create a corpus from the train and test txt files in the Penn Treebank dataset that you downloaded at the beginning of the notebook. Implement the `tokenize` function in the `Corpus` class to do this.\n",
    "\n",
    "In order to prepare the data for training and evaluation, you will next implement the `batchify` function. Starting from sequential data, batchify arranges the dataset into columns. For instance, with the alphabet as the sequence and batch size 4, we'd get\n",
    "\n",
    "```\n",
    "┌ a g m s ┐\n",
    "│ b h n t │\n",
    "│ c i o u │\n",
    "│ d j p v │\n",
    "│ e k q w │\n",
    "└ f l r x ┘\n",
    "```\n",
    "\n",
    "These columns are treated as independent by the model, which means that the dependence of e. g. 'g' on 'f' cannot be learned, but allows more efficient batch processing.\n",
    "\n",
    "Next, implement the `get_batch` function. `get_batch` subdivides the source data into chunks of length `bptt`. If source is equal to the example output of the batchify function, with a bptt-limit of 2, we'd get the following two Variables for i = 0:\n",
    "```\n",
    "┌ a g m s ┐ ┌ b h n t ┐\n",
    "└ b h n t ┘ └ c i o u ┘\n",
    "```\n",
    "Note that despite the name of the function, the subdivison of data is not done along the batch dimension (i.e. dimension 1), since that was handled by the batchify function. The chunks are along dimension 0, corresponding to the seq_len dimension in the LSTM or RNN."
   ]
  },
  {
   "cell_type": "code",
   "execution_count": null,
   "metadata": {},
   "outputs": [],
   "source": [
    "!python3 -m pytest -l -v -k \"ptb\""
   ]
  },
  {
   "cell_type": "code",
   "execution_count": null,
   "metadata": {},
   "outputs": [],
   "source": [
    "!python3 -m mugrade submit \"YOUR KEY HERE\" -k \"ptb\""
   ]
  },
  {
   "cell_type": "markdown",
   "metadata": {},
   "source": [
    "## Part 7: Training a word-level language model [10 points]\n",
    "\n",
    "Finally, you will use the `RNN` and `LSTM` components you have written to construct a language model that we will train on the Penn Treebank dataset.\n",
    "\n",
    "First, in `python/needle/nn.py` implement `Embedding`. Consider we have a dictionary with 1000 words. Then for a word which indexes into this dictionary, we can represent this word as a one-hot vector of size 1000, and then use a linear layer to project this to a vector of some embedding size.\n",
    "\n",
    "In `apps/models.py`, you can now implement `LanguageModel`. Your language model should consist of \n",
    "\n",
    "- An embedding layer (which maps word IDs to embeddings) \n",
    "- A sequence model (either RNN or LSTM)\n",
    "- A linear layer (which outputs probabilities of the next word)\n",
    "\n",
    "In `apps/simple_training.py` implement `epoch_general_ptb`, `train_ptb`, and `evaluate_ptb`."
   ]
  },
  {
   "cell_type": "code",
   "execution_count": null,
   "metadata": {},
   "outputs": [],
   "source": [
    "!python3 -m pytest -l -v -k \"language_model_implementation\""
   ]
  },
  {
   "cell_type": "code",
   "execution_count": null,
   "metadata": {},
   "outputs": [],
   "source": [
    "!python3 -m pytest -l -v -k \"language_model_training\""
   ]
  },
  {
   "cell_type": "code",
   "execution_count": null,
   "metadata": {},
   "outputs": [],
   "source": [
    "!python3 -m mugrade submit \"YOUR KEY HERE\" -k \"language_model\""
   ]
  },
  {
   "cell_type": "markdown",
   "metadata": {},
   "source": [
    "Now, you can train your language model on the Penn Treebank dataset:"
   ]
  },
  {
   "cell_type": "code",
   "execution_count": null,
   "metadata": {},
   "outputs": [],
   "source": [
    "import needle as ndl\n",
    "sys.path.append('./apps')\n",
    "from models import LanguageModel\n",
    "from simple_training import train_ptb, evaluate_ptb\n",
    "\n",
    "device = ndl.cpu()\n",
    "corpus = ndl.data.Corpus(\"data/ptb\")\n",
    "train_data = ndl.data.batchify(corpus.train, batch_size=16, device=ndl.cpu(), dtype=\"float32\")\n",
    "model = LanguageModel(30, len(corpus.dictionary), hidden_size=10, num_layers=2, seq_model='rnn', device=ndl.cpu())\n",
    "train_ptb(model, train_data, seq_len=1, n_epochs=1, device=device)\n",
    "evaluate_ptb(model, train_data, seq_len=40, device=device)"
   ]
  }
 ],
 "metadata": {
  "kernelspec": {
   "display_name": "Python 3 (ipykernel)",
   "language": "python",
   "name": "python3"
  },
  "language_info": {
   "codemirror_mode": {
    "name": "ipython",
    "version": 3
   },
   "file_extension": ".py",
   "mimetype": "text/x-python",
   "name": "python",
   "nbconvert_exporter": "python",
   "pygments_lexer": "ipython3",
   "version": "3.8.13"
  }
 },
 "nbformat": 4,
 "nbformat_minor": 4
}
