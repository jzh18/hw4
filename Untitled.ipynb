{
 "cells": [
  {
   "cell_type": "code",
   "execution_count": 1,
   "id": "4e0c32cf",
   "metadata": {},
   "outputs": [
    {
     "name": "stderr",
     "output_type": "stream",
     "text": [
      "/home/ubuntu/.local/lib/python3.8/site-packages/tqdm/auto.py:22: TqdmWarning: IProgress not found. Please update jupyter and ipywidgets. See https://ipywidgets.readthedocs.io/en/stable/user_install.html\n",
      "  from .autonotebook import tqdm as notebook_tqdm\n"
     ]
    }
   ],
   "source": [
    "import sys\n",
    "sys.path.append('./python')\n",
    "import numpy as np\n",
    "import pytest\n",
    "from needle import backend_ndarray as nd\n",
    "import needle as ndl\n",
    "import torch"
   ]
  },
  {
   "cell_type": "code",
   "execution_count": 2,
   "id": "766214a1",
   "metadata": {},
   "outputs": [],
   "source": [
    "device=ndl.cpu()\n",
    "class ConvBN(ndl.nn.Module):\n",
    "    def __init__(self, in_channels, out_channels, kernel_size, stride, device=None, dtype=\"float32\"):\n",
    "        super().__init__()\n",
    "        self.conv2d = ndl.nn.Conv(in_channels, out_channels,\n",
    "                              kernel_size, stride, device=device, dtype=dtype)\n",
    "        self.bn = ndl.nn.BatchNorm2d(dim=out_channels, device=device, dtype=dtype)\n",
    "        self.relu = ndl.nn.ReLU()\n",
    "\n",
    "\n",
    "    def forward(self, x):\n",
    "        x = self.conv2d(x)\n",
    "        x = self.bn(x)\n",
    "        x = self.relu(x)\n",
    "        return x"
   ]
  },
  {
   "cell_type": "code",
   "execution_count": 3,
   "id": "a6386954",
   "metadata": {},
   "outputs": [],
   "source": [
    "class TConvBN(torch.nn.Module):\n",
    "    def __init__(self, in_channels, out_channels, kernel_size, stride,conv2d):\n",
    "        super().__init__()\n",
    "        self.conv2d = torch.nn.Conv2d(in_channels, out_channels,\n",
    "                              kernel_size, stride,padding=kernel_size//2,bias=True)\n",
    "        self.conv2d.weight.data=torch.tensor(conv2d.weight.cached_data.numpy().transpose(3, 2, 0, 1))\n",
    "        self.conv2d.bias.data = torch.tensor(conv2d.bias.cached_data.numpy())\n",
    "        \n",
    "        self.bn = torch.nn.BatchNorm2d(out_channels)\n",
    "        self.relu = torch.nn.ReLU()\n",
    "        \n",
    "\n",
    "    def forward(self, x):\n",
    "        x = self.conv2d(x)\n",
    "        x = self.bn(x)\n",
    "        x = self.relu(x)\n",
    "        return x"
   ]
  },
  {
   "cell_type": "code",
   "execution_count": 4,
   "id": "b7055109",
   "metadata": {},
   "outputs": [
    {
     "data": {
      "text/plain": [
       "needle.Tensor([[[[ 0.75736135  0.89700323  0.848133    1.0381808 ]\n",
       "   [ 0.7298442   0.41487563  0.27324364  0.873259  ]\n",
       "   [ 0.11924335 -0.         -0.          0.8094602 ]\n",
       "   [-0.         -0.         -0.         -0.        ]]\n",
       "\n",
       "  [[-0.         -0.         -0.          0.2860784 ]\n",
       "   [-0.          0.09359764  0.36478877  1.0603433 ]\n",
       "   [-0.          1.1783613   1.4495523   1.9261669 ]\n",
       "   [-0.          0.18471105  0.32117173 -0.        ]]]])"
      ]
     },
     "execution_count": 4,
     "metadata": {},
     "output_type": "execute_result"
    }
   ],
   "source": [
    "_x=np.arange(16).reshape((1,1,4,4))\n",
    "ndl_cbn=ConvBN(1,2,3,1,device=device)\n",
    "ndl_x=ndl.Tensor(_x,device=device)\n",
    "my=ndl_cbn(ndl_x)\n",
    "my"
   ]
  },
  {
   "cell_type": "code",
   "execution_count": 5,
   "id": "39784313",
   "metadata": {},
   "outputs": [
    {
     "data": {
      "text/plain": [
       "tensor([[[[0.7574, 0.8970, 0.8481, 1.0382],\n",
       "          [0.7298, 0.4149, 0.2732, 0.8733],\n",
       "          [0.1192, 0.0000, 0.0000, 0.8095],\n",
       "          [0.0000, 0.0000, 0.0000, 0.0000]],\n",
       "\n",
       "         [[0.0000, 0.0000, 0.0000, 0.2861],\n",
       "          [0.0000, 0.0936, 0.3648, 1.0603],\n",
       "          [0.0000, 1.1784, 1.4496, 1.9262],\n",
       "          [0.0000, 0.1847, 0.3212, 0.0000]]]], grad_fn=<ReluBackward0>)"
      ]
     },
     "execution_count": 5,
     "metadata": {},
     "output_type": "execute_result"
    }
   ],
   "source": [
    "torch_cbn=TConvBN(1,2,3,1,ndl_cbn.conv2d)\n",
    "torch_x=torch.Tensor(_x).float()\n",
    "expected=torch_cbn(torch_x)\n",
    "\n",
    "expected\n"
   ]
  },
  {
   "cell_type": "code",
   "execution_count": 6,
   "id": "176b6885",
   "metadata": {},
   "outputs": [],
   "source": [
    "_out_grad=np.arange(32).reshape((1,2,4,4))*1.0\n",
    "ndl_out_grad=ndl.Tensor(_out_grad,device=device)\n",
    "my.backward(ndl_out_grad)"
   ]
  },
  {
   "cell_type": "code",
   "execution_count": 7,
   "id": "043c5109",
   "metadata": {},
   "outputs": [],
   "source": [
    "\n",
    "torch_out_grad=torch.Tensor(_out_grad).float()\n",
    "expected.backward(torch_out_grad)"
   ]
  },
  {
   "cell_type": "code",
   "execution_count": 8,
   "id": "1f235827",
   "metadata": {},
   "outputs": [
    {
     "data": {
      "text/plain": [
       "array([ 28.311852, 173.95998 ], dtype=float32)"
      ]
     },
     "execution_count": 8,
     "metadata": {},
     "output_type": "execute_result"
    }
   ],
   "source": [
    "ndl_cbn.bn.weight.grad.cached_data.numpy()"
   ]
  },
  {
   "cell_type": "code",
   "execution_count": 9,
   "id": "187fc265",
   "metadata": {},
   "outputs": [
    {
     "data": {
      "text/plain": [
       "tensor([ 28.3118, 173.9600])"
      ]
     },
     "execution_count": 9,
     "metadata": {},
     "output_type": "execute_result"
    }
   ],
   "source": [
    "torch_cbn.bn.weight.grad"
   ]
  },
  {
   "cell_type": "code",
   "execution_count": 10,
   "id": "39c3865e",
   "metadata": {},
   "outputs": [
    {
     "data": {
      "text/plain": [
       "array([ 47., 222.], dtype=float32)"
      ]
     },
     "execution_count": 10,
     "metadata": {},
     "output_type": "execute_result"
    }
   ],
   "source": [
    "ndl_cbn.bn.bias.grad.cached_data.numpy()"
   ]
  },
  {
   "cell_type": "code",
   "execution_count": 11,
   "id": "5fa616f3",
   "metadata": {},
   "outputs": [
    {
     "data": {
      "text/plain": [
       "tensor([ 47., 222.])"
      ]
     },
     "execution_count": 11,
     "metadata": {},
     "output_type": "execute_result"
    }
   ],
   "source": [
    "torch_cbn.bn.bias.grad"
   ]
  },
  {
   "cell_type": "code",
   "execution_count": 12,
   "id": "29a5be46",
   "metadata": {},
   "outputs": [
    {
     "data": {
      "text/plain": [
       "array([[[[  3.9622803 ,   6.703915  ,   0.23997876],\n",
       "         [  7.868072  ,  11.534679  ,  -0.5273287 ],\n",
       "         [  7.2350225 ,  12.793093  ,  -4.3036046 ]]],\n",
       "\n",
       "\n",
       "       [[[ 29.910803  ,  28.75649   ,  40.126316  ],\n",
       "         [ 45.330814  ,  36.103394  ,  49.36437   ],\n",
       "         [-30.765606  , -46.29395   , -26.087612  ]]]], dtype=float32)"
      ]
     },
     "execution_count": 12,
     "metadata": {},
     "output_type": "execute_result"
    }
   ],
   "source": [
    "ndl_cbn.conv2d.weight.grad.cached_data.numpy().transpose(3, 2, 0, 1)"
   ]
  },
  {
   "cell_type": "code",
   "execution_count": 13,
   "id": "31a4d7bf",
   "metadata": {},
   "outputs": [
    {
     "data": {
      "text/plain": [
       "tensor([[[[  3.9623,   6.7039,   0.2400],\n",
       "          [  7.8681,  11.5347,  -0.5273],\n",
       "          [  7.2350,  12.7931,  -4.3036]]],\n",
       "\n",
       "\n",
       "        [[[ 29.9108,  28.7565,  40.1263],\n",
       "          [ 45.3308,  36.1034,  49.3644],\n",
       "          [-30.7656, -46.2940, -26.0876]]]])"
      ]
     },
     "execution_count": 13,
     "metadata": {},
     "output_type": "execute_result"
    }
   ],
   "source": [
    "torch_cbn.conv2d.weight.grad"
   ]
  },
  {
   "cell_type": "code",
   "execution_count": 14,
   "id": "2dfec4f1",
   "metadata": {},
   "outputs": [
    {
     "data": {
      "text/plain": [
       "array([-2.9802322e-08, -9.5367432e-07], dtype=float32)"
      ]
     },
     "execution_count": 14,
     "metadata": {},
     "output_type": "execute_result"
    }
   ],
   "source": [
    "ndl_cbn.conv2d.bias.grad.cached_data.numpy()"
   ]
  },
  {
   "cell_type": "code",
   "execution_count": 15,
   "id": "9d88ae99",
   "metadata": {},
   "outputs": [
    {
     "data": {
      "text/plain": [
       "tensor([ 0.0000e+00, -1.2815e-06])"
      ]
     },
     "execution_count": 15,
     "metadata": {},
     "output_type": "execute_result"
    }
   ],
   "source": [
    "torch_cbn.conv2d.bias.grad"
   ]
  },
  {
   "cell_type": "code",
   "execution_count": null,
   "id": "23ef7804",
   "metadata": {},
   "outputs": [],
   "source": []
  },
  {
   "cell_type": "code",
   "execution_count": 16,
   "id": "950f0dc5",
   "metadata": {},
   "outputs": [],
   "source": [
    "out_channels=3\n",
    "ndl_bn = ndl.nn.BatchNorm2d(dim=out_channels, device=device)\n",
    "torch_bn=torch.nn.BatchNorm2d(out_channels)"
   ]
  },
  {
   "cell_type": "code",
   "execution_count": 17,
   "id": "5418758e",
   "metadata": {},
   "outputs": [
    {
     "data": {
      "text/plain": [
       "needle.Tensor([[[[-1.2288477 -1.0650014]\n",
       "   [-0.901155  -0.7373086]]\n",
       "\n",
       "  [[-1.2288477 -1.0650014]\n",
       "   [-0.901155  -0.7373086]]\n",
       "\n",
       "  [[-1.2288477 -1.0650014]\n",
       "   [-0.901155  -0.7373086]]]\n",
       "\n",
       "\n",
       " [[[ 0.7373086  0.901155 ]\n",
       "   [ 1.0650014  1.2288477]]\n",
       "\n",
       "  [[ 0.7373086  0.901155 ]\n",
       "   [ 1.0650014  1.2288477]]\n",
       "\n",
       "  [[ 0.7373086  0.901155 ]\n",
       "   [ 1.0650014  1.2288477]]]])"
      ]
     },
     "execution_count": 17,
     "metadata": {},
     "output_type": "execute_result"
    }
   ],
   "source": [
    "shape=(2,3,2,2)\n",
    "size=24\n",
    "_x=np.arange(size).reshape(shape)\n",
    "\n",
    "ndl_tensor=ndl.Tensor(_x,device=device)\n",
    "my=ndl_bn(ndl_tensor)\n",
    "my"
   ]
  },
  {
   "cell_type": "code",
   "execution_count": 18,
   "id": "bb54f5d6",
   "metadata": {},
   "outputs": [
    {
     "data": {
      "text/plain": [
       "tensor([[[[-1.2288, -1.0650],\n",
       "          [-0.9012, -0.7373]],\n",
       "\n",
       "         [[-1.2288, -1.0650],\n",
       "          [-0.9012, -0.7373]],\n",
       "\n",
       "         [[-1.2288, -1.0650],\n",
       "          [-0.9012, -0.7373]]],\n",
       "\n",
       "\n",
       "        [[[ 0.7373,  0.9012],\n",
       "          [ 1.0650,  1.2288]],\n",
       "\n",
       "         [[ 0.7373,  0.9012],\n",
       "          [ 1.0650,  1.2288]],\n",
       "\n",
       "         [[ 0.7373,  0.9012],\n",
       "          [ 1.0650,  1.2288]]]], grad_fn=<NativeBatchNormBackward0>)"
      ]
     },
     "execution_count": 18,
     "metadata": {},
     "output_type": "execute_result"
    }
   ],
   "source": [
    "torch_tensor=torch.Tensor(_x).float()\n",
    "expected=torch_bn(torch_tensor)\n",
    "expected"
   ]
  },
  {
   "cell_type": "code",
   "execution_count": 19,
   "id": "20a9707c",
   "metadata": {},
   "outputs": [],
   "source": [
    "_out_grad=np.arange(size).reshape((shape))*1.0\n",
    "ndl_out_grad=ndl.Tensor(_out_grad,device=device)\n",
    "my.backward(ndl_out_grad)"
   ]
  },
  {
   "cell_type": "code",
   "execution_count": 20,
   "id": "271244ed",
   "metadata": {},
   "outputs": [
    {
     "data": {
      "text/plain": [
       "needle.Tensor([48.826218 48.826218 48.826218])"
      ]
     },
     "execution_count": 20,
     "metadata": {},
     "output_type": "execute_result"
    }
   ],
   "source": [
    "ndl_bn.weight.grad"
   ]
  },
  {
   "cell_type": "code",
   "execution_count": 21,
   "id": "415b5d04",
   "metadata": {},
   "outputs": [
    {
     "data": {
      "text/plain": [
       "needle.Tensor([ 60.  92. 124.])"
      ]
     },
     "execution_count": 21,
     "metadata": {},
     "output_type": "execute_result"
    }
   ],
   "source": [
    "ndl_bn.bias.grad"
   ]
  },
  {
   "cell_type": "code",
   "execution_count": 22,
   "id": "20e0352a",
   "metadata": {},
   "outputs": [],
   "source": [
    "torch_out_grad=torch.Tensor(_out_grad).float()\n",
    "expected.backward(torch_out_grad)"
   ]
  },
  {
   "cell_type": "code",
   "execution_count": 23,
   "id": "354c8a28",
   "metadata": {},
   "outputs": [
    {
     "data": {
      "text/plain": [
       "tensor([48.8262, 48.8262, 48.8262])"
      ]
     },
     "execution_count": 23,
     "metadata": {},
     "output_type": "execute_result"
    }
   ],
   "source": [
    "torch_bn.weight.grad"
   ]
  },
  {
   "cell_type": "code",
   "execution_count": 24,
   "id": "046dfeda",
   "metadata": {},
   "outputs": [
    {
     "data": {
      "text/plain": [
       "tensor([ 60.,  92., 124.])"
      ]
     },
     "execution_count": 24,
     "metadata": {},
     "output_type": "execute_result"
    }
   ],
   "source": [
    "torch_bn.bias.grad"
   ]
  },
  {
   "cell_type": "code",
   "execution_count": null,
   "id": "2845c997",
   "metadata": {},
   "outputs": [],
   "source": []
  },
  {
   "cell_type": "code",
   "execution_count": null,
   "id": "f9eaa254",
   "metadata": {},
   "outputs": [],
   "source": []
  },
  {
   "cell_type": "code",
   "execution_count": null,
   "id": "7b69d3d2",
   "metadata": {},
   "outputs": [],
   "source": []
  },
  {
   "cell_type": "code",
   "execution_count": 25,
   "id": "41055991",
   "metadata": {},
   "outputs": [
    {
     "data": {
      "text/plain": [
       "torch.Size([1, 2, 3, 4])"
      ]
     },
     "execution_count": 25,
     "metadata": {},
     "output_type": "execute_result"
    }
   ],
   "source": [
    "a=np.ones((1,2,3,4))\n",
    "t=torch.Tensor(a)\n",
    "t.shape"
   ]
  },
  {
   "cell_type": "code",
   "execution_count": 26,
   "id": "881bb7ba",
   "metadata": {},
   "outputs": [
    {
     "data": {
      "text/plain": [
       "torch.Size([3, 2, 1, 4])"
      ]
     },
     "execution_count": 26,
     "metadata": {},
     "output_type": "execute_result"
    }
   ],
   "source": [
    "torch.transpose(t,0,2).shape"
   ]
  },
  {
   "cell_type": "code",
   "execution_count": 27,
   "id": "bf265dd6",
   "metadata": {},
   "outputs": [
    {
     "data": {
      "text/plain": [
       "torch.Size([2, 3, 1, 4])"
      ]
     },
     "execution_count": 27,
     "metadata": {},
     "output_type": "execute_result"
    }
   ],
   "source": [
    "a=torch.transpose(t,0,1)\n",
    "torch.transpose(a,1,2).shape"
   ]
  },
  {
   "cell_type": "code",
   "execution_count": null,
   "id": "8a3fbfaa",
   "metadata": {},
   "outputs": [],
   "source": []
  },
  {
   "cell_type": "markdown",
   "id": "68683e80",
   "metadata": {},
   "source": [
    "Linear()"
   ]
  },
  {
   "cell_type": "code",
   "execution_count": 28,
   "id": "47d0bef4",
   "metadata": {},
   "outputs": [],
   "source": [
    "h=4\n",
    "input_dim=3\n",
    "output_dim=2\n",
    "_a=np.arange(h*input_dim).reshape(h,input_dim)"
   ]
  },
  {
   "cell_type": "code",
   "execution_count": 29,
   "id": "8d167133",
   "metadata": {},
   "outputs": [],
   "source": [
    "ndl_x=ndl.Tensor(_a,device=device)\n",
    "ndl_linear=ndl.nn.Linear(input_dim,output_dim,device=device)\n",
    "my=ndl_linear(ndl_x)"
   ]
  },
  {
   "cell_type": "code",
   "execution_count": 30,
   "id": "4ae9022f",
   "metadata": {},
   "outputs": [
    {
     "data": {
      "text/plain": [
       "needle.Tensor([[ 1.2634137   0.02679551]\n",
       " [ 5.2322407   1.3438776 ]\n",
       " [ 9.201069    2.6609595 ]\n",
       " [13.169896    3.9780414 ]])"
      ]
     },
     "execution_count": 30,
     "metadata": {},
     "output_type": "execute_result"
    }
   ],
   "source": [
    "my"
   ]
  },
  {
   "cell_type": "code",
   "execution_count": 31,
   "id": "da4af318",
   "metadata": {},
   "outputs": [],
   "source": [
    "torch_x=torch.Tensor(_a)\n",
    "torch_linear=torch.nn.Linear(input_dim,output_dim)\n",
    "torch_linear.weight=torch.nn.Parameter(torch.tensor(ndl_linear.weight.cached_data.numpy().T))\n",
    "torch_linear.bias=torch.nn.Parameter(torch.tensor(ndl_linear.bias.cached_data.numpy()))\n",
    "expected=torch_linear(torch_x)"
   ]
  },
  {
   "cell_type": "code",
   "execution_count": 32,
   "id": "fbcb8a61",
   "metadata": {},
   "outputs": [
    {
     "data": {
      "text/plain": [
       "tensor([[ 1.2634,  0.0268],\n",
       "        [ 5.2322,  1.3439],\n",
       "        [ 9.2011,  2.6610],\n",
       "        [13.1699,  3.9780]], grad_fn=<AddmmBackward0>)"
      ]
     },
     "execution_count": 32,
     "metadata": {},
     "output_type": "execute_result"
    }
   ],
   "source": [
    "expected"
   ]
  },
  {
   "cell_type": "code",
   "execution_count": 33,
   "id": "93f43976",
   "metadata": {},
   "outputs": [],
   "source": [
    "class ResNet9(ndl.nn.Module):\n",
    "    def __init__(self, device=None, dtype=\"float32\"):\n",
    "        super().__init__()\n",
    "        ### BEGIN YOUR SOLUTION ###\n",
    "        self.cb1 = ConvBN(3, 16, 7, 4, device=device, dtype=dtype)\n",
    "        self.cb2 = ConvBN(16, 32, 3, 2, device=device, dtype=dtype)\n",
    "\n",
    "        self.cb3 = ConvBN(32, 32, 3, 1, device=device, dtype=dtype)\n",
    "        self.cb4 = ConvBN(32, 32, 3, 1, device=device, dtype=dtype)\n",
    "\n",
    "        self.cb5 = ConvBN(32, 64, 3, 2, device=device, dtype=dtype)\n",
    "        self.cb6 = ConvBN(64, 128, 3, 2, device=device, dtype=dtype)\n",
    "\n",
    "        self.cb7 = ConvBN(128, 128, 3, 1, device=device, dtype=dtype)\n",
    "        self.cb8 = ConvBN(128, 128, 3, 1, device=device, dtype=dtype)\n",
    "\n",
    "        self.linear1 = ndl.nn.Linear(128, 128, device=device, dtype=dtype)\n",
    "        self.relu = ndl.nn.ReLU()\n",
    "        self.linear2 = ndl.nn.Linear(128, 10, device=device, dtype=dtype)\n",
    "        # END YOUR SOLUTION\n",
    "\n",
    "    def forward(self, x):\n",
    "        # print(f'x shape: {x.shape}')  # (2, 3, 32, 32)\n",
    "        # BEGIN YOUR SOLUTION\n",
    "        x1 = self.cb1(x)  # (2, 16, 8, 8)\n",
    "        x2 = self.cb2(x1)  # (2, 32, 4, 4)\n",
    "        #print(f'x2 shape: {x2.shape}')\n",
    "\n",
    "        x3 = self.cb3(x2)  # (2, 32, 4, 4)\n",
    "        x4 = self.cb4(x3)  # (2, 32, 4, 4)\n",
    "        x4 = x4+x2  # (2, 32, 4, 4)\n",
    "        #print(f'x4 shape: {x4.shape}')\n",
    "\n",
    "        x5 = self.cb5(x4)  # (2, 64, 2, 2)\n",
    "        #print(f'x5 shape: {x5.shape}')\n",
    "        x6 = self.cb6(x5)  # (2, 128, 1, 1)\n",
    "        #print(f'x6 shape: {x6.shape}')\n",
    "\n",
    "        x7 = self.cb7(x6)  # (2,128,1,1)\n",
    "        x8 = self.cb8(x7)  # (2,128,1,1)\n",
    "        #print(f'x8 shape: {x8.shape}')\n",
    "        x8 = x8+x6\n",
    "\n",
    "        N, C, H, W = x8.shape\n",
    "        x8 = x8.reshape((N, C*H*W))  # (2,128)\n",
    "        x8 = self.linear1(x8)  # (2,128)\n",
    "        x8 = self.relu(x8)\n",
    "        x8 = self.linear2(x8)  # (2,10)\n",
    "\n",
    "        return x8\n",
    "        # END YOUR SOLUTION\n"
   ]
  },
  {
   "cell_type": "code",
   "execution_count": 34,
   "id": "1cd67527",
   "metadata": {},
   "outputs": [],
   "source": [
    "shape=(2,3,32,32)\n",
    "size=shape[0]*shape[1]*shape[2]*shape[3]\n",
    "_a=np.arange(size).reshape(shape)\n"
   ]
  },
  {
   "cell_type": "code",
   "execution_count": 35,
   "id": "fe061744",
   "metadata": {},
   "outputs": [],
   "source": [
    "class TorchResNet9(ndl.nn.Module):\n",
    "    def __init__(self, ndl_resnet,device=None, dtype=\"float32\"):\n",
    "        super().__init__()\n",
    "        ### BEGIN YOUR SOLUTION ###\n",
    "        self.cb1 = TConvBN(3, 16, 7, 4,ndl_resnet.cb1.conv2d)\n",
    "        self.cb2 = TConvBN(16, 32, 3, 2,ndl_resnet.cb2.conv2d)\n",
    "\n",
    "        self.cb3 = TConvBN(32, 32, 3, 1,ndl_resnet.cb3.conv2d)\n",
    "        self.cb4 = TConvBN(32, 32, 3, 1,ndl_resnet.cb4.conv2d)\n",
    "\n",
    "        self.cb5 = TConvBN(32, 64, 3, 2,ndl_resnet.cb5.conv2d)\n",
    "        self.cb6 = TConvBN(64, 128, 3, 2,ndl_resnet.cb6.conv2d)\n",
    "\n",
    "        self.cb7 = TConvBN(128, 128, 3, 1,ndl_resnet.cb7.conv2d)\n",
    "        self.cb8 = TConvBN(128, 128, 3, 1,ndl_resnet.cb8.conv2d)\n",
    "\n",
    "        self.linear1 = torch.nn.Linear(128, 128)\n",
    "        self.linear1.weight=torch.nn.Parameter(torch.tensor(ndl_resnet.linear1.weight.cached_data.numpy().T))\n",
    "        self.linear1.bias=torch.nn.Parameter(torch.tensor(ndl_resnet.linear1.bias.cached_data.numpy()))\n",
    "        \n",
    "        self.relu = torch.nn.ReLU()\n",
    "        self.linear2 = torch.nn.Linear(128, 10)\n",
    "        self.linear2.weight=torch.nn.Parameter(torch.tensor(ndl_resnet.linear2.weight.cached_data.numpy().T))\n",
    "        self.linear2.bias=torch.nn.Parameter(torch.tensor(ndl_resnet.linear2.bias.cached_data.numpy()))\n",
    "        # END YOUR SOLUTION\n",
    "\n",
    "    def forward(self, x):\n",
    "        # print(f'x shape: {x.shape}')  # (2, 3, 32, 32)\n",
    "        # BEGIN YOUR SOLUTION\n",
    "        x1 = self.cb1(x)  # (2, 16, 8, 8)\n",
    "        x2 = self.cb2(x1)  # (2, 32, 4, 4)\n",
    "        #print(f'x2 shape: {x2.shape}')\n",
    "\n",
    "        x3 = self.cb3(x2)  # (2, 32, 4, 4)\n",
    "        x4 = self.cb4(x3)  # (2, 32, 4, 4)\n",
    "        x4 = x4+x2  # (2, 32, 4, 4)\n",
    "        #print(f'x4 shape: {x4.shape}')\n",
    "\n",
    "        x5 = self.cb5(x4)  # (2, 64, 2, 2)\n",
    "        #print(f'x5 shape: {x5.shape}')\n",
    "        x6 = self.cb6(x5)  # (2, 128, 1, 1)\n",
    "        #print(f'x6 shape: {x6.shape}')\n",
    "\n",
    "        x7 = self.cb7(x6)  # (2,128,1,1)\n",
    "        x8 = self.cb8(x7)  # (2,128,1,1)\n",
    "        #print(f'x8 shape: {x8.shape}')\n",
    "        x8 = x8+x6\n",
    "\n",
    "        N, C, H, W = x8.shape\n",
    "        x8 = x8.reshape((N, C*H*W))  # (2,128)\n",
    "        x8 = self.linear1(x8)  # (2,128)\n",
    "        x8 = self.relu(x8)\n",
    "        x8 = self.linear2(x8)  # (2,10)\n",
    "\n",
    "        return x8\n",
    "        # END YOUR SOLUTION\n"
   ]
  },
  {
   "cell_type": "code",
   "execution_count": 36,
   "id": "17bafa4f",
   "metadata": {},
   "outputs": [],
   "source": [
    "ndl_x=ndl.Tensor(_a,device=device)\n",
    "model = ResNet9(device=device, dtype=\"float32\")\n",
    "ndl_output=model(ndl_x)"
   ]
  },
  {
   "cell_type": "code",
   "execution_count": 37,
   "id": "8f36e23e",
   "metadata": {
    "scrolled": false
   },
   "outputs": [],
   "source": [
    "torch_x=torch.tensor(_a).float()\n",
    "torch_model=TorchResNet9(model)\n",
    "torch_output=torch_model(torch_x)"
   ]
  },
  {
   "cell_type": "code",
   "execution_count": 38,
   "id": "92487a08",
   "metadata": {},
   "outputs": [],
   "source": [
    "_grad=np.arange(2*10).reshape(2,10)"
   ]
  },
  {
   "cell_type": "code",
   "execution_count": 39,
   "id": "0c2af963",
   "metadata": {},
   "outputs": [],
   "source": [
    "ndl_grad=ndl.Tensor(_grad,device=device)\n",
    "ndl_output.backward(ndl_grad)"
   ]
  },
  {
   "cell_type": "code",
   "execution_count": 40,
   "id": "24bc3cd3",
   "metadata": {},
   "outputs": [],
   "source": [
    "torch_grad=torch.tensor(_grad).float()\n",
    "torch_output.backward(torch_grad)"
   ]
  },
  {
   "cell_type": "code",
   "execution_count": 71,
   "id": "2db8932f",
   "metadata": {
    "scrolled": false
   },
   "outputs": [
    {
     "data": {
      "text/plain": [
       "13510.328"
      ]
     },
     "execution_count": 71,
     "metadata": {},
     "output_type": "execute_result"
    }
   ],
   "source": [
    "np.sum(model.linear2.weight.grad.cached_data.numpy())"
   ]
  },
  {
   "cell_type": "code",
   "execution_count": 70,
   "id": "c116b61e",
   "metadata": {
    "scrolled": false
   },
   "outputs": [
    {
     "data": {
      "text/plain": [
       "13510.289"
      ]
     },
     "execution_count": 70,
     "metadata": {},
     "output_type": "execute_result"
    }
   ],
   "source": [
    "np.sum(torch_model.linear2.weight.grad.data.numpy())"
   ]
  },
  {
   "cell_type": "code",
   "execution_count": 72,
   "id": "1fe6a899",
   "metadata": {},
   "outputs": [
    {
     "data": {
      "text/plain": [
       "-91421.86"
      ]
     },
     "execution_count": 72,
     "metadata": {},
     "output_type": "execute_result"
    }
   ],
   "source": [
    "np.sum(model.cb1.conv2d.weight.grad.cached_data.numpy())"
   ]
  },
  {
   "cell_type": "code",
   "execution_count": 73,
   "id": "1267ec60",
   "metadata": {},
   "outputs": [
    {
     "data": {
      "text/plain": [
       "-90477.23"
      ]
     },
     "execution_count": 73,
     "metadata": {},
     "output_type": "execute_result"
    }
   ],
   "source": [
    "np.sum(torch_model.cb1.conv2d.weight.grad.data.numpy())"
   ]
  },
  {
   "cell_type": "code",
   "execution_count": 79,
   "id": "327df976",
   "metadata": {},
   "outputs": [],
   "source": [
    "conv2d = torch.nn.Conv2d(3, 4,\n",
    "                      2,bias=True)"
   ]
  },
  {
   "cell_type": "code",
   "execution_count": 80,
   "id": "3bd8d74d",
   "metadata": {},
   "outputs": [
    {
     "data": {
      "text/plain": [
       "torch.Size([4, 3, 2, 2])"
      ]
     },
     "execution_count": 80,
     "metadata": {},
     "output_type": "execute_result"
    }
   ],
   "source": [
    "conv2d.weight.shape"
   ]
  },
  {
   "cell_type": "code",
   "execution_count": 81,
   "id": "4db23dd2",
   "metadata": {},
   "outputs": [],
   "source": [
    "ndl_conv2d=ndl.nn.Conv(3,4,2)"
   ]
  },
  {
   "cell_type": "code",
   "execution_count": 82,
   "id": "57cda414",
   "metadata": {},
   "outputs": [
    {
     "data": {
      "text/plain": [
       "(2, 2, 3, 4)"
      ]
     },
     "execution_count": 82,
     "metadata": {},
     "output_type": "execute_result"
    }
   ],
   "source": [
    "ndl_conv2d.weight.shape"
   ]
  },
  {
   "cell_type": "code",
   "execution_count": 84,
   "id": "6d933baf",
   "metadata": {},
   "outputs": [],
   "source": [
    "_a=np.array([\n",
    "    [0,0,0.9],\n",
    "    [0,0.5,0.2]\n",
    "])\n",
    "_y=np.array(\n",
    "[\n",
    "    0,1\n",
    "])"
   ]
  },
  {
   "cell_type": "code",
   "execution_count": 85,
   "id": "e5c0e919",
   "metadata": {},
   "outputs": [],
   "source": [
    "ndl_x=ndl.Tensor(_a,device=device)\n",
    "ndl_y=ndl.Tensor(_y,device=device)"
   ]
  },
  {
   "cell_type": "code",
   "execution_count": 86,
   "id": "f6d263c0",
   "metadata": {},
   "outputs": [],
   "source": [
    "ndl_loss=ndl.nn.SoftmaxLoss()"
   ]
  },
  {
   "cell_type": "code",
   "execution_count": 87,
   "id": "1ce935be",
   "metadata": {},
   "outputs": [
    {
     "data": {
      "text/plain": [
       "needle.Tensor(1.1741731)"
      ]
     },
     "execution_count": 87,
     "metadata": {},
     "output_type": "execute_result"
    }
   ],
   "source": [
    "ndl_loss(ndl_x,ndl_y)"
   ]
  },
  {
   "cell_type": "code",
   "execution_count": 88,
   "id": "22d20b1f",
   "metadata": {},
   "outputs": [],
   "source": [
    "torch_x=torch.tensor(_a)\n",
    "torch_y=torch.tensor(_y)\n",
    "torch_loss=torch.nn.CrossEntropyLoss()"
   ]
  },
  {
   "cell_type": "code",
   "execution_count": 89,
   "id": "8fc65a42",
   "metadata": {},
   "outputs": [
    {
     "data": {
      "text/plain": [
       "tensor(1.1742, dtype=torch.float64)"
      ]
     },
     "execution_count": 89,
     "metadata": {},
     "output_type": "execute_result"
    }
   ],
   "source": [
    "torch_loss(torch_x,torch_y)"
   ]
  },
  {
   "cell_type": "code",
   "execution_count": 4,
   "id": "4c15e382",
   "metadata": {},
   "outputs": [],
   "source": [
    "import torch.nn as nn\n",
    "rnn = nn.RNN(10, 20, 2) # input_size, hidden_size, num_layers\n",
    "input = torch.randn(5, 3, 10) # S,bs,input_size\n",
    "h0 = torch.randn(2, 3, 20) # num_layers,bs,hidden_size\n",
    "output, hn = rnn(input, h0)"
   ]
  },
  {
   "cell_type": "code",
   "execution_count": 5,
   "id": "80467044",
   "metadata": {},
   "outputs": [
    {
     "data": {
      "text/plain": [
       "torch.Size([5, 3, 20])"
      ]
     },
     "execution_count": 5,
     "metadata": {},
     "output_type": "execute_result"
    }
   ],
   "source": [
    "output.shape"
   ]
  },
  {
   "cell_type": "code",
   "execution_count": 6,
   "id": "b1a4f408",
   "metadata": {},
   "outputs": [
    {
     "data": {
      "text/plain": [
       "torch.Size([2, 3, 20])"
      ]
     },
     "execution_count": 6,
     "metadata": {},
     "output_type": "execute_result"
    }
   ],
   "source": [
    "hn.shape"
   ]
  },
  {
   "cell_type": "code",
   "execution_count": 8,
   "id": "4d5a8795",
   "metadata": {},
   "outputs": [
    {
     "data": {
      "text/plain": [
       "tensor([0.7311, 0.8808, 0.9526])"
      ]
     },
     "execution_count": 8,
     "metadata": {},
     "output_type": "execute_result"
    }
   ],
   "source": [
    "torch.sigmoid(torch.tensor([1,2,3]))"
   ]
  },
  {
   "cell_type": "code",
   "execution_count": 2,
   "id": "2f56b3e4",
   "metadata": {},
   "outputs": [
    {
     "data": {
      "text/plain": [
       "needle.Tensor([0.7310586  0.880797   0.95257413])"
      ]
     },
     "execution_count": 2,
     "metadata": {},
     "output_type": "execute_result"
    }
   ],
   "source": [
    "ndl.nn.Sigmoid()(ndl.Tensor([1,2,3]))"
   ]
  },
  {
   "cell_type": "code",
   "execution_count": 5,
   "id": "73f6deaa",
   "metadata": {},
   "outputs": [],
   "source": [
    "a=np.array([[1,2,3],[4,5,6]])"
   ]
  },
  {
   "cell_type": "code",
   "execution_count": 6,
   "id": "e0580868",
   "metadata": {},
   "outputs": [
    {
     "data": {
      "text/plain": [
       "array([1, 2, 3, 4, 5, 6])"
      ]
     },
     "execution_count": 6,
     "metadata": {},
     "output_type": "execute_result"
    }
   ],
   "source": [
    "a.reshape(6)"
   ]
  },
  {
   "cell_type": "code",
   "execution_count": 13,
   "id": "62e3720e",
   "metadata": {},
   "outputs": [
    {
     "data": {
      "text/plain": [
       "(2, 3, 4)"
      ]
     },
     "execution_count": 13,
     "metadata": {},
     "output_type": "execute_result"
    }
   ],
   "source": [
    "ndl.init.one_hot(4,ndl.Tensor(np.array([[0,1,1],[1,0,0]]))).shape"
   ]
  },
  {
   "cell_type": "code",
   "execution_count": 16,
   "id": "7891e449",
   "metadata": {},
   "outputs": [],
   "source": [
    "a=np.arange(24).reshape(4,3,2)"
   ]
  },
  {
   "cell_type": "code",
   "execution_count": 17,
   "id": "ba333d5c",
   "metadata": {},
   "outputs": [
    {
     "data": {
      "text/plain": [
       "(2, 5)"
      ]
     },
     "execution_count": 17,
     "metadata": {},
     "output_type": "execute_result"
    }
   ],
   "source": [
    "b=np.array([\n",
    "    [1,2,3,4,5],\n",
    "    [6,7,8,9,10]\n",
    "])\n",
    "b.shape"
   ]
  },
  {
   "cell_type": "code",
   "execution_count": 22,
   "id": "0cc4bcc8",
   "metadata": {},
   "outputs": [
    {
     "data": {
      "text/plain": [
       "(4, 3, 5)"
      ]
     },
     "execution_count": 22,
     "metadata": {},
     "output_type": "execute_result"
    }
   ],
   "source": [
    "c=a@b\n",
    "c.shape"
   ]
  },
  {
   "cell_type": "code",
   "execution_count": 25,
   "id": "f1257efc",
   "metadata": {},
   "outputs": [],
   "source": [
    "d=a.reshape(-1,2)@b"
   ]
  },
  {
   "cell_type": "code",
   "execution_count": 28,
   "id": "8f5d4bb1",
   "metadata": {},
   "outputs": [],
   "source": [
    "e=d.reshape(4,3,5)"
   ]
  },
  {
   "cell_type": "code",
   "execution_count": 29,
   "id": "4c3580ed",
   "metadata": {},
   "outputs": [
    {
     "data": {
      "text/plain": [
       "array([[[0, 0, 0, 0, 0],\n",
       "        [0, 0, 0, 0, 0],\n",
       "        [0, 0, 0, 0, 0]],\n",
       "\n",
       "       [[0, 0, 0, 0, 0],\n",
       "        [0, 0, 0, 0, 0],\n",
       "        [0, 0, 0, 0, 0]],\n",
       "\n",
       "       [[0, 0, 0, 0, 0],\n",
       "        [0, 0, 0, 0, 0],\n",
       "        [0, 0, 0, 0, 0]],\n",
       "\n",
       "       [[0, 0, 0, 0, 0],\n",
       "        [0, 0, 0, 0, 0],\n",
       "        [0, 0, 0, 0, 0]]])"
      ]
     },
     "execution_count": 29,
     "metadata": {},
     "output_type": "execute_result"
    }
   ],
   "source": [
    "c-e"
   ]
  },
  {
   "cell_type": "code",
   "execution_count": null,
   "id": "1f2411f0",
   "metadata": {},
   "outputs": [],
   "source": []
  }
 ],
 "metadata": {
  "kernelspec": {
   "display_name": "Python 3 (ipykernel)",
   "language": "python",
   "name": "python3"
  },
  "language_info": {
   "codemirror_mode": {
    "name": "ipython",
    "version": 3
   },
   "file_extension": ".py",
   "mimetype": "text/x-python",
   "name": "python",
   "nbconvert_exporter": "python",
   "pygments_lexer": "ipython3",
   "version": "3.8.13"
  }
 },
 "nbformat": 4,
 "nbformat_minor": 5
}
